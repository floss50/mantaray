{
 "cells": [
  {
   "cell_type": "code",
   "execution_count": null,
   "metadata": {},
   "outputs": [],
   "source": [
    "from azure.storage.common import CloudStorageAccount\n",
    "from azure.storage.blob import PublicAccess, BlockBlobService\n",
    "from azure.storage.blob.models import ContentSettings\n",
    "from azure.common.client_factory import get_client_from_cli_profile\n",
    "from azure.mgmt.storage import StorageManagementClient\n",
    "\n",
    "RESOURCE_GROUP = 'ocean-test-storage'\n",
    "STORAGE_ACCOUNT_NAME = 'oceanblob'\n",
    "CONTAINER_NAME = 'ocean-container'\n",
    "\n",
    "# log in\n",
    "storage_client = get_client_from_cli_profile(StorageManagementClient)\n",
    "\n",
    "# create a public storage container to hold the file\n",
    "storage_keys = storage_client.storage_accounts.list_keys(RESOURCE_GROUP, STORAGE_ACCOUNT_NAME)\n",
    "storage_keys = {v.key_name: v.value for v in storage_keys.keys}\n",
    "\n",
    "storage_client = CloudStorageAccount(STORAGE_ACCOUNT_NAME, storage_keys['key1'])\n",
    "blob_service = storage_client.create_block_blob_service()\n",
    "blob_service.create_container(CONTAINER_NAME, public_access=PublicAccess.Container)"
   ]
  },
  {
   "cell_type": "code",
   "execution_count": null,
   "metadata": {},
   "outputs": [],
   "source": [
    "FILE_NAME = 'hello-ocean.html'\n",
    "blob_service.create_blob_from_bytes(\n",
    "    CONTAINER_NAME,\n",
    "    FILE_NAME,\n",
    "    b'<center><h1> Surf the Ocean again! </h1></center>',\n",
    "    content_settings=ContentSettings('text/html')\n",
    ")\n",
    "\n",
    "print(blob_service.make_blob_url(CONTAINER_NAME, FILE_NAME))"
   ]
  },
  {
   "cell_type": "code",
   "execution_count": null,
   "metadata": {
    "lines_to_next_cell": 3
   },
   "outputs": [],
   "source": [
    "\n",
    "for blob in blob_service.list_blobs(CONTAINER_NAME):\n",
    "    print(blob.name)"
   ]
  }
 ],
 "metadata": {
  "jupytext": {
   "main_language": "python",
   "text_representation": {
    "extension": ".py",
    "format_name": "percent"
   }
  }
 },
 "nbformat": 4,
 "nbformat_minor": 2
}
