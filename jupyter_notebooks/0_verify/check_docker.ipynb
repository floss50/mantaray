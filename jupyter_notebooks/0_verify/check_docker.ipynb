{
 "cells": [
  {
   "cell_type": "markdown",
   "metadata": {},
   "source": [
    "\n",
    "<p><img src=\"https://oceanprotocol.com/static/media/banner-ocean-03@2x.b7272597.png\" alt=\"drawing\" width=\"800\" align=\"center\"/>"
   ]
  },
  {
   "cell_type": "markdown",
   "metadata": {},
   "source": [
    "\n",
    "<h1><center>Ocean Protocol - Manta Ray project</center></h1>\n",
    "<h3><center>Decentralized Data Science and Engineering, powered by Ocean Protocol</center></h3>\n",
    "<p>Version 0.2 - Trilobite preview</p>\n",
    "<p><a href=\"https://github.com/oceanprotocol/mantaray\">mantaray on Github</a></p>\n",
    "<p>"
   ]
  },
  {
   "cell_type": "markdown",
   "metadata": {},
   "source": [
    "🌊🌊🌊🌊🌊🌊🌊🌊🌊🌊🌊🌊🌊🌊🌊🌊🐬🌊🌊🌊🌊🌊🌊🌊🌊🌊🌊🐬🌊🌊🌊🌊🌊🌊🌊🌊🌊🌊🌊🌊🌊🌊"
   ]
  },
  {
   "cell_type": "markdown",
   "metadata": {
    "lines_to_next_cell": 0
   },
   "source": [
    "<p>"
   ]
  },
  {
   "cell_type": "markdown",
   "metadata": {},
   "source": [
    "\n",
    "This script is used to check your local docker images.\n",
    "\n",
    "Two methods can be used - shell commands with subprocess. Popen, or\n",
    "use the docker SDK (docker-py) to manage and inspect local configuration and running images.\n",
    "\n",
    "A function is declared to wrap executing a command insider an image which retrieves the contract addresses\n",
    "from the contract artifact JSON files (ABIs). Use this to confirm that your local configuration (as\n",
    "specified in config_local.ini) matches the deployed images."
   ]
  },
  {
   "cell_type": "code",
   "execution_count": null,
   "metadata": {
    "title": "Imports"
   },
   "outputs": [],
   "source": [
    "import docker\n",
    "import subprocess\n",
    "# import subprocess\n",
    "# import pathlib\n",
    "# import squid_py.ocean as ocean\n",
    "import sys\n",
    "from pprint import pprint"
   ]
  },
  {
   "cell_type": "code",
   "execution_count": null,
   "metadata": {
    "title": "Logging"
   },
   "outputs": [],
   "source": [
    "import logging\n",
    "\n",
    "loggers_dict = logging.Logger.manager.loggerDict\n",
    "\n",
    "logger = logging.getLogger()\n",
    "logger.handlers = []\n",
    "\n",
    "# Set level\n",
    "logger.setLevel(logging.DEBUG)\n",
    "\n",
    "# FORMAT = \"%(asctime)s - %(levelno)s - %(module)-15s - %(funcName)-15s - %(message)s\"\n",
    "# FORMAT = \"%(asctime)s %(levelno)s: %(module)30s %(message)s\"\n",
    "FORMAT = \"%(levelno)s - %(module)-15s - %(funcName)-15s - %(message)s\"\n",
    "\n",
    "DATE_FMT = \"%Y-%m-%d %H:%M:%S\"\n",
    "DATE_FMT = \"%Y-%m-%d %H:%M:%S\"\n",
    "formatter = logging.Formatter(FORMAT, DATE_FMT)\n",
    "\n",
    "# Create handler and assign\n",
    "handler = logging.StreamHandler(sys.stderr)\n",
    "handler.setFormatter(formatter)\n",
    "logger.handlers = [handler]\n",
    "logger.debug(\"Logging started\")\n",
    "\n",
    "\n",
    "class LoggerCritical:\n",
    "    def __enter__(self):\n",
    "        my_logger = logging.getLogger()\n",
    "        my_logger.setLevel(\"CRITICAL\")\n",
    "\n",
    "    def __exit__(self, type, value, traceback):\n",
    "        my_logger = logging.getLogger()\n",
    "        my_logger.setLevel(\"DEBUG\")"
   ]
  },
  {
   "cell_type": "code",
   "execution_count": null,
   "metadata": {
    "title": "Check running docker images from command line"
   },
   "outputs": [],
   "source": [
    "# s = subprocess.check_output('docker ps', shell=True).wait()\n",
    "s = subprocess.Popen(\"docker ps\" + \"\", shell=True).wait()\n",
    "print(s)"
   ]
  },
  {
   "cell_type": "code",
   "execution_count": null,
   "metadata": {
    "title": "Client, and low level API client"
   },
   "outputs": [],
   "source": [
    "# High level client\n",
    "client = docker.from_env()\n",
    "# Get the APIClient for running commands\n",
    "low_level_api_client = docker.APIClient(base_url='unix://var/run/docker.sock')"
   ]
  },
  {
   "cell_type": "code",
   "execution_count": null,
   "metadata": {
    "title": "Check running docker images using SDK"
   },
   "outputs": [],
   "source": [
    "with LoggerCritical():\n",
    "    for container in client.containers.list():\n",
    "        print(f\"Docker container {container.name} is {container.status}\")\n",
    "        print('\\tTags:', container.image.tags)\n",
    "        # print(container.labels)\n",
    "        # print(\"\\n\")\n",
    "    # container.logs()"
   ]
  },
  {
   "cell_type": "code",
   "execution_count": null,
   "metadata": {
    "lines_to_next_cell": 3,
    "title": "Get addresses from images"
   },
   "outputs": [],
   "source": [
    "def get_address(api_client, container_id,contract_name):\n",
    "    network_name = 'ocean_poa_net_local'\n",
    "    # This is the python script to be executed in the running image\n",
    "    python_script = r\"import sys, json; print(json.load(open('/keeper-contracts/artifacts/{}.{}.json', 'r'))['address'])\".format(contract_name,network_name)\n",
    "\n",
    "    # Wrap the script in quotes (string) and add the python shell command\n",
    "    command = r\"python -c \" + '\"' + python_script + '\"'\n",
    "\n",
    "    # Create and run the command\n",
    "    ex = api_client.exec_create(container=container_id, cmd=command)\n",
    "\n",
    "    return api_client.exec_start(ex)\n",
    "\n",
    "# Get the docker image running the smart contracts, by searching on the name\n",
    "container_keeper_contracts = [c for c in client.containers.list() if 'keeper-contracts' in c.name][0]\n",
    "\n",
    "addresses=dict()\n",
    "addresses['market.address'] = get_address(low_level_api_client, container_keeper_contracts.id,'OceanMarket').decode(\"utf-8\").rstrip()\n",
    "addresses['auth.address'] = get_address(low_level_api_client, container_keeper_contracts.id,'OceanAuth').decode(\"utf-8\").rstrip()\n",
    "addresses['token.address'] = get_address(low_level_api_client, container_keeper_contracts.id,'OceanToken').decode(\"utf-8\").rstrip()\n",
    "addresses['didregistry.address'] = get_address(low_level_api_client, container_keeper_contracts.id,'DIDRegistry').decode(\"utf-8\").rstrip()\n",
    "\n",
    "print(\"Artifact addresses retrieved:\")\n",
    "pprint(addresses)"
   ]
  }
 ],
 "metadata": {
  "jupytext": {
   "main_language": "python",
   "text_representation": {
    "extension": ".py",
    "format_name": "percent"
   }
  }
 },
 "nbformat": 4,
 "nbformat_minor": 2
}
