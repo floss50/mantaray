{
 "cells": [
  {
   "cell_type": "markdown",
   "metadata": {},
   "source": [
    "\n",
    "This script is used to check your local docker images.\n",
    "\n",
    "Two methods can be used - shell commands with subprocess. Popen, or\n",
    "use the docker SDK (docker-py) to manage and inspect local configuration and running images.\n",
    "\n",
    "A function is declared to wrap executing a command insider an image which retrieves the contract addresses\n",
    "from the contract artifact JSON files (ABIs). Use this to confirm that your local configuration (as\n",
    "specified in config_local.ini) matches the deployed images."
   ]
  },
  {
   "cell_type": "code",
   "execution_count": 2,
   "metadata": {
    "title": "Imports"
   },
   "outputs": [],
   "source": [
    "import docker\n",
    "import subprocess\n",
    "# import subprocess\n",
    "# import pathlib\n",
    "# import squid_py.ocean as ocean\n",
    "import sys\n",
    "from pprint import pprint"
   ]
  },
  {
   "cell_type": "code",
   "execution_count": 3,
   "metadata": {
    "title": "Logging"
   },
   "outputs": [
    {
     "name": "stderr",
     "output_type": "stream",
     "text": [
      "10 - <ipython-input-3-f3cf088e1dc8> - <module>        - Logging started\n"
     ]
    }
   ],
   "source": [
    "import logging\n",
    "\n",
    "loggers_dict = logging.Logger.manager.loggerDict\n",
    "\n",
    "logger = logging.getLogger()\n",
    "logger.handlers = []\n",
    "\n",
    "# Set level\n",
    "logger.setLevel(logging.DEBUG)\n",
    "\n",
    "# FORMAT = \"%(asctime)s - %(levelno)s - %(module)-15s - %(funcName)-15s - %(message)s\"\n",
    "# FORMAT = \"%(asctime)s %(levelno)s: %(module)30s %(message)s\"\n",
    "FORMAT = \"%(levelno)s - %(module)-15s - %(funcName)-15s - %(message)s\"\n",
    "\n",
    "DATE_FMT = \"%Y-%m-%d %H:%M:%S\"\n",
    "DATE_FMT = \"%Y-%m-%d %H:%M:%S\"\n",
    "formatter = logging.Formatter(FORMAT, DATE_FMT)\n",
    "\n",
    "# Create handler and assign\n",
    "handler = logging.StreamHandler(sys.stderr)\n",
    "handler.setFormatter(formatter)\n",
    "logger.handlers = [handler]\n",
    "logger.debug(\"Logging started\")"
   ]
  },
  {
   "cell_type": "code",
   "execution_count": 4,
   "metadata": {
    "title": "Check running docker images from command line"
   },
   "outputs": [
    {
     "name": "stdout",
     "output_type": "stream",
     "text": [
      "0\n"
     ]
    }
   ],
   "source": [
    "# s = subprocess.check_output('docker ps', shell=True).wait()\n",
    "s = subprocess.Popen(\"docker ps\" + \"\", shell=True).wait()\n",
    "print(s)"
   ]
  },
  {
   "cell_type": "code",
   "execution_count": 5,
   "metadata": {
    "title": "Client, and low level API client"
   },
   "outputs": [
    {
     "name": "stderr",
     "output_type": "stream",
     "text": [
      "10 - config          - find_config_file - Trying paths: ['/home/batman/.docker/config.json', '/home/batman/.dockercfg']\n",
      "10 - config          - find_config_file - Found file at path: /home/batman/.docker/config.json\n",
      "10 - auth            - load_config     - Found 'auths' section\n",
      "10 - auth            - parse_auth      - Found entry (registry='133126667150.dkr.ecr.eu-central-1.amazonaws.com', username='AWS')\n",
      "10 - auth            - parse_auth      - Found entry (registry='https://index.docker.io/v1/', username='plasmafrog')\n",
      "10 - config          - find_config_file - Trying paths: ['/home/batman/.docker/config.json', '/home/batman/.dockercfg']\n",
      "10 - config          - find_config_file - Found file at path: /home/batman/.docker/config.json\n",
      "10 - auth            - load_config     - Found 'auths' section\n",
      "10 - auth            - parse_auth      - Found entry (registry='133126667150.dkr.ecr.eu-central-1.amazonaws.com', username='AWS')\n",
      "10 - auth            - parse_auth      - Found entry (registry='https://index.docker.io/v1/', username='plasmafrog')\n"
     ]
    }
   ],
   "source": [
    "# High level client\n",
    "client = docker.from_env()\n",
    "# Get the APIClient for running commands\n",
    "low_level_api_client = docker.APIClient(base_url='unix://var/run/docker.sock')"
   ]
  },
  {
   "cell_type": "code",
   "execution_count": 6,
   "metadata": {
    "title": "Check running docker images using SDK"
   },
   "outputs": [
    {
     "name": "stderr",
     "output_type": "stream",
     "text": [
      "10 - connectionpool  - _make_request   - http://localhost:None \"GET /v1.35/containers/json?limit=-1&all=0&size=0&trunc_cmd=0 HTTP/1.1\" 200 None\n",
      "10 - connectionpool  - _make_request   - http://localhost:None \"GET /v1.35/containers/0d109c3461e06e2cf855f4c1e854c635981935fc7a015a36b1c7ef0c33ff267b/json HTTP/1.1\" 200 None\n",
      "10 - connectionpool  - _make_request   - http://localhost:None \"GET /v1.35/containers/d8968bb48ff96244dc18416764d9d1111a6da3858e6c9d60c6de30c02b8dce10/json HTTP/1.1\" 200 None\n",
      "10 - connectionpool  - _make_request   - http://localhost:None \"GET /v1.35/containers/25f83d7ea3320b60c03b96679cf38d7ecd99e96235cdd96efd7dccf23160e502/json HTTP/1.1\" 200 None\n",
      "10 - connectionpool  - _make_request   - http://localhost:None \"GET /v1.35/images/6249560883cb6f7bd89a28de1b362dd867fe675c3767119e1a6fab0504b5036e/json HTTP/1.1\" 200 None\n",
      "10 - connectionpool  - _make_request   - http://localhost:None \"GET /v1.35/images/4bb57d46fcd51993e5f903472f2c3c1f02a7d0eceef6dbddb16fcc591489641f/json HTTP/1.1\" 200 None\n",
      "10 - connectionpool  - _make_request   - http://localhost:None \"GET /v1.35/images/336f61db5f267c3c229c992fb639ca6a8061b321fbc88e87b06b981a57ed3d87/json HTTP/1.1\" 200 None\n"
     ]
    },
    {
     "name": "stdout",
     "output_type": "stream",
     "text": [
      "Docker container docker_aquarius_1 is running\n",
      "\tTags: ['oceanprotocol/aquarius:v0.1.2']\n",
      "Docker container docker_keeper-contracts_1 is running\n",
      "\tTags: ['oceanprotocol/keeper-contracts:v0.3.12']\n",
      "Docker container docker_mongodb_1 is running\n",
      "\tTags: ['mongo:3.6']\n"
     ]
    }
   ],
   "source": [
    "for container in client.containers.list():\n",
    "    print(f\"Docker container {container.name} is {container.status}\")\n",
    "    print('\\tTags:', container.image.tags)\n",
    "    # print(container.labels)\n",
    "    # print(\"\\n\")\n",
    "# container.logs()"
   ]
  },
  {
   "cell_type": "code",
   "execution_count": 7,
   "metadata": {
    "lines_to_next_cell": 3,
    "title": "Get addresses from images"
   },
   "outputs": [
    {
     "name": "stderr",
     "output_type": "stream",
     "text": [
      "10 - connectionpool  - _make_request   - http://localhost:None \"GET /v1.35/containers/docker_keeper-contracts_1/json HTTP/1.1\" 200 None\n",
      "10 - connectionpool  - _make_request   - http://localhost:None \"POST /v1.35/containers/d8968bb48ff96244dc18416764d9d1111a6da3858e6c9d60c6de30c02b8dce10/exec HTTP/1.1\" 201 74\n",
      "10 - connectionpool  - _make_request   - http://localhost:None \"POST /v1.35/exec/c05cd58aeb0da75bda38af1ed7b0bf28c8afc560461d3d74f0f9d5107ecb5b65/start HTTP/1.1\" 101 0\n",
      "10 - connectionpool  - _make_request   - http://localhost:None \"POST /v1.35/containers/d8968bb48ff96244dc18416764d9d1111a6da3858e6c9d60c6de30c02b8dce10/exec HTTP/1.1\" 201 74\n",
      "10 - connectionpool  - _make_request   - http://localhost:None \"POST /v1.35/exec/2d9b7c5be9afec756d636c057b7e826262114769b5fdee123060c2f9af70c056/start HTTP/1.1\" 101 0\n",
      "10 - connectionpool  - _make_request   - http://localhost:None \"POST /v1.35/containers/d8968bb48ff96244dc18416764d9d1111a6da3858e6c9d60c6de30c02b8dce10/exec HTTP/1.1\" 201 74\n",
      "10 - connectionpool  - _make_request   - http://localhost:None \"POST /v1.35/exec/3d8cac72ce237152d01f3de003098f271a1b0f90bc500838ad3d4b3bdb87ad5c/start HTTP/1.1\" 101 0\n",
      "10 - connectionpool  - _make_request   - http://localhost:None \"POST /v1.35/containers/d8968bb48ff96244dc18416764d9d1111a6da3858e6c9d60c6de30c02b8dce10/exec HTTP/1.1\" 201 74\n",
      "10 - connectionpool  - _make_request   - http://localhost:None \"POST /v1.35/exec/e15ab0a7a862a818675922b2305d412a6d3994c19b460346100d992134d46f70/start HTTP/1.1\" 101 0\n"
     ]
    },
    {
     "name": "stdout",
     "output_type": "stream",
     "text": [
      "Artifact addresses retrieved:\n",
      "{'auth.address': '0x59d3631c86BbE35EF041872d502F218A39FBa150',\n",
      " 'didregistry.address': '0xC89Ce4735882C9F0f0FE26686c53074E09B0D550',\n",
      " 'market.address': '0x9561C133DD8580860B6b7E504bC5Aa500f0f06a7',\n",
      " 'token.address': '0xCfEB869F69431e42cdB54A4F4f105C19C080A601'}\n"
     ]
    }
   ],
   "source": [
    "def get_address(api_client, container_id,contract_name):\n",
    "\n",
    "    # This is the python script to be executed in the running image\n",
    "    python_script = r\"import sys, json; print(json.load(open('/keeper-contracts/artifacts/{}.development.json', 'r'))['address'])\".format(contract_name)\n",
    "\n",
    "    # Wrap the script in quotes (string) and add the python shell command\n",
    "    command = r\"python -c \" + '\"' + python_script + '\"'\n",
    "\n",
    "    # Create and run the command\n",
    "    ex = api_client.exec_create(container=container_id, cmd=command)\n",
    "\n",
    "    return api_client.exec_start(ex)\n",
    "\n",
    "# Get the docker image running the smart contracts\n",
    "container_keeper_contracts = client.containers.get('docker_keeper-contracts_1')\n",
    "addresses=dict()\n",
    "addresses['market.address'] = get_address(low_level_api_client,container_keeper_contracts.id,'OceanMarket').decode(\"utf-8\").rstrip()\n",
    "addresses['auth.address'] = get_address(low_level_api_client,container_keeper_contracts.id,'OceanAuth').decode(\"utf-8\").rstrip()\n",
    "addresses['token.address'] = get_address(low_level_api_client,container_keeper_contracts.id,'OceanToken').decode(\"utf-8\").rstrip()\n",
    "addresses['didregistry.address'] = get_address(low_level_api_client,container_keeper_contracts.id,'DIDRegistry').decode(\"utf-8\").rstrip()\n",
    "\n",
    "print(\"Artifact addresses retrieved:\")\n",
    "pprint(addresses)"
   ]
  },
  {
   "cell_type": "code",
   "execution_count": null,
   "metadata": {},
   "outputs": [],
   "source": []
  }
 ],
 "metadata": {
  "jupytext": {
   "main_language": "python",
   "text_representation": {
    "extension": ".py",
    "format_name": "percent"
   }
  },
  "kernelspec": {
   "display_name": "mantaray_latest",
   "language": "python",
   "name": "mantaray_latest"
  },
  "language_info": {
   "codemirror_mode": {
    "name": "ipython",
    "version": 3
   },
   "file_extension": ".py",
   "mimetype": "text/x-python",
   "name": "python",
   "nbconvert_exporter": "python",
   "pygments_lexer": "ipython3",
   "version": "3.7.0"
  }
 },
 "nbformat": 4,
 "nbformat_minor": 2
}
