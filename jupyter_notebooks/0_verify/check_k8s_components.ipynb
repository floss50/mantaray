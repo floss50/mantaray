{
 "cells": [
  {
   "cell_type": "markdown",
   "metadata": {},
   "source": [
    "\n",
    "<p><img src=\"https://oceanprotocol.com/static/media/banner-ocean-03@2x.b7272597.png\" alt=\"drawing\" width=\"800\" align=\"center\"/>"
   ]
  },
  {
   "cell_type": "markdown",
   "metadata": {},
   "source": [
    "\n",
    "<h1><center>Ocean Protocol - Manta Ray project</center></h1>\n",
    "<h3><center>Decentralized Data Science and Engineering, powered by Ocean Protocol</center></h3>\n",
    "<p>Version 0.2 - Trilobite preview</p>\n",
    "<p><a href=\"https://github.com/oceanprotocol/mantaray\">mantaray on Github</a></p>\n",
    "<p>"
   ]
  },
  {
   "cell_type": "markdown",
   "metadata": {},
   "source": [
    "🌊🌊🌊🌊🌊🌊🌊🌊🌊🌊🌊🌊🌊🌊🌊🌊🐬🌊🌊🌊🌊🌊🌊🌊🌊🌊🌊🐬🌊🌊🌊🌊🌊🌊🌊🌊🌊🌊🌊🌊🌊🌊"
   ]
  },
  {
   "cell_type": "markdown",
   "metadata": {
    "lines_to_next_cell": 0
   },
   "source": [
    "<p>"
   ]
  },
  {
   "cell_type": "code",
   "execution_count": null,
   "metadata": {},
   "outputs": [],
   "source": [
    "import requests\n",
    "from squid_py import ocean\n",
    "import sys\n",
    "from pathlib import Path"
   ]
  },
  {
   "cell_type": "code",
   "execution_count": null,
   "metadata": {
    "title": "Logging"
   },
   "outputs": [],
   "source": [
    "\"\"\" \n",
    "\"\"\"\n",
    "import logging\n",
    "logger = logging.getLogger()\n",
    "\n",
    "# Set level\n",
    "logger.setLevel(logging.DEBUG)\n",
    "FORMAT = \"%(levelno)s - %(module)-15s - %(funcName)-15s - %(message)s\"\n",
    "DATE_FMT = \"%Y-%m-%d %H:%M:%S\"\n",
    "formatter = logging.Formatter(FORMAT, DATE_FMT)\n",
    "\n",
    "# Create handler and assign\n",
    "logger.handlers = []\n",
    "handler = logging.StreamHandler(sys.stderr)\n",
    "handler.setFormatter(formatter)\n",
    "logger.handlers = [handler]\n",
    "logger.debug(\"Logging started\")\n",
    "\n",
    "\n",
    "class LoggerCritical:\n",
    "    def __enter__(self):\n",
    "        my_logger = logging.getLogger()\n",
    "        my_logger.setLevel(\"CRITICAL\")\n",
    "    def __exit__(self, type, value, traceback):\n",
    "        my_logger = logging.getLogger()\n",
    "        my_logger.setLevel(\"DEBUG\")"
   ]
  },
  {
   "cell_type": "code",
   "execution_count": null,
   "metadata": {},
   "outputs": [],
   "source": [
    "\n",
    "endpoints_dict = {\n",
    "    'keeper-contracts': 'http://ac9959fcade8d11e89c320e965e714bc-777187363.us-east-1.elb.amazonaws.com:8545/',\n",
    "    'pleuston': 'http://ac98d76bade8d11e89c320e965e714bc-981020006.us-east-1.elb.amazonaws.com:3000/',\n",
    "    'aquarius': 'http://ac3195287e10911e89c320e965e714bc-1875844701.us-east-1.elb.amazonaws.com:5000',\n",
    "    'aquarius_doc': 'http://ac3195287e10911e89c320e965e714bc-1875844701.us-east-1.elb.amazonaws.com:5000/api/v1/docs/',\n",
    "    'brizo': 'http://a3c6e8416e40b11e88a360a98afc4587-44361392.us-east-1.elb.amazonaws.com:8030/',\n",
    "    'brizo_doc': 'http://a3c6e8416e40b11e88a360a98afc4587-44361392.us-east-1.elb.amazonaws.com:8030/api/v1/docs/',\n",
    "    # 'secret_store_1' : \"http://52.1.94.55\",\n",
    "    # 'secret_store_2': \"http://54.156.6.164\",\n",
    "    # 'secret_store_3': \"http://100.24.158.252\",\n",
    "    # 'empty' : \"https://secret-store.dev-ocean-asdf.com\",\n",
    "    # 'secret_store_dns' : \"https://secret-store.dev-ocean.com\",\n",
    "    'secret_store' : 'https://secret-store.dev-ocean.com/shadow/061299ac78ff49a19c1a284e7d3180c6131d88ce1fad45ca97e7f755acb694b1/7db43164e402dfddd1fb9bfc1f2ded608e2040962bb0f17af4728ba3c277772b1ba005f578293f9f3638e53bd6c365b34bc6e262f25686e7228a5becda4e197c01/2'\n",
    "\n",
    "}\n",
    "\n",
    "def check_endpoint(endpoint_name, endpoint_url, verb='GET', ):\n",
    "    res = requests.request(verb, endpoint_url)\n",
    "    logging.debug(\"{} : returns {}\".format(endpoint_name, res.status_code))\n",
    "    return res.status_code, res.content\n",
    "\n",
    "for endpoint in endpoints_dict:\n",
    "    with LoggerCritical():\n",
    "        print(\"Checking {}\".format(endpoint))\n",
    "        try:\n",
    "            code, status = check_endpoint(endpoint, endpoints_dict[endpoint])\n",
    "            print('\\t', endpoint, code, status)\n",
    "        except:\n",
    "            print('\\t Failed!')\n",
    "\n",
    "# check_endpoint('aquarius_doc', endpoints_dict)\n",
    "# check_endpoint('aquarius', endpoints_dict)\n",
    "# check_endpoint('keeper-contracts', endpoints_dict)\n",
    "# check_endpoint('pleuston', endpoints_dict)\n",
    "# check_endpoint('brizo', endpoints_dict)\n",
    "# check_endpoint('brizo_doc', endpoints_dict)"
   ]
  },
  {
   "cell_type": "code",
   "execution_count": null,
   "metadata": {
    "lines_to_next_cell": 3
   },
   "outputs": [],
   "source": [
    "config_path = Path.cwd() / '..' / '..' / 'config_k8s.ini'\n",
    "config_path = Path.cwd() / 'config_k8s.ini'\n",
    "assert config_path.exists()\n",
    "ocn = ocean.Ocean(config_path)"
   ]
  }
 ],
 "metadata": {
  "jupytext": {
   "main_language": "python",
   "text_representation": {
    "extension": ".py",
    "format_name": "percent"
   }
  }
 },
 "nbformat": 4,
 "nbformat_minor": 2
}
