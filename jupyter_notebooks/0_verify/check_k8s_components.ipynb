{
 "cells": [
  {
   "cell_type": "code",
   "execution_count": 9,
   "metadata": {},
   "outputs": [],
   "source": [
    "import requests\n",
    "from squid_py import ocean\n",
    "import sys\n",
    "from pathlib import Path"
   ]
  },
  {
   "cell_type": "code",
   "execution_count": 10,
   "metadata": {
    "title": "Logging"
   },
   "outputs": [
    {
     "name": "stderr",
     "output_type": "stream",
     "text": [
      "10 - <ipython-input-10-e17479606d48> - <module>        - Logging started\n"
     ]
    }
   ],
   "source": [
    "\"\"\" \n",
    "\"\"\"\n",
    "import logging\n",
    "logger = logging.getLogger()\n",
    "\n",
    "# Set level\n",
    "logger.setLevel(logging.DEBUG)\n",
    "FORMAT = \"%(levelno)s - %(module)-15s - %(funcName)-15s - %(message)s\"\n",
    "DATE_FMT = \"%Y-%m-%d %H:%M:%S\"\n",
    "formatter = logging.Formatter(FORMAT, DATE_FMT)\n",
    "\n",
    "# Create handler and assign\n",
    "logger.handlers = []\n",
    "handler = logging.StreamHandler(sys.stderr)\n",
    "handler.setFormatter(formatter)\n",
    "logger.handlers = [handler]\n",
    "logger.debug(\"Logging started\")"
   ]
  },
  {
   "cell_type": "code",
   "execution_count": 11,
   "metadata": {},
   "outputs": [
    {
     "name": "stderr",
     "output_type": "stream",
     "text": [
      "10 - connectionpool  - _new_conn       - Starting new HTTP connection (1): ac9905390de8d11e89c320e965e714bc-966378963.us-east-1.elb.amazonaws.com:5000\n",
      "10 - connectionpool  - _make_request   - http://ac9905390de8d11e89c320e965e714bc-966378963.us-east-1.elb.amazonaws.com:5000 \"GET /api/v1/docs/ HTTP/1.1\" 200 3871\n",
      "10 - <ipython-input-11-844ae7520563> - check_endpoint  - aquarius_doc : returns 200\n",
      "10 - connectionpool  - _new_conn       - Starting new HTTP connection (1): ac9905390de8d11e89c320e965e714bc-966378963.us-east-1.elb.amazonaws.com:5000\n",
      "10 - connectionpool  - _make_request   - http://ac9905390de8d11e89c320e965e714bc-966378963.us-east-1.elb.amazonaws.com:5000 \"GET / HTTP/1.1\" 404 233\n",
      "10 - <ipython-input-11-844ae7520563> - check_endpoint  - aquarius : returns 404\n",
      "10 - connectionpool  - _new_conn       - Starting new HTTP connection (1): ac9959fcade8d11e89c320e965e714bc-777187363.us-east-1.elb.amazonaws.com:8545\n",
      "10 - connectionpool  - _make_request   - http://ac9959fcade8d11e89c320e965e714bc-777187363.us-east-1.elb.amazonaws.com:8545 \"GET / HTTP/1.1\" 400 None\n",
      "10 - <ipython-input-11-844ae7520563> - check_endpoint  - keeper-contracts : returns 400\n",
      "10 - connectionpool  - _new_conn       - Starting new HTTP connection (1): ac98d76bade8d11e89c320e965e714bc-981020006.us-east-1.elb.amazonaws.com:3000\n",
      "10 - connectionpool  - _make_request   - http://ac98d76bade8d11e89c320e965e714bc-981020006.us-east-1.elb.amazonaws.com:3000 \"GET / HTTP/1.1\" 200 1771\n",
      "10 - <ipython-input-11-844ae7520563> - check_endpoint  - pleuston : returns 200\n"
     ]
    },
    {
     "data": {
      "text/plain": [
       "200"
      ]
     },
     "execution_count": 11,
     "metadata": {},
     "output_type": "execute_result"
    }
   ],
   "source": [
    "\n",
    "endpoints_dict = {\n",
    "    'keeper-contracts': 'http://ac9959fcade8d11e89c320e965e714bc-777187363.us-east-1.elb.amazonaws.com:8545/',\n",
    "    'pleuston': 'http://ac98d76bade8d11e89c320e965e714bc-981020006.us-east-1.elb.amazonaws.com:3000/',\n",
    "    'aquarius': 'http://ac9905390de8d11e89c320e965e714bc-966378963.us-east-1.elb.amazonaws.com:5000',\n",
    "    'aquarius_doc': 'http://ac9905390de8d11e89c320e965e714bc-966378963.us-east-1.elb.amazonaws.com:5000/api/v1/docs/',\n",
    "}\n",
    "\n",
    "def check_endpoint(endpoint, this_endpoints_dict, verb='GET', ):\n",
    "    res = requests.request(verb, this_endpoints_dict[endpoint])\n",
    "    logging.debug(\"{} : returns {}\".format(endpoint, res.status_code))\n",
    "    # res.content\n",
    "    return res.status_code\n",
    "\n",
    "check_endpoint('aquarius_doc', endpoints_dict)\n",
    "check_endpoint('aquarius', endpoints_dict)\n",
    "check_endpoint('keeper-contracts', endpoints_dict)\n",
    "check_endpoint('pleuston', endpoints_dict)"
   ]
  },
  {
   "cell_type": "code",
   "execution_count": 8,
   "metadata": {
    "lines_to_next_cell": 3
   },
   "outputs": [
    {
     "ename": "AssertionError",
     "evalue": "",
     "output_type": "error",
     "traceback": [
      "\u001b[0;31m---------------------------------------------------------------------------\u001b[0m",
      "\u001b[0;31mAssertionError\u001b[0m                            Traceback (most recent call last)",
      "\u001b[0;32m<ipython-input-8-4af61a1a9788>\u001b[0m in \u001b[0;36m<module>\u001b[0;34m\u001b[0m\n\u001b[1;32m      1\u001b[0m \u001b[0mconfig_path\u001b[0m \u001b[0;34m=\u001b[0m \u001b[0mPath\u001b[0m\u001b[0;34m.\u001b[0m\u001b[0mcwd\u001b[0m\u001b[0;34m(\u001b[0m\u001b[0;34m)\u001b[0m \u001b[0;34m/\u001b[0m \u001b[0;34m'..'\u001b[0m \u001b[0;34m/\u001b[0m \u001b[0;34m'..'\u001b[0m \u001b[0;34m/\u001b[0m \u001b[0;34m'config_k8s.ini'\u001b[0m\u001b[0;34m\u001b[0m\u001b[0m\n\u001b[1;32m      2\u001b[0m \u001b[0mconfig_path\u001b[0m \u001b[0;34m=\u001b[0m \u001b[0mPath\u001b[0m\u001b[0;34m.\u001b[0m\u001b[0mcwd\u001b[0m\u001b[0;34m(\u001b[0m\u001b[0;34m)\u001b[0m \u001b[0;34m/\u001b[0m \u001b[0;34m'config_k8s.ini'\u001b[0m\u001b[0;34m\u001b[0m\u001b[0m\n\u001b[0;32m----> 3\u001b[0;31m \u001b[0;32massert\u001b[0m \u001b[0mconfig_path\u001b[0m\u001b[0;34m.\u001b[0m\u001b[0mexists\u001b[0m\u001b[0;34m(\u001b[0m\u001b[0;34m)\u001b[0m\u001b[0;34m\u001b[0m\u001b[0m\n\u001b[0m\u001b[1;32m      4\u001b[0m \u001b[0mocn\u001b[0m \u001b[0;34m=\u001b[0m \u001b[0mocean\u001b[0m\u001b[0;34m.\u001b[0m\u001b[0mOcean\u001b[0m\u001b[0;34m(\u001b[0m\u001b[0mconfig_path\u001b[0m\u001b[0;34m)\u001b[0m\u001b[0;34m\u001b[0m\u001b[0m\n",
      "\u001b[0;31mAssertionError\u001b[0m: "
     ]
    }
   ],
   "source": [
    "config_path = Path.cwd() / '..' / '..' / 'config_k8s.ini'\n",
    "config_path = Path.cwd() / 'config_k8s.ini'\n",
    "assert config_path.exists()\n",
    "ocn = ocean.Ocean(config_path)"
   ]
  },
  {
   "cell_type": "code",
   "execution_count": null,
   "metadata": {},
   "outputs": [],
   "source": []
  }
 ],
 "metadata": {
  "jupytext": {
   "main_language": "python",
   "text_representation": {
    "extension": ".py",
    "format_name": "percent"
   }
  },
  "kernelspec": {
   "display_name": "mantaray_latest",
   "language": "python",
   "name": "mantaray_latest"
  },
  "language_info": {
   "codemirror_mode": {
    "name": "ipython",
    "version": 3
   },
   "file_extension": ".py",
   "mimetype": "text/x-python",
   "name": "python",
   "nbconvert_exporter": "python",
   "pygments_lexer": "ipython3",
   "version": "3.7.0"
  }
 },
 "nbformat": 4,
 "nbformat_minor": 2
}
