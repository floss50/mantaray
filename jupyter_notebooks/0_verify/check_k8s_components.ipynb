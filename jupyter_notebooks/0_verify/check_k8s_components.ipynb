{
 "cells": [
  {
   "cell_type": "code",
   "execution_count": null,
   "metadata": {},
   "outputs": [],
   "source": [
    "import requests\n",
    "from squid_py import ocean\n",
    "import sys\n",
    "from pathlib import Path"
   ]
  },
  {
   "cell_type": "code",
   "execution_count": null,
   "metadata": {
    "title": "Logging"
   },
   "outputs": [],
   "source": [
    "\"\"\" \n",
    "\"\"\"\n",
    "import logging\n",
    "logger = logging.getLogger()\n",
    "\n",
    "# Set level\n",
    "logger.setLevel(logging.DEBUG)\n",
    "FORMAT = \"%(levelno)s - %(module)-15s - %(funcName)-15s - %(message)s\"\n",
    "DATE_FMT = \"%Y-%m-%d %H:%M:%S\"\n",
    "formatter = logging.Formatter(FORMAT, DATE_FMT)\n",
    "\n",
    "# Create handler and assign\n",
    "logger.handlers = []\n",
    "handler = logging.StreamHandler(sys.stderr)\n",
    "handler.setFormatter(formatter)\n",
    "logger.handlers = [handler]\n",
    "logger.debug(\"Logging started\")"
   ]
  },
  {
   "cell_type": "code",
   "execution_count": null,
   "metadata": {},
   "outputs": [],
   "source": [
    "\n",
    "endpoints_dict = {\n",
    "    'keeper-contracts': 'http://ac9959fcade8d11e89c320e965e714bc-777187363.us-east-1.elb.amazonaws.com:8545/',\n",
    "    'pleuston': 'http://ac98d76bade8d11e89c320e965e714bc-981020006.us-east-1.elb.amazonaws.com:3000/',\n",
    "    'aquarius': 'http://ac9905390de8d11e89c320e965e714bc-966378963.us-east-1.elb.amazonaws.com:5000',\n",
    "    'aquarius_doc': 'http://ac9905390de8d11e89c320e965e714bc-966378963.us-east-1.elb.amazonaws.com:5000/api/v1/docs/',\n",
    "}\n",
    "\n",
    "def check_endpoint(endpoint, this_endpoints_dict, verb='GET', ):\n",
    "    res = requests.request(verb, this_endpoints_dict[endpoint])\n",
    "    logging.debug(\"{} : returns {}\".format(endpoint, res.status_code))\n",
    "    # res.content\n",
    "    return res.status_code\n",
    "\n",
    "check_endpoint('aquarius_doc', endpoints_dict)\n",
    "check_endpoint('aquarius', endpoints_dict)\n",
    "check_endpoint('keeper-contracts', endpoints_dict)\n",
    "check_endpoint('pleuston', endpoints_dict)"
   ]
  },
  {
   "cell_type": "code",
   "execution_count": null,
   "metadata": {
    "lines_to_next_cell": 3
   },
   "outputs": [],
   "source": [
    "config_path = Path.cwd() / '..' / '..' / 'config_k8s.ini'\n",
    "config_path = Path.cwd() / 'config_k8s.ini'\n",
    "assert config_path.exists()\n",
    "ocn = ocean.Ocean(config_path)"
   ]
  }
 ],
 "metadata": {
  "jupytext": {
   "main_language": "python",
   "text_representation": {
    "extension": ".py",
    "format_name": "percent"
   }
  }
 },
 "nbformat": 4,
 "nbformat_minor": 2
}
