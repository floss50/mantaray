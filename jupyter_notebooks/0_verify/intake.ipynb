{
 "cells": [
  {
   "cell_type": "code",
   "execution_count": null,
   "metadata": {},
   "outputs": [],
   "source": []
  },
  {
   "cell_type": "markdown",
   "metadata": {},
   "source": [
    "## Testing the intake package\n",
    "\n",
    "import intake\n",
    "\n"
   ]
  }
 ],
 "metadata": {
  "jupytext_formats": "py:percent",
  "main_language": "python"
 },
 "nbformat": 4,
 "nbformat_minor": 2
}
