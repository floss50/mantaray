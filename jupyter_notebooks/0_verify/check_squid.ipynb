{
 "cells": [
  {
   "cell_type": "code",
   "execution_count": null,
   "metadata": {},
   "outputs": [],
   "source": [
    "\"\"\"\n",
    "With docker running, run this script to test the Ocean wrapper (squid-py).\n",
    "\n",
    "Instantiate the wrapper with the local config_local.ini.\n",
    "\"\"\""
   ]
  },
  {
   "cell_type": "code",
   "execution_count": null,
   "metadata": {
    "title": "Imports"
   },
   "outputs": [],
   "source": [
    "\n",
    "import pathlib\n",
    "import squid_py.ocean as ocean\n",
    "import sys\n",
    "# from squid_py.utils.web3_helper import convert_to_bytes, convert_to_string, convert_to_text"
   ]
  },
  {
   "cell_type": "code",
   "execution_count": null,
   "metadata": {
    "title": "Logging"
   },
   "outputs": [],
   "source": [
    "import logging\n",
    "\n",
    "loggers_dict = logging.Logger.manager.loggerDict\n",
    "\n",
    "logger = logging.getLogger()\n",
    "logger.handlers = []\n",
    "\n",
    "# Set level\n",
    "logger.setLevel(logging.DEBUG)\n",
    "\n",
    "# FORMAT = \"%(asctime)s - %(levelno)s - %(module)-15s - %(funcName)-15s - %(message)s\"\n",
    "# FORMAT = \"%(asctime)s %(levelno)s: %(module)30s %(message)s\"\n",
    "FORMAT = \"%(levelno)s - %(module)-15s - %(funcName)-15s - %(message)s\"\n",
    "\n",
    "DATE_FMT = \"%Y-%m-%d %H:%M:%S\"\n",
    "DATE_FMT = \"%Y-%m-%d %H:%M:%S\"\n",
    "formatter = logging.Formatter(FORMAT, DATE_FMT)\n",
    "\n",
    "# Create handler and assign\n",
    "handler = logging.StreamHandler(sys.stderr)\n",
    "handler.setFormatter(formatter)\n",
    "logger.handlers = [handler]\n",
    "logger.debug(\"Logging started\")"
   ]
  },
  {
   "cell_type": "code",
   "execution_count": null,
   "metadata": {
    "title": "Instantiate the wrapper"
   },
   "outputs": [],
   "source": [
    "\n",
    "# The contract addresses are loaded from file\n",
    "PATH_CONFIG = pathlib.Path.cwd() / 'config_local.ini'\n",
    "assert PATH_CONFIG.exists(), \"{} does not exist\".format(PATH_CONFIG)\n",
    "\n",
    "#ocn = ocean.Ocean(host='http://0.0.0.0', port=8545, config_path=PATH_CONFIG)\n",
    "\n",
    "ocn = ocean.Ocean(config_file='config_local.ini')\n",
    "#config = Config('config_local.ini')\n",
    "#assert ocean.market.address == ocean.get_web3().toChecksumAddress(config.get(KEEPER_CONTRACTS, 'market.address'))\n",
    "\n",
    "# logging.info(\"Ocean smart contract node connected at {}\".format(ocn.node_uri))\n",
    "logging.info(\"_keeper_url {}\".format(ocn._keeper_url))\n",
    "logging.info(\"_keeper_path {}\".format(ocn._keeper_path))\n",
    "logging.info(\"_gas_limit {}\".format(ocn._gas_limit))\n",
    "logging.info(\"_provider_url {}\".format(ocn._provider_url))\n",
    "\n",
    "\n",
    "logging.info(\"{:>40} {}\".format(\"Token contract address:\", ocn.token.address))\n",
    "logging.info(\"{:>40} {}\".format(\"Authentication contract atddress:\", ocn.auth.address))\n",
    "logging.info(\"{:>40} {}\".format(\"Market contract address:\", ocn.market.address))\n",
    "\n",
    "logging.info(\"Metadata store (provider) located at: {}\".format(ocn.metadata.base_url))"
   ]
  },
  {
   "cell_type": "code",
   "execution_count": null,
   "metadata": {
    "lines_to_next_cell": 0
   },
   "outputs": [],
   "source": [
    "ocn.helper.accounts"
   ]
  },
  {
   "cell_type": "code",
   "execution_count": null,
   "metadata": {},
   "outputs": [],
   "source": []
  }
 ],
 "metadata": {
  "jupytext": {
   "main_language": "python",
   "text_representation": {
    "extension": ".py",
    "format_name": "percent"
   }
  }
 },
 "nbformat": 4,
 "nbformat_minor": 2
}
