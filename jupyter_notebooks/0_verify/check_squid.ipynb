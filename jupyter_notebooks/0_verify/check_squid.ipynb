{
 "cells": [
  {
   "cell_type": "markdown",
   "metadata": {},
   "source": [
    "\n",
    "<p><img src=\"https://oceanprotocol.com/static/media/banner-ocean-03@2x.b7272597.png\" alt=\"drawing\" width=\"800\" align=\"center\"/>"
   ]
  },
  {
   "cell_type": "markdown",
   "metadata": {},
   "source": [
    "\n",
    "<h1><center>Ocean Protocol - Manta Ray project</center></h1>\n",
    "<h3><center>Decentralized Data Science and Engineering, powered by Ocean Protocol</center></h3>\n",
    "<p>Version 0.2 - Trilobite preview</p>\n",
    "<p><a href=\"https://github.com/oceanprotocol/mantaray\">mantaray on Github</a></p>\n",
    "<p>"
   ]
  },
  {
   "cell_type": "markdown",
   "metadata": {},
   "source": [
    "🌊🌊🌊🌊🌊🌊🌊🌊🌊🌊🌊🌊🌊🌊🌊🌊🐬🌊🌊🌊🌊🌊🌊🌊🌊🌊🌊🐬🌊🌊🌊🌊🌊🌊🌊🌊🌊🌊🌊🌊🌊🌊"
   ]
  },
  {
   "cell_type": "markdown",
   "metadata": {},
   "source": [
    "<p>\n",
    "\"\"\"\n",
    "With docker running, run this script to test the Ocean wrapper (squid-py).\n",
    "\n",
    "Instantiate the wrapper with the local config_local.ini.\n",
    "\"\"\""
   ]
  },
  {
   "cell_type": "code",
   "execution_count": null,
   "metadata": {
    "title": "Imports"
   },
   "outputs": [],
   "source": [
    "\n",
    "import pathlib\n",
    "# import squid_py.ocean.ocean as ocean\n",
    "from squid_py.ocean.ocean import Ocean\n",
    "import sys\n",
    "# from squid_py.utils.web3_helper import convert_to_bytes, convert_to_string, convert_to_text"
   ]
  },
  {
   "cell_type": "code",
   "execution_count": null,
   "metadata": {
    "title": "Instantiate the wrapper"
   },
   "outputs": [],
   "source": [
    "\n",
    "# The contract addresses are loaded from file\n",
    "PATH_CONFIG = pathlib.Path.cwd() / 'config_local.ini'\n",
    "# PATH_CONFIG = pathlib.Path.cwd() / 'config_k8s_deployed.ini'\n",
    "\n",
    "assert PATH_CONFIG.exists(), \"{} does not exist\".format(PATH_CONFIG)\n",
    "\n",
    "#ocn = ocean.Ocean(host='http://0.0.0.0', port=8545, config_path=PATH_CONFIG)\n",
    "\n",
    "ocn = Ocean(config_file=PATH_CONFIG)\n",
    "#config = Config('config_local.ini')\n",
    "#assert ocean.market.address == ocean.get_web3().toChecksumAddress(config.get(KEEPER_CONTRACTS, 'market.address'))"
   ]
  },
  {
   "cell_type": "code",
   "execution_count": null,
   "metadata": {},
   "outputs": [],
   "source": [
    "print(\"***OCEAN***\")\n",
    "print(\"{} accounts\".format(len(ocn.accounts)))\n",
    "print(\"\\n***KEEPER NODE***\")\n",
    "print(\"Keeper node connected at {}\".format(ocn.config.keeper_url))\n",
    "print(\"Using ABI files from {}\".format(ocn.config.keeper_path))\n",
    "print(\"{:>40} {}\".format(\"Token contract address:\", ocn.keeper.token.address))\n",
    "print(\"{:>40} {}\".format(\"Authentication contract at address:\", ocn.keeper.auth.address))\n",
    "print(\"{:>40} {}\".format(\"Market contract address:\", ocn.keeper.market.address))\n",
    "print(\"{:>40} {}\".format(\"DID Registry contract address:\", ocn.keeper.didregistry.address))\n",
    "\n",
    "print(\"\\n***METADATA STORE (aquarius)***\")\n",
    "print(\"Connect at: {}\".format(ocn.metadata_store._base_url))\n",
    "\n",
    "print(\"\\n***SECRET STORE***\")\n",
    "\n",
    "print(\"\\n***SERVICE HANDLER (brizo)***\")"
   ]
  },
  {
   "cell_type": "code",
   "execution_count": null,
   "metadata": {},
   "outputs": [],
   "source": []
  },
  {
   "cell_type": "code",
   "execution_count": null,
   "metadata": {},
   "outputs": [],
   "source": []
  }
 ],
 "metadata": {
  "jupytext": {
   "main_language": "python",
   "text_representation": {
    "extension": ".py",
    "format_name": "percent"
   }
  }
 },
 "nbformat": 4,
 "nbformat_minor": 2
}
