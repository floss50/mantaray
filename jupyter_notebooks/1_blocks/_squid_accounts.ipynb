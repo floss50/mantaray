{
 "cells": [
  {
   "cell_type": "code",
   "execution_count": null,
   "metadata": {},
   "outputs": [],
   "source": [
    "import pathlib\n",
    "import sys\n",
    "import logging\n",
    "import time\n",
    "\n",
    "from squid_py.ocean.ocean import Ocean\n",
    "\n",
    "loggers_dict = logging.Logger.manager.loggerDict\n",
    "\n",
    "logger = logging.getLogger()\n",
    "logger.handlers = []\n",
    "\n",
    "# Set level\n",
    "logger.setLevel(logging.INFO)\n",
    "\n",
    "FORMAT = \"%(levelno)s - %(module)-15s - %(funcName)-15s - %(message)s\"\n",
    "DATE_FMT = \"%Y-%m-%d %H:%M:%S\"\n",
    "formatter = logging.Formatter(FORMAT, DATE_FMT)\n",
    "handler = logging.StreamHandler(sys.stderr)\n",
    "handler.setFormatter(formatter)\n",
    "logger.handlers = [handler]\n",
    "logger.debug(\"Logging started\")\n",
    "\n",
    "# The contract addresses are loaded from file\n",
    "PATH_CONFIG = pathlib.Path.cwd() / 'config_local.ini'\n",
    "assert PATH_CONFIG.exists(), \"{} does not exist\".format(PATH_CONFIG)\n",
    "\n",
    "ocn = Ocean(config_file=PATH_CONFIG)"
   ]
  },
  {
   "cell_type": "code",
   "execution_count": null,
   "metadata": {
    "lines_to_next_cell": 2,
    "title": "Test the accounts"
   },
   "outputs": [],
   "source": [
    "assert len(ocn.accounts) > 0\n",
    "print (ocn.accounts)\n",
    "unlocked_account_name = '0x00Bd138aBD70e2F00903268F3Db08f2D25677C9e'\n",
    "if unlocked_account_name in ocn.accounts:\n",
    "    unlocked_account = ocn.accounts.get(unlocked_account_name)\n",
    "else:\n",
    "    unlocked_account = next(iter(ocn.accounts.values()))\n",
    "\n",
    "assert unlocked_account.ether_balance > 0\n",
    "\n",
    "ocn_balance = unlocked_account.ocean_balance\n",
    "ocn_rain = 10\n",
    "print(ocn_balance)\n",
    "unlocked_account.request_tokens(ocn_rain)\n",
    "time.sleep(8)\n",
    "print(unlocked_account.ocean_balance)\n",
    "assert unlocked_account.ocean_balance - ocn_rain == ocn_balance"
   ]
  }
 ],
 "metadata": {
  "jupytext": {
   "main_language": "python",
   "text_representation": {
    "extension": ".py",
    "format_name": "percent"
   }
  }
 },
 "nbformat": 4,
 "nbformat_minor": 2
}
