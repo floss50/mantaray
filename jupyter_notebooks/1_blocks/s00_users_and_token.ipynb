{
 "cells": [
  {
   "cell_type": "markdown",
   "metadata": {},
   "source": [
    "\n",
    "<p><center>Ocean Protocol</p>\n",
    "<p><center>Trilobite pre-release 0.1</center></p>\n",
    "<img src=\"https://oceanprotocol.com/static/media/logo-white.7b65db16.png\" alt=\"drawing\" width=\"200\" align=\"center\"/>\n",
    "</center>"
   ]
  },
  {
   "cell_type": "code",
   "execution_count": null,
   "metadata": {
    "lines_to_next_cell": 0
   },
   "outputs": [],
   "source": [
    "# Ocean Protocol\n",
    "#\n",
    "# Trilobite release\n",
    "#\n",
    "# <img src=\"https://oceanprotocol.com/static/media/logo-white.7b65db16.png\" alt=\"drawing\" width=\"200\"/>\n",
    "# <img src=\"https://oceanprotocol.com/static/media/logo.75e257aa.png\" alt=\"drawing\" width=\"200\"/>\n",
    "#"
   ]
  },
  {
   "cell_type": "markdown",
   "metadata": {},
   "source": [
    "# Building Blocks: Getting tokens to your users"
   ]
  },
  {
   "cell_type": "markdown",
   "metadata": {},
   "source": [
    "<img src=\"https://3c1703fe8d.site.internapcdn.net/newman/gfx/news/hires/2017/mismatchedey.jpg\" alt=\"drawing\" width=\"200\" align=\"center\"/>"
   ]
  },
  {
   "cell_type": "markdown",
   "metadata": {},
   "source": [
    "## Section 1: Import modules, and setup logging"
   ]
  },
  {
   "cell_type": "markdown",
   "metadata": {
    "lines_to_next_cell": 0
   },
   "source": [
    "Imports"
   ]
  },
  {
   "cell_type": "code",
   "execution_count": null,
   "metadata": {},
   "outputs": [],
   "source": [
    "from pathlib import Path\n",
    "import sys\n",
    "import random\n",
    "import configparser\n",
    "from squid_py.ocean.ocean import Ocean\n",
    "import names\n",
    "import secrets\n",
    "from squid_py.ddo import DDO\n",
    "from unittest.mock import Mock\n",
    "import squid_py\n",
    "print(\"Squid API version:\", squid_py.__version__)\n",
    "import unittest"
   ]
  },
  {
   "cell_type": "markdown",
   "metadata": {
    "lines_to_next_cell": 0
   },
   "source": [
    "Logging"
   ]
  },
  {
   "cell_type": "code",
   "execution_count": null,
   "metadata": {
    "lines_to_next_cell": 0
   },
   "outputs": [],
   "source": [
    "import logging\n",
    "loggers_dict = logging.Logger.manager.loggerDict\n",
    "logger = logging.getLogger()\n",
    "logger.handlers = []\n",
    "# Set level\n",
    "logger.setLevel(logging.INFO)\n",
    "FORMAT = \"%(levelno)s - %(module)-15s - %(funcName)-15s - %(message)s\"\n",
    "DATE_FMT = \"%Y-%m-%d %H:%M:%S\"\n",
    "formatter = logging.Formatter(FORMAT, DATE_FMT)\n",
    "# Create handler and assign\n",
    "handler = logging.StreamHandler(sys.stderr)\n",
    "handler.setFormatter(formatter)\n",
    "logger.handlers = [handler]\n",
    "logger.info(\"Logging started\")"
   ]
  },
  {
   "cell_type": "markdown",
   "metadata": {},
   "source": [
    "## Section 2: Instantiate the Ocean Protocol interface"
   ]
  },
  {
   "cell_type": "code",
   "execution_count": null,
   "metadata": {},
   "outputs": [],
   "source": [
    "# The contract addresses are loaded from file\n",
    "# CHOOSE YOUR CONFIGURATION HERE\n",
    "PATH_CONFIG = Path.cwd() / 'config_local.ini'\n",
    "# PATH_CONFIG = Path.cwd() / 'config_k8s_deployed.ini'\n",
    "assert PATH_CONFIG.exists(), \"{} does not exist\".format(PATH_CONFIG)\n",
    "\n",
    "ocn = Ocean(PATH_CONFIG)\n",
    "logging.info(\"Ocean smart contract node connected \".format())\n",
    "\n",
    "# ocn.config.keeper_path"
   ]
  },
  {
   "cell_type": "markdown",
   "metadata": {
    "lines_to_next_cell": 0
   },
   "source": [
    "## Section 3: Users and accounts"
   ]
  },
  {
   "cell_type": "markdown",
   "metadata": {
    "lines_to_next_cell": 0
   },
   "source": [
    "List the accounts created in Ganache"
   ]
  },
  {
   "cell_type": "code",
   "execution_count": null,
   "metadata": {},
   "outputs": [],
   "source": [
    "# ocn.accounts is a {address: Account} dict\n",
    "print(\"Ocean accounts:\")\n",
    "for address in ocn.accounts:\n",
    "    acct = ocn.accounts[address]\n",
    "    print(acct.address)"
   ]
  },
  {
   "cell_type": "code",
   "execution_count": null,
   "metadata": {},
   "outputs": [],
   "source": [
    "# These accounts have a balance of ETH and Ocean Token\n",
    "for address, account in ocn.accounts.items():\n",
    "    assert account.balance.eth >= 0\n",
    "    assert account.balance.ocn >= 0"
   ]
  },
  {
   "cell_type": "markdown",
   "metadata": {
    "lines_to_next_cell": 2
   },
   "source": [
    "Get funds to users\n",
    "A simple wrapper for each address is created to represent a user"
   ]
  },
  {
   "cell_type": "code",
   "execution_count": null,
   "metadata": {},
   "outputs": [],
   "source": [
    "class User():\n",
    "    def __init__(self, name, role, address, config_path=None):\n",
    "        \"\"\"\n",
    "        A class to represent a User of Ocean Protocol.\n",
    "        A User's account can be *locked*. To unlock an account, provide the password to the .unlock() method.\n",
    "\n",
    "        :param name: Just to keep track and personalize the simulation\n",
    "        :param role: Also just for personalizing\n",
    "        :param address: This the account address\n",
    "        :param config_path: The Ocean() library class *requires* a config file\n",
    "        \"\"\"\n",
    "        self.name = name\n",
    "        self.address = address\n",
    "        self.role = role\n",
    "        self.locked = True\n",
    "        self.config_path = config_path\n",
    "\n",
    "        self.ocn = None\n",
    "        self.account = None\n",
    "\n",
    "        # If the account is unlocked, instantiate Ocean and the Account classes\n",
    "        if self.address.lower() in PASSWORD_MAP:\n",
    "            password = PASSWORD_MAP[self.address.lower()]\n",
    "\n",
    "            # The ocean class REQUIRES a .ini file -> need to create this file!\n",
    "            if not self.config_path:\n",
    "                self.config_fname = \"{}_{}_config.ini\".format(self.name,self.role).replace(' ', '_')\n",
    "                config_path = self.create_config(password) # Create configuration file for this user\n",
    "\n",
    "            # Instantiate Ocean and Account for this User\n",
    "            self.ocn = Ocean(config_path)\n",
    "            self.unlock(password)\n",
    "            acct_dict_lower = {k.lower(): v for k, v in ocn.accounts.items()}\n",
    "            self.account = acct_dict_lower[self.address.lower()]\n",
    "\n",
    "        logging.info(self)\n",
    "\n",
    "    def unlock(self, password):\n",
    "        self.ocn._web3.personal.unlockAccount(self.address, password)\n",
    "        self.locked = False\n",
    "\n",
    "    def create_config(self,password):\n",
    "        conf = configparser.ConfigParser()\n",
    "        conf.read(PATH_CONFIG)\n",
    "        conf['keeper-contracts']['parity.address'] = self.address\n",
    "        conf['keeper-contracts']['parity.password'] = password\n",
    "        out_path = Path.cwd() / 'user_configurations' / self.config_fname\n",
    "        logging.info(\"Create a new configuration file for {}.\".format(self.name))\n",
    "        with open(out_path, 'w') as fp:\n",
    "            conf.write(fp)\n",
    "        return out_path\n",
    "\n",
    "    def __str__(self):\n",
    "        if self.locked:\n",
    "            return \"{:<20} {:<20} LOCKED ACCOUNT\".format(self.name, self.role)\n",
    "        else:\n",
    "            ocean_token = self.account.ocean_balance\n",
    "            return \"{:<20} {:<20} with {} Ocean token\".format(self.name, self.role, ocean_token)\n",
    "\n",
    "    def __repr__(self):\n",
    "        return self.__str__()"
   ]
  },
  {
   "cell_type": "markdown",
   "metadata": {
    "lines_to_next_cell": 0
   },
   "source": [
    "Users are instantiated and listed"
   ]
  },
  {
   "cell_type": "code",
   "execution_count": null,
   "metadata": {},
   "outputs": [],
   "source": [
    "# Selected accounts are unlocked via password\n",
    "PASSWORD_MAP = {\n",
    "    '0x00bd138abd70e2f00903268f3db08f2d25677c9e' : 'node0',\n",
    "    '0x068ed00cf0441e4829d9784fcbe7b9e26d4bd8d0' : 'secret',\n",
    "    '0xa99d43d86a0758d5632313b8fa3972b6088a21bb' : 'secret',\n",
    "}\n",
    "\n",
    "# Create some simulated users of Ocean Protocol\n",
    "# Alternate between Data Scientists (Consumers)\n",
    "# and Data Owners (providers)\n",
    "users = list()\n",
    "for i, acct_address in enumerate(ocn.accounts):\n",
    "    if i%2 == 0: role = 'Data Scientist'\n",
    "    else: role = 'Data Owner'\n",
    "    user = User(names.get_full_name(), role, acct_address)\n",
    "    users.append(user)\n",
    "\n",
    "# Select only unlocked accounts\n",
    "unlocked_users = [u for u in users if not u.locked]\n",
    "logging.info(\"Selected {} unlocked accounts for simulation.\".format(len(users)))"
   ]
  },
  {
   "cell_type": "code",
   "execution_count": null,
   "metadata": {},
   "outputs": [],
   "source": [
    "# (Optional)\n",
    "# Delete the configuration files in the /user_configurations folder\n",
    "user_config_path = Path.cwd() / 'user_configurations'/'*.ini'\n",
    "for f in user_config_path.glob(user_config_path.__str__()):\n",
    "    f.unlink()"
   ]
  },
  {
   "cell_type": "markdown",
   "metadata": {
    "lines_to_next_cell": 0
   },
   "source": [
    "List the users"
   ]
  },
  {
   "cell_type": "code",
   "execution_count": null,
   "metadata": {},
   "outputs": [],
   "source": [
    "for u in unlocked_users: print(u)"
   ]
  },
  {
   "cell_type": "markdown",
   "metadata": {
    "lines_to_next_cell": 0
   },
   "source": [
    "Get some Ocean token"
   ]
  },
  {
   "cell_type": "code",
   "execution_count": null,
   "metadata": {},
   "outputs": [],
   "source": [
    "for usr in unlocked_users:\n",
    "    if usr.account.ocean_balance == 0:\n",
    "        rcpt = usr.account.request_tokens(random.randint(0,100))\n",
    "        usr.ocn._web3.eth.waitForTransactionReceipt(rcpt)"
   ]
  },
  {
   "cell_type": "markdown",
   "metadata": {
    "lines_to_next_cell": 0
   },
   "source": [
    "List the users, and notice the updated balance"
   ]
  },
  {
   "cell_type": "code",
   "execution_count": null,
   "metadata": {},
   "outputs": [],
   "source": [
    "for u in unlocked_users: print(u)"
   ]
  }
 ],
 "metadata": {
  "jupytext": {
   "main_language": "python",
   "text_representation": {
    "extension": ".py",
    "format_name": "percent"
   }
  }
 },
 "nbformat": 4,
 "nbformat_minor": 2
}
