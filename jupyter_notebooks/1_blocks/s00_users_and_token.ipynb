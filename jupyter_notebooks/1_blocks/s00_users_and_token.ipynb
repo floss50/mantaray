{
 "cells": [
  {
   "cell_type": "markdown",
   "metadata": {},
   "source": [
    "\n",
    "<p><img src=\"https://oceanprotocol.com/static/media/banner-ocean-03@2x.b7272597.png\" alt=\"drawing\" width=\"800\" align=\"center\"/>"
   ]
  },
  {
   "cell_type": "markdown",
   "metadata": {},
   "source": [
    "\n",
    "<h1><center>Ocean Protocol - Manta Ray project</center></h1>\n",
    "<h3><center>Decentralized Data Science and Engineering, powered by Ocean Protocol</center></h3>\n",
    "<p>Version 0.2 - Trilobite preview</p>\n",
    "<p><a href=\"https://github.com/oceanprotocol/mantaray\">mantaray on Github</a></p>\n",
    "<p>"
   ]
  },
  {
   "cell_type": "markdown",
   "metadata": {},
   "source": [
    "🌊🌊🌊🌊🌊🌊🌊🌊🌊🌊🌊🌊🌊🌊🌊🌊🐬🌊🌊🌊🌊🌊🌊🌊🌊🌊🌊🐬🌊🌊🌊🌊🌊🌊🌊🌊🌊🌊🌊🌊🌊🌊"
   ]
  },
  {
   "cell_type": "markdown",
   "metadata": {
    "lines_to_next_cell": 0
   },
   "source": [
    "<p>"
   ]
  },
  {
   "cell_type": "markdown",
   "metadata": {},
   "source": [
    "## Building Blocks: Getting tokens to your users"
   ]
  },
  {
   "cell_type": "markdown",
   "metadata": {},
   "source": [
    "### Section 1: Import modules, and setup logging"
   ]
  },
  {
   "cell_type": "markdown",
   "metadata": {
    "lines_to_next_cell": 0
   },
   "source": [
    "Imports"
   ]
  },
  {
   "cell_type": "code",
   "execution_count": 1,
   "metadata": {},
   "outputs": [
    {
     "name": "stderr",
     "output_type": "stream",
     "text": [
      "ERROR:root:Internal Python error in the inspect module.\n",
      "Below is the traceback from this internal error.\n",
      "\n"
     ]
    },
    {
     "name": "stdout",
     "output_type": "stream",
     "text": [
      "Traceback (most recent call last):\n",
      "  File \"/home/batman/anaconda3/lib/python3.7/site-packages/IPython/core/interactiveshell.py\", line 2961, in run_code\n",
      "    exec(code_obj, self.user_global_ns, self.user_ns)\n",
      "  File \"<ipython-input-1-99d6664ac6b1>\", line 5, in <module>\n",
      "    from squid_py.ocean.ocean import Ocean\n",
      "ModuleNotFoundError: No module named 'squid_py'\n",
      "\n",
      "During handling of the above exception, another exception occurred:\n",
      "\n",
      "Traceback (most recent call last):\n",
      "  File \"/home/batman/anaconda3/lib/python3.7/site-packages/IPython/core/interactiveshell.py\", line 1863, in showtraceback\n",
      "    stb = value._render_traceback_()\n",
      "AttributeError: 'ModuleNotFoundError' object has no attribute '_render_traceback_'\n",
      "\n",
      "During handling of the above exception, another exception occurred:\n",
      "\n",
      "Traceback (most recent call last):\n",
      "  File \"/home/batman/anaconda3/lib/python3.7/site-packages/IPython/core/ultratb.py\", line 1095, in get_records\n",
      "    return _fixed_getinnerframes(etb, number_of_lines_of_context, tb_offset)\n",
      "  File \"/home/batman/anaconda3/lib/python3.7/site-packages/IPython/core/ultratb.py\", line 311, in wrapped\n",
      "    return f(*args, **kwargs)\n",
      "  File \"/home/batman/anaconda3/lib/python3.7/site-packages/IPython/core/ultratb.py\", line 345, in _fixed_getinnerframes\n",
      "    records = fix_frame_records_filenames(inspect.getinnerframes(etb, context))\n",
      "  File \"/home/batman/anaconda3/lib/python3.7/inspect.py\", line 1495, in getinnerframes\n",
      "    frameinfo = (tb.tb_frame,) + getframeinfo(tb, context)\n",
      "  File \"/home/batman/anaconda3/lib/python3.7/inspect.py\", line 1453, in getframeinfo\n",
      "    filename = getsourcefile(frame) or getfile(frame)\n",
      "  File \"/home/batman/anaconda3/lib/python3.7/inspect.py\", line 696, in getsourcefile\n",
      "    if getattr(getmodule(object, filename), '__loader__', None) is not None:\n",
      "  File \"/home/batman/anaconda3/lib/python3.7/inspect.py\", line 725, in getmodule\n",
      "    file = getabsfile(object, _filename)\n",
      "  File \"/home/batman/anaconda3/lib/python3.7/inspect.py\", line 709, in getabsfile\n",
      "    return os.path.normcase(os.path.abspath(_filename))\n",
      "  File \"/home/batman/anaconda3/lib/python3.7/posixpath.py\", line 376, in abspath\n",
      "    cwd = os.getcwd()\n",
      "FileNotFoundError: [Errno 2] No such file or directory\n"
     ]
    },
    {
     "ename": "ModuleNotFoundError",
     "evalue": "No module named 'squid_py'",
     "output_type": "error",
     "traceback": [
      "\u001b[0;31m---------------------------------------------------------------------------\u001b[0m"
     ]
    }
   ],
   "source": [
    "from pathlib import Path\n",
    "import sys\n",
    "import random\n",
    "import configparser\n",
    "from squid_py.ocean.ocean import Ocean\n",
    "import names\n",
    "import logging\n",
    "import glob\n",
    "import secrets\n",
    "from squid_py.ddo import DDO\n",
    "from unittest.mock import Mock\n",
    "import squid_py\n",
    "print(\"Squid API version:\", squid_py.__version__)\n",
    "import unittest\n",
    "\n",
    "# Add the local utilities package\n",
    "utilities_path = Path('.') / 'script_fixtures'\n",
    "utilities_path = str(utilities_path.absolute())\n",
    "if utilities_path not in sys.path:\n",
    "    sys.path.append(utilities_path)\n",
    "\n",
    "import script_fixtures.logging as util_logging"
   ]
  },
  {
   "cell_type": "markdown",
   "metadata": {},
   "source": [
    "## Section 2: Instantiate the Ocean Protocol interface"
   ]
  },
  {
   "cell_type": "code",
   "execution_count": null,
   "metadata": {},
   "outputs": [],
   "source": [
    "# The contract addresses are loaded from file\n",
    "# CHOOSE YOUR CONFIGURATION HERE\n",
    "PATH_CONFIG = Path.cwd() / 'config_local.ini'\n",
    "# PATH_CONFIG = Path.cwd() / 'config_k8s_deployed.ini'\n",
    "assert PATH_CONFIG.exists(), \"{} does not exist\".format(PATH_CONFIG)\n",
    "\n",
    "ocn = Ocean(PATH_CONFIG)\n",
    "logging.info(\"Ocean smart contract node connected \".format())\n",
    "\n",
    "# ocn.config.keeper_path"
   ]
  },
  {
   "cell_type": "markdown",
   "metadata": {
    "lines_to_next_cell": 0
   },
   "source": [
    "## Section 3: Users and accounts"
   ]
  },
  {
   "cell_type": "markdown",
   "metadata": {
    "lines_to_next_cell": 0
   },
   "source": [
    "List the accounts created in Ganache"
   ]
  },
  {
   "cell_type": "code",
   "execution_count": null,
   "metadata": {},
   "outputs": [],
   "source": [
    "# ocn.accounts is a {address: Account} dict\n",
    "print(\"Ocean accounts:\")\n",
    "for address in ocn.accounts:\n",
    "    acct = ocn.accounts[address]\n",
    "    print(acct.address)"
   ]
  },
  {
   "cell_type": "code",
   "execution_count": null,
   "metadata": {},
   "outputs": [],
   "source": [
    "# These accounts have a balance of ETH and Ocean Token\n",
    "for address, account in ocn.accounts.items():\n",
    "    assert account.balance.eth >= 0\n",
    "    assert account.balance.ocn >= 0"
   ]
  },
  {
   "cell_type": "markdown",
   "metadata": {},
   "source": [
    "Get funds to users\n",
    "\n",
    "A simple wrapper for each address is created to represent a user\n",
    "This wrapper is presented below, and later used as a fixture,\n",
    "See: ./script_fixtures/user.py"
   ]
  },
  {
   "cell_type": "code",
   "execution_count": null,
   "metadata": {},
   "outputs": [],
   "source": [
    "class User():\n",
    "    def __init__(self, name, role, address, config_path=None):\n",
    "        \"\"\"\n",
    "        A class to represent a User of Ocean Protocol.\n",
    "        A User's account can be *locked*. To unlock an account, provide the password to the .unlock() method.\n",
    "\n",
    "        :param name: Just to keep track and personalize the simulation\n",
    "        :param role: Also just for personalizing\n",
    "        :param address: This the account address\n",
    "        :param config_path: The Ocean() library class *requires* a config file\n",
    "        \"\"\"\n",
    "        self.name = name\n",
    "        self.address = address\n",
    "        self.role = role\n",
    "        self.credentials = False # Does this config file have a user address and pasword?\n",
    "        self.config_path = config_path\n",
    "\n",
    "        self.ocn = None\n",
    "        self.account = None\n",
    "\n",
    "        # If the account is unlocked, instantiate Ocean and the Account classes\n",
    "        if self.address.lower() in PASSWORD_MAP:\n",
    "            password = PASSWORD_MAP[self.address.lower()]\n",
    "\n",
    "            # The ocean class REQUIRES a .ini file -> need to create this file!\n",
    "            if not self.config_path:\n",
    "                self.config_fname = \"{}_{}_config.ini\".format(self.name,self.role).replace(' ', '_')\n",
    "                config_path = self.create_config(password) # Create configuration file for this user\n",
    "\n",
    "            # Instantiate Ocean and Account for this User\n",
    "            self.ocn = Ocean(config_path)\n",
    "            if self.ocn.main_account: # If this attribute exists, the password is stored\n",
    "                self.credentials = True\n",
    "            # self.unlock(password)\n",
    "            acct_dict_lower = {k.lower(): v for k, v in ocn.accounts.items()}\n",
    "            self.account = acct_dict_lower[self.address.lower()]\n",
    "\n",
    "        logging.info(self)\n",
    "\n",
    "    def create_config(self,password):\n",
    "        \"\"\"Fow now, a new config.ini file must be created and passed into Ocean for instantiation\"\"\"\n",
    "        conf = configparser.ConfigParser()\n",
    "        conf.read(PATH_CONFIG)\n",
    "        conf['keeper-contracts']['parity.address'] = self.address\n",
    "        conf['keeper-contracts']['parity.password'] = password\n",
    "        out_path = Path.cwd() / 'user_configurations' / self.config_fname\n",
    "        logging.info(\"Create a new configuration file for {}.\".format(self.name))\n",
    "        with open(out_path, 'w') as fp:\n",
    "            conf.write(fp)\n",
    "        return out_path\n",
    "\n",
    "    def __str__(self):\n",
    "        if not self.credentials:\n",
    "            return \"{:<20} {:<20} LOCKED ACCOUNT\".format(self.name, self.role)\n",
    "        else:\n",
    "            ocean_token = self.account.ocean_balance\n",
    "            return \"{:<20} {:<20} with {} Ocean token\".format(self.name, self.role, ocean_token)\n",
    "\n",
    "    def __repr__(self):\n",
    "        return self.__str__()"
   ]
  },
  {
   "cell_type": "markdown",
   "metadata": {
    "lines_to_next_cell": 0
   },
   "source": [
    "Users are instantiated and listed"
   ]
  },
  {
   "cell_type": "code",
   "execution_count": null,
   "metadata": {},
   "outputs": [],
   "source": [
    "# Selected accounts are unlocked via password\n",
    "PASSWORD_MAP = {\n",
    "    '0x00bd138abd70e2f00903268f3db08f2d25677c9e' : 'node0',\n",
    "    '0x068ed00cf0441e4829d9784fcbe7b9e26d4bd8d0' : 'secret',\n",
    "    '0xa99d43d86a0758d5632313b8fa3972b6088a21bb' : 'secret',\n",
    "}\n",
    "\n",
    "# Create some simulated users of Ocean Protocol\n",
    "# Alternate between Data Scientists (Consumers)\n",
    "# and Data Owners (providers)\n",
    "users = list()\n",
    "for i, acct_address in enumerate(ocn.accounts):\n",
    "    if i%2 == 0: role = 'Data Scientist'\n",
    "    else: role = 'Data Owner'\n",
    "    user = User(names.get_full_name(), role, acct_address)\n",
    "    users.append(user)\n",
    "\n",
    "# Select only unlocked accounts\n",
    "unlocked_users = [u for u in users if u.credentials]\n",
    "logging.info(\"Selected {} unlocked accounts for simulation.\".format(len(users)))"
   ]
  },
  {
   "cell_type": "code",
   "execution_count": null,
   "metadata": {},
   "outputs": [],
   "source": [
    "# (Optional)\n",
    "# Delete the configuration files in the /user_configurations folder\n",
    "for f in Path('.').glob('user_configurations/*.ini'):\n",
    "    f.unlink()"
   ]
  },
  {
   "cell_type": "markdown",
   "metadata": {
    "lines_to_next_cell": 0
   },
   "source": [
    "List the users"
   ]
  },
  {
   "cell_type": "code",
   "execution_count": null,
   "metadata": {},
   "outputs": [],
   "source": [
    "for u in unlocked_users: print(u)"
   ]
  },
  {
   "cell_type": "markdown",
   "metadata": {
    "lines_to_next_cell": 0
   },
   "source": [
    "Get some Ocean token"
   ]
  },
  {
   "cell_type": "code",
   "execution_count": null,
   "metadata": {},
   "outputs": [],
   "source": [
    "for usr in unlocked_users:\n",
    "    if usr.account.ocean_balance == 0:\n",
    "        rcpt = usr.account.request_tokens(random.randint(0,100))\n",
    "        usr.ocn._web3.eth.waitForTransactionReceipt(rcpt)"
   ]
  },
  {
   "cell_type": "markdown",
   "metadata": {
    "lines_to_next_cell": 0
   },
   "source": [
    "List the users, and notice the updated balance"
   ]
  },
  {
   "cell_type": "code",
   "execution_count": null,
   "metadata": {},
   "outputs": [],
   "source": [
    "for u in unlocked_users: print(u)"
   ]
  }
 ],
 "metadata": {
  "jupytext": {
   "main_language": "python",
   "text_representation": {
    "extension": ".py",
    "format_name": "percent"
   }
  },
  "kernelspec": {
   "display_name": "Python 3",
   "language": "python",
   "name": "python3"
  },
  "language_info": {
   "codemirror_mode": {
    "name": "ipython",
    "version": 3
   },
   "file_extension": ".py",
   "mimetype": "text/x-python",
   "name": "python",
   "nbconvert_exporter": "python",
   "pygments_lexer": "ipython3",
   "version": "3.7.0"
  }
 },
 "nbformat": 4,
 "nbformat_minor": 2
}
