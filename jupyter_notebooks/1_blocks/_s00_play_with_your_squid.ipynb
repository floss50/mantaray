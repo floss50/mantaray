{
 "cells": [
  {
   "cell_type": "markdown",
   "metadata": {},
   "source": [
    "\n",
    "<p><center>Ocean Protocol</p>\n",
    "<p><center>Trilobite pre-release 0.1</center></p>\n",
    "<img src=\"https://oceanprotocol.com/static/media/logo-white.7b65db16.png\" alt=\"drawing\" width=\"200\" align=\"center\"/>\n",
    "</center>"
   ]
  },
  {
   "cell_type": "code",
   "execution_count": null,
   "metadata": {
    "lines_to_next_cell": 0.0
   },
   "outputs": [],
   "source": [
    "# Ocean Protocol\n",
    "#\n",
    "# Trilobite release\n",
    "#\n",
    "# <img src=\"https://oceanprotocol.com/static/media/logo-white.7b65db16.png\" alt=\"drawing\" width=\"200\"/>\n",
    "# <img src=\"https://oceanprotocol.com/static/media/logo.75e257aa.png\" alt=\"drawing\" width=\"200\"/>\n",
    "#"
   ]
  },
  {
   "cell_type": "markdown",
   "metadata": {},
   "source": [
    "# Test functionality of squid-py wrapper."
   ]
  },
  {
   "cell_type": "markdown",
   "metadata": {},
   "source": [
    "<img src=\"https://3c1703fe8d.site.internapcdn.net/newman/gfx/news/hires/2017/mismatchedey.jpg\" alt=\"drawing\" width=\"200\" align=\"center\"/>"
   ]
  },
  {
   "cell_type": "markdown",
   "metadata": {},
   "source": [
    "## Section 1: Import modules, and setup logging"
   ]
  },
  {
   "cell_type": "markdown",
   "metadata": {
    "lines_to_next_cell": 0.0
   },
   "source": [
    "Imports"
   ]
  },
  {
   "cell_type": "code",
   "execution_count": null,
   "metadata": {},
   "outputs": [],
   "source": [
    "from pathlib import Path\n",
    "import squid_py.ocean as ocean_wrapper\n",
    "# from squid_py.utils.web3_helper import convert_to_bytes, convert_to_string, convert_to_text, Web3Helper\n",
    "import sys\n",
    "import random\n",
    "import json\n",
    "import os\n",
    "from pprint import pprint\n",
    "import configparser\n",
    "# import squid_py.ocean as ocean\n",
    "from squid_py.ocean.ocean import Ocean\n",
    "from squid_py.ocean.asset import Asset\n",
    "import names\n",
    "import secrets\n",
    "from squid_py.ddo import DDO\n",
    "from unittest.mock import Mock\n",
    "import squid_py\n",
    "print(\"Squid API version:\", squid_py.__version__)\n",
    "import unittest"
   ]
  },
  {
   "cell_type": "markdown",
   "metadata": {
    "lines_to_next_cell": 0.0
   },
   "source": [
    "Logging"
   ]
  },
  {
   "cell_type": "code",
   "execution_count": null,
   "metadata": {
    "lines_to_next_cell": 0.0
   },
   "outputs": [],
   "source": [
    "import logging\n",
    "loggers_dict = logging.Logger.manager.loggerDict\n",
    "logger = logging.getLogger()\n",
    "logger.handlers = []\n",
    "# Set level\n",
    "logger.setLevel(logging.INFO)\n",
    "FORMAT = \"%(levelno)s - %(module)-15s - %(funcName)-15s - %(message)s\"\n",
    "DATE_FMT = \"%Y-%m-%d %H:%M:%S\"\n",
    "formatter = logging.Formatter(FORMAT, DATE_FMT)\n",
    "# Create handler and assign\n",
    "handler = logging.StreamHandler(sys.stderr)\n",
    "handler.setFormatter(formatter)\n",
    "logger.handlers = [handler]\n",
    "logger.info(\"Logging started\")"
   ]
  },
  {
   "cell_type": "markdown",
   "metadata": {},
   "source": [
    "## Section 2: Instantiate the Ocean Protocol interface"
   ]
  },
  {
   "cell_type": "code",
   "execution_count": null,
   "metadata": {},
   "outputs": [],
   "source": [
    "# The contract addresses are loaded from file\n",
    "# CHOOSE YOUR CONFIGURATION HERE\n",
    "PATH_CONFIG = Path.cwd() / 'config_local.ini'\n",
    "# PATH_CONFIG = Path.cwd() / 'config_k8s_deployed.ini'\n",
    "assert PATH_CONFIG.exists(), \"{} does not exist\".format(PATH_CONFIG)\n",
    "\n",
    "ocn = Ocean(PATH_CONFIG)\n",
    "logging.info(\"Ocean smart contract node connected \".format())"
   ]
  }
 ],
 "metadata": {
  "jupytext": {
   "main_language": "python",
   "text_representation": {
    "extension": ".py",
    "format_name": "percent"
   }
  }
 },
 "nbformat": 4,
 "nbformat_minor": 2
}
