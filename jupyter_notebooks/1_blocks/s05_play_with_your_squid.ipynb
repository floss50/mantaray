{
 "cells": [
  {
   "cell_type": "markdown",
   "metadata": {},
   "source": [
    "\n",
    "<p><center>Ocean Protocol</p>\n",
    "<p><center>Trilobite pre-release 0.1</center></p>\n",
    "<img src=\"https://oceanprotocol.com/static/media/logo-white.7b65db16.png\" alt=\"drawing\" width=\"200\" align=\"center\"/>\n",
    "</center>"
   ]
  },
  {
   "cell_type": "markdown",
   "metadata": {},
   "source": [
    "# Test functionality of squid-py wrapper."
   ]
  },
  {
   "cell_type": "markdown",
   "metadata": {},
   "source": [
    "<img src=\"https://3c1703fe8d.site.internapcdn.net/newman/gfx/news/hires/2017/mismatchedey.jpg\" alt=\"drawing\" width=\"200\" align=\"center\"/>"
   ]
  },
  {
   "cell_type": "markdown",
   "metadata": {},
   "source": [
    "## Section 1: Import modules, and setup logging"
   ]
  },
  {
   "cell_type": "markdown",
   "metadata": {
    "lines_to_next_cell": 0
   },
   "source": [
    "Imports"
   ]
  },
  {
   "cell_type": "code",
   "execution_count": 7,
   "metadata": {},
   "outputs": [],
   "source": [
    "from pathlib import Path\n",
    "import squid_py.ocean as ocean_wrapper\n",
    "# from squid_py.utils.web3_helper import convert_to_bytes, convert_to_string, convert_to_text, Web3Helper\n",
    "import sys\n",
    "import random\n",
    "import json\n",
    "from pprint import pprint\n",
    "import squid_py.ocean as ocean\n",
    "import names"
   ]
  },
  {
   "cell_type": "markdown",
   "metadata": {
    "lines_to_next_cell": 0
   },
   "source": [
    "Logging"
   ]
  },
  {
   "cell_type": "code",
   "execution_count": 8,
   "metadata": {
    "lines_to_next_cell": 0
   },
   "outputs": [
    {
     "name": "stderr",
     "output_type": "stream",
     "text": [
      "20 - <ipython-input-8-f1bdb9cc4f0f> - <module>        - Logging started\n"
     ]
    }
   ],
   "source": [
    "import logging\n",
    "loggers_dict = logging.Logger.manager.loggerDict\n",
    "logger = logging.getLogger()\n",
    "logger.handlers = []\n",
    "# Set level\n",
    "logger.setLevel(logging.INFO)\n",
    "FORMAT = \"%(levelno)s - %(module)-15s - %(funcName)-15s - %(message)s\"\n",
    "DATE_FMT = \"%Y-%m-%d %H:%M:%S\"\n",
    "formatter = logging.Formatter(FORMAT, DATE_FMT)\n",
    "# Create handler and assign\n",
    "handler = logging.StreamHandler(sys.stderr)\n",
    "handler.setFormatter(formatter)\n",
    "logger.handlers = [handler]\n",
    "logger.info(\"Logging started\")"
   ]
  },
  {
   "cell_type": "markdown",
   "metadata": {},
   "source": [
    "## Section 2: Instantiate the Ocean Protocol interface"
   ]
  },
  {
   "cell_type": "code",
   "execution_count": 9,
   "metadata": {
    "lines_to_next_cell": 2
   },
   "outputs": [
    {
     "name": "stderr",
     "output_type": "stream",
     "text": [
      "20 - <ipython-input-9-82d55dcb12ef> - <module>        - Ocean smart contract node connected \n"
     ]
    }
   ],
   "source": [
    "# The contract addresses are loaded from file\n",
    "# CHOOSE YOUR CONFIGURATION HERE\n",
    "# PATH_CONFIG = Path.cwd() / 'config_local.ini'\n",
    "PATH_CONFIG = Path.cwd() / '..' / '..' / 'config_k8s_deployed.ini'\n",
    "# PATH_CONFIG = Path.cwd() /  'config_local.ini'\n",
    "# PATH_CONFIG = Path.cwd() / 'config_k8s.ini'\n",
    "# PATH_CONFIG = Path.cwd() / 'config_local.ini'\n",
    "assert PATH_CONFIG.exists(), \"{} does not exist\".format(PATH_CONFIG)\n",
    "\n",
    "ocn = ocean.Ocean(PATH_CONFIG)\n",
    "logging.info(\"Ocean smart contract node connected \".format())"
   ]
  },
  {
   "cell_type": "markdown",
   "metadata": {
    "lines_to_next_cell": 0
   },
   "source": [
    "## Section 3: Users and accounts"
   ]
  },
  {
   "cell_type": "markdown",
   "metadata": {
    "lines_to_next_cell": 0
   },
   "source": [
    "List the accounts created in Ganache"
   ]
  },
  {
   "cell_type": "code",
   "execution_count": 10,
   "metadata": {},
   "outputs": [
    {
     "name": "stdout",
     "output_type": "stream",
     "text": [
      "Account 0x90F8bf6A479f320ead074411a4B0e7944Ea8c9C1 with 0 Eth, 6 Ocean\n",
      "Account 0xFFcf8FDEE72ac11b5c542428B35EEF5769C409f0 with 99998521380000000000 Eth, 36 Ocean\n",
      "Account 0x22d491Bde2303f2f43325b2108D26f1eAbA1e32b with 99998521380000000000 Eth, 98 Ocean\n",
      "Account 0xE11BA2b4D45Eaed5996Cd0823791E0C93114882d with 0 Eth, 94 Ocean\n",
      "Account 0xd03ea8624C8C5987235048901fB614fDcA89b117 with 0 Eth, 59 Ocean\n",
      "Account 0x95cED938F7991cd0dFcb48F0a06a40FA1aF46EBC with 0 Eth, 10 Ocean\n",
      "Account 0x3E5e9111Ae8eB78Fe1CC3bb8915d5D461F3Ef9A9 with 99998521380000000000 Eth, 66 Ocean\n",
      "Account 0x28a8746e75304c0780E011BEd21C72cD78cd535E with 99998521380000000000 Eth, 57 Ocean\n",
      "Account 0xACa94ef8bD5ffEE41947b4585a84BdA5a3d3DA6E with 0 Eth, 99 Ocean\n",
      "Account 0x1dF62f291b2E969fB0849d99D9Ce41e2F137006e with 99980948980000000000 Eth, 999 Ocean\n"
     ]
    }
   ],
   "source": [
    "ocn.update_accounts()\n",
    "for address in ocn.accounts:\n",
    "    print(ocn.accounts[address])\n",
    "\n",
    "# These accounts have a positive ETH balance\n",
    "for address, account in ocn.accounts.items():\n",
    "    assert account.ether >= 0\n",
    "    assert account.ocean >= 0"
   ]
  },
  {
   "cell_type": "markdown",
   "metadata": {
    "lines_to_next_cell": 0
   },
   "source": [
    "Get funds to users\n",
    "By default, 10 wallet addresses are created in Ganache\n",
    "A simple wrapper for each address is created to represent a user\n",
    "Users are instantiated and listed"
   ]
  },
  {
   "cell_type": "code",
   "execution_count": 11,
   "metadata": {},
   "outputs": [
    {
     "name": "stderr",
     "output_type": "stream",
     "text": [
      "20 - <ipython-input-11-5cda20a83649> - __init__        - Ted Elletson         Data Scientist       6 Ocean token\n",
      "20 - <ipython-input-11-5cda20a83649> - __init__        - Lang Waage           Data Owner           36 Ocean token\n",
      "20 - <ipython-input-11-5cda20a83649> - __init__        - Alan Trowbridge      Data Scientist       98 Ocean token\n",
      "20 - <ipython-input-11-5cda20a83649> - __init__        - Marjorie Davis       Data Owner           94 Ocean token\n",
      "20 - <ipython-input-11-5cda20a83649> - __init__        - Harold Norton        Data Scientist       59 Ocean token\n",
      "20 - <ipython-input-11-5cda20a83649> - __init__        - Thomas Le            Data Owner           10 Ocean token\n",
      "20 - <ipython-input-11-5cda20a83649> - __init__        - Amy King             Data Scientist       66 Ocean token\n",
      "20 - <ipython-input-11-5cda20a83649> - __init__        - Kerry Mcdonald       Data Owner           57 Ocean token\n",
      "20 - <ipython-input-11-5cda20a83649> - __init__        - Lisa Mcdonald        Data Scientist       99 Ocean token\n",
      "20 - <ipython-input-11-5cda20a83649> - __init__        - Lois Fugitt          Data Owner           999 Ocean token\n"
     ]
    }
   ],
   "source": [
    "class User():\n",
    "    def __init__(self, name, role, account_obj):\n",
    "        self.name = name\n",
    "        self.role = role\n",
    "        self.account = account_obj\n",
    "\n",
    "        logging.info(self)\n",
    "\n",
    "    def __str__(self):\n",
    "        try:\n",
    "            ocean_token = self.account.ocean\n",
    "        except:\n",
    "            ocean_token = 0\n",
    "        return \"{:<20} {:<20} {} Ocean token\".format(self.name, self.role, ocean_token)\n",
    "\n",
    "users = list()\n",
    "for i, acct_address in enumerate(ocn.accounts):\n",
    "    if i%2 == 0: role = 'Data Scientist'\n",
    "    else: role = 'Data Owner'\n",
    "    user = User(names.get_full_name(), role, ocn.accounts[acct_address])\n",
    "    users.append(user)"
   ]
  },
  {
   "cell_type": "markdown",
   "metadata": {
    "lines_to_next_cell": 0
   },
   "source": [
    "List the users"
   ]
  },
  {
   "cell_type": "code",
   "execution_count": 12,
   "metadata": {},
   "outputs": [
    {
     "name": "stdout",
     "output_type": "stream",
     "text": [
      "Ted Elletson         Data Scientist       6 Ocean token\n",
      "Lang Waage           Data Owner           36 Ocean token\n",
      "Alan Trowbridge      Data Scientist       98 Ocean token\n",
      "Marjorie Davis       Data Owner           94 Ocean token\n",
      "Harold Norton        Data Scientist       59 Ocean token\n",
      "Thomas Le            Data Owner           10 Ocean token\n",
      "Amy King             Data Scientist       66 Ocean token\n",
      "Kerry Mcdonald       Data Owner           57 Ocean token\n",
      "Lisa Mcdonald        Data Scientist       99 Ocean token\n",
      "Lois Fugitt          Data Owner           999 Ocean token\n"
     ]
    }
   ],
   "source": [
    "for u in users: print(u)"
   ]
  },
  {
   "cell_type": "markdown",
   "metadata": {
    "lines_to_next_cell": 0
   },
   "source": [
    "Get some Ocean token"
   ]
  },
  {
   "cell_type": "code",
   "execution_count": null,
   "metadata": {},
   "outputs": [],
   "source": [
    "for usr in users:\n",
    "    rcpt = usr.account.request_tokens(random.randint(0,100))\n",
    "    ocn._web3.eth.waitForTransactionReceipt(rcpt)\n",
    "\n",
    "for u in users: print(u)"
   ]
  },
  {
   "cell_type": "markdown",
   "metadata": {
    "lines_to_next_cell": 0
   },
   "source": [
    "## Section 4: Find and publish assets"
   ]
  },
  {
   "cell_type": "markdown",
   "metadata": {},
   "source": [
    "List assets"
   ]
  },
  {
   "cell_type": "code",
   "execution_count": 13,
   "metadata": {
    "title": "Register some assets"
   },
   "outputs": [
    {
     "ename": "NameError",
     "evalue": "name 'pathlib' is not defined",
     "output_type": "error",
     "traceback": [
      "\u001b[0;31m---------------------------------------------------------------------------\u001b[0m",
      "\u001b[0;31mNameError\u001b[0m                                 Traceback (most recent call last)",
      "\u001b[0;32m<ipython-input-13-862d26095e5b>\u001b[0m in \u001b[0;36m<module>\u001b[0;34m\u001b[0m\n\u001b[1;32m      1\u001b[0m \u001b[0;34m\u001b[0m\u001b[0m\n\u001b[1;32m      2\u001b[0m \u001b[0;31m# The sample asset metadata is stored in a .json file\u001b[0m\u001b[0;34m\u001b[0m\u001b[0;34m\u001b[0m\u001b[0m\n\u001b[0;32m----> 3\u001b[0;31m \u001b[0mPATH_ASSET1\u001b[0m \u001b[0;34m=\u001b[0m \u001b[0mpathlib\u001b[0m\u001b[0;34m.\u001b[0m\u001b[0mPath\u001b[0m\u001b[0;34m.\u001b[0m\u001b[0mcwd\u001b[0m\u001b[0;34m(\u001b[0m\u001b[0;34m)\u001b[0m \u001b[0;34m/\u001b[0m \u001b[0;34m'sample_assets'\u001b[0m \u001b[0;34m/\u001b[0m \u001b[0;34m'sample1.json'\u001b[0m\u001b[0;34m\u001b[0m\u001b[0m\n\u001b[0m\u001b[1;32m      4\u001b[0m \u001b[0;32massert\u001b[0m \u001b[0mPATH_ASSET1\u001b[0m\u001b[0;34m.\u001b[0m\u001b[0mexists\u001b[0m\u001b[0;34m(\u001b[0m\u001b[0;34m)\u001b[0m\u001b[0;34m\u001b[0m\u001b[0m\n\u001b[1;32m      5\u001b[0m \u001b[0;32mwith\u001b[0m \u001b[0mopen\u001b[0m\u001b[0;34m(\u001b[0m\u001b[0mPATH_ASSET1\u001b[0m\u001b[0;34m)\u001b[0m \u001b[0;32mas\u001b[0m \u001b[0mf\u001b[0m\u001b[0;34m:\u001b[0m\u001b[0;34m\u001b[0m\u001b[0m\n",
      "\u001b[0;31mNameError\u001b[0m: name 'pathlib' is not defined"
     ]
    }
   ],
   "source": [
    "\n",
    "# The sample asset metadata is stored in a .json file\n",
    "PATH_ASSET1 = pathlib.Path.cwd() / 'sample_assets' / 'sample1.json'\n",
    "assert PATH_ASSET1.exists()\n",
    "with open(PATH_ASSET1) as f:\n",
    "    dataset = json.load(f)\n",
    "\n",
    "logging.info(\"Asset metadata for {}: type={}, price={}\".format(dataset['base']['name'],dataset['base']['type'],dataset['base']['price']))\n",
    "\n",
    "registered_asset = users[0].register_asset(dataset)\n",
    "\n",
    "asset = ocn.metadata.register_asset(dataset)\n",
    "assert ocean_provider.metadata.get_asset_ddo(asset['assetId'])['base']['name'] == asset['base']['name']\n",
    "ocean_provider.metadata.retire_asset(asset['assetId'])"
   ]
  },
  {
   "cell_type": "code",
   "execution_count": null,
   "metadata": {
    "lines_to_next_cell": 2,
    "title": "List assets"
   },
   "outputs": [],
   "source": [
    "asset_ddo = ocn.metadata.get_asset_ddo(dataset['assetId'])\n",
    "assert ocn.metadata.get_asset_ddo(dataset['assetId'])['base']['name'] == dataset['base']['name']"
   ]
  }
 ],
 "metadata": {
  "jupytext": {
   "main_language": "python",
   "text_representation": {
    "extension": ".py",
    "format_name": "percent"
   }
  },
  "kernelspec": {
   "display_name": "mantaray_latest",
   "language": "python",
   "name": "mantaray_latest"
  },
  "language_info": {
   "codemirror_mode": {
    "name": "ipython",
    "version": 3
   },
   "file_extension": ".py",
   "mimetype": "text/x-python",
   "name": "python",
   "nbconvert_exporter": "python",
   "pygments_lexer": "ipython3",
   "version": "3.7.0"
  }
 },
 "nbformat": 4,
 "nbformat_minor": 2
}
