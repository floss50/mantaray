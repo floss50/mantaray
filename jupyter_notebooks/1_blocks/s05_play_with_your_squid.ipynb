{
 "cells": [
  {
   "cell_type": "code",
   "execution_count": null,
   "metadata": {
    "lines_to_next_cell": 2.0
   },
   "outputs": [],
   "source": [
    "\"\"\"\n",
    "Test functionality of squid-py wrapper.\n",
    "\"\"\""
   ]
  },
  {
   "cell_type": "code",
   "execution_count": null,
   "metadata": {
    "title": "Imports"
   },
   "outputs": [],
   "source": [
    "from pathlib import Path\n",
    "import squid_py.ocean as ocean_wrapper\n",
    "# from squid_py.utils.web3_helper import convert_to_bytes, convert_to_string, convert_to_text, Web3Helper\n",
    "import sys\n",
    "import random\n",
    "import json\n",
    "from pprint import pprint\n",
    "import squid_py.ocean as ocean"
   ]
  },
  {
   "cell_type": "code",
   "execution_count": null,
   "metadata": {
    "title": "Logging"
   },
   "outputs": [],
   "source": [
    "import logging\n",
    "loggers_dict = logging.Logger.manager.loggerDict\n",
    "logger = logging.getLogger()\n",
    "logger.handlers = []\n",
    "# Set level\n",
    "logger.setLevel(logging.INFO)\n",
    "FORMAT = \"%(levelno)s - %(module)-15s - %(funcName)-15s - %(message)s\"\n",
    "DATE_FMT = \"%Y-%m-%d %H:%M:%S\"\n",
    "formatter = logging.Formatter(FORMAT, DATE_FMT)\n",
    "# Create handler and assign\n",
    "handler = logging.StreamHandler(sys.stderr)\n",
    "handler.setFormatter(formatter)\n",
    "logger.handlers = [handler]\n",
    "logger.info(\"Logging started\")"
   ]
  },
  {
   "cell_type": "code",
   "execution_count": null,
   "metadata": {
    "title": "Instantiate the wrapper"
   },
   "outputs": [],
   "source": [
    "\n",
    "# The contract addresses are loaded from file\n",
    "# CHOOSE YOUR CONFIGURATION METHOD\n",
    "# PATH_CONFIG = Path.cwd() / 'config_local.ini'\n",
    "# PATH_CONFIG = Path.cwd() / '..' / '..' / 'config_k8s.ini'\n",
    "PATH_CONFIG = Path.cwd() / 'config_k8s.ini'\n",
    "# PATH_CONFIG = Path.cwd() / 'config_local.ini'\n",
    "assert PATH_CONFIG.exists(), \"{} does not exist\".format(PATH_CONFIG)\n",
    "\n",
    "ocn = ocean.Ocean(PATH_CONFIG)\n",
    "logging.info(\"Ocean smart contract node connected \".format())"
   ]
  },
  {
   "cell_type": "code",
   "execution_count": null,
   "metadata": {
    "lines_to_next_cell": 2.0,
    "title": "List the users"
   },
   "outputs": [],
   "source": [
    "ocn.accounts"
   ]
  },
  {
   "cell_type": "code",
   "execution_count": null,
   "metadata": {
    "title": "Get funds to users"
   },
   "outputs": [],
   "source": [
    "# By default, 10 wallet addresses are created in Ganache\n",
    "# A simple wrapper for each address is created to represent a user\n",
    "# Users are instantiated and listed\n",
    "\n",
    "class User():\n",
    "    def __init__(self,num,account_obj):\n",
    "        self.name = 'user' + str(num)\n",
    "        self.account = account_obj\n",
    "        logging.info(self)\n",
    "\n",
    "    def __str__(self):\n",
    "        # self.update_balance()\n",
    "        return \"{}  {}\".format(self.name,self.account)\n",
    "\n",
    "users = list()\n",
    "for i, acct_address in enumerate(ocn.accounts):\n",
    "    user = User(i, ocn.accounts[acct_address])\n",
    "\n",
    "\n",
    "    # print(i, acct_address, account_obj.ocean, account_obj.ether)\n",
    "    # user.request_dev_tokens(random.randint(0,100))\n",
    "    # user.account.request_tokens(random.randint(0,100)))\n",
    "    users.append(user)"
   ]
  },
  {
   "cell_type": "code",
   "execution_count": null,
   "metadata": {
    "title": "List the users"
   },
   "outputs": [],
   "source": [
    "users[0].name = 'Data Scientist'\n",
    "users[1].name = 'Data Owner'\n",
    "for u in users: print(u)"
   ]
  },
  {
   "cell_type": "code",
   "execution_count": null,
   "metadata": {
    "title": "Get some Ocean token"
   },
   "outputs": [],
   "source": [
    "for usr in users:\n",
    "    usr.account.request_tokens(random.randint(0,100))\n",
    "\n",
    "for u in users: print(u)"
   ]
  },
  {
   "cell_type": "code",
   "execution_count": null,
   "metadata": {
    "title": "Register some assets"
   },
   "outputs": [],
   "source": [
    "\n",
    "# The sample asset metadata is stored in a .json file\n",
    "PATH_ASSET1 = pathlib.Path.cwd() / 'sample_assets' / 'sample1.json'\n",
    "assert PATH_ASSET1.exists()\n",
    "with open(PATH_ASSET1) as f:\n",
    "    dataset = json.load(f)\n",
    "\n",
    "logging.info(\"Asset metadata for {}: type={}, price={}\".format(dataset['base']['name'],dataset['base']['type'],dataset['base']['price']))\n",
    "\n",
    "registered_asset = users[0].register_asset(dataset)\n",
    "\n",
    "asset = ocn.metadata.register_asset(dataset)\n",
    "assert ocean_provider.metadata.get_asset_ddo(asset['assetId'])['base']['name'] == asset['base']['name']\n",
    "ocean_provider.metadata.retire_asset(asset['assetId'])"
   ]
  },
  {
   "cell_type": "code",
   "execution_count": null,
   "metadata": {
    "lines_to_next_cell": 0.0,
    "title": "List assets"
   },
   "outputs": [],
   "source": [
    "asset_ddo = ocn.metadata.get_asset_ddo(dataset['assetId'])\n",
    "assert ocn.metadata.get_asset_ddo(dataset['assetId'])['base']['name'] == dataset['base']['name']"
   ]
  },
  {
   "cell_type": "code",
   "execution_count": null,
   "metadata": {
    "lines_to_next_cell": 2.0
   },
   "outputs": [],
   "source": [
    "\n",
    "# import time\n",
    "\n",
    "# import squid_py.acl as acl\n",
    "# from squid_py.ocean import Ocean\n",
    "# from squid_py.utils.web3_helper import convert_to_string\n",
    "\n",
    "def get_events(event_filter, max_iterations=100, pause_duration=0.1):\n",
    "    events = event_filter.get_new_entries()\n",
    "    i = 0\n",
    "    while not events and i < max_iterations:\n",
    "        i += 1\n",
    "        time.sleep(pause_duration)\n",
    "        events = event_filter.get_new_entries()\n",
    "\n",
    "    if not events:\n",
    "        print('no events found in %s events filter.' % str(event_filter))\n",
    "    return events\n",
    "\n",
    "\n",
    "def process_enc_token(event):\n",
    "    # should get accessId and encryptedAccessToken in the event\n",
    "    print(\"token published event: %s\" % event)\n",
    "\n",
    "\n",
    "def test_keeper():\n",
    "    expire_seconds = 9999999999\n",
    "    asset_price = 100\n",
    "    ocean = Ocean(host='http://localhost', port=8545, config_path='config_local.ini')\n",
    "    market = ocean.market\n",
    "    token = ocean.token\n",
    "    auth = ocean.auth\n",
    "    provider_account = ocean.helper.web3.eth.accounts[0]\n",
    "    consumer_account = ocean.helper.web3.eth.accounts[1]\n",
    "    assert market.request_tokens(2000, provider_account)\n",
    "    assert market.request_tokens(2000, consumer_account)\n",
    "\n",
    "    # 1. Provider register an asset\n",
    "    asset_id = market.register_asset(json_dict['base']['name'],json_dict['base']['description'], asset_price, provider_account)\n",
    "    assert market.check_asset(asset_id)\n",
    "    assert asset_price == market.get_asset_price(asset_id)\n",
    "\n",
    "    json_dict['assetId'] = ocean.web3.toHex(asset_id)\n",
    "    ocean.metadata.register_asset(json_dict)\n",
    "    expiry = int(time.time() + expire_seconds)\n",
    "\n",
    "    pubprivkey = acl.generate_encryption_keys()\n",
    "    pubkey = pubprivkey.public_key\n",
    "    req = auth.concise_contract.initiateAccessRequest(asset_id,\n",
    "                                                      provider_account,\n",
    "                                                      pubkey,\n",
    "                                                      expiry,\n",
    "                                                      transact={'from': consumer_account})\n",
    "    receipt = ocean.helper.get_tx_receipt(req)\n",
    "\n",
    "    send_event = auth.contract.events.AccessConsentRequested().processReceipt(receipt)\n",
    "    request_id = send_event[0]['args']['_id']\n",
    "\n",
    "    assert auth.get_order_status(request_id) == 0 or auth.get_order_status(\n",
    "        request_id) == 1\n",
    "\n",
    "    # filter_token_published = ocean.helper.watch_event(auth.contract, 'EncryptedTokenPublished', process_enc_token, 0.5,\n",
    "    #                                                   fromBlock='latest')\n",
    "\n",
    "    i = 0\n",
    "    while (auth.get_order_status(request_id) == 1) is False and i < 100:\n",
    "        i += 1\n",
    "        time.sleep(0.1)\n",
    "\n",
    "    assert auth.get_order_status(request_id) == 1\n",
    "\n",
    "    token.token_approve(ocean.web3.toChecksumAddress(market.address),\n",
    "                        asset_price,\n",
    "                        consumer_account)\n",
    "\n",
    "    buyer_balance_start = token.get_token_balance(consumer_account)\n",
    "    seller_balance_start = token.get_token_balance(provider_account)\n",
    "    print('starting buyer balance = ', buyer_balance_start)\n",
    "    print('starting seller balance = ', seller_balance_start)\n",
    "\n",
    "    send_payment = market.contract_concise.sendPayment(request_id,\n",
    "                                                       provider_account,\n",
    "                                                       asset_price,\n",
    "                                                       expiry,\n",
    "                                                       transact={'from': consumer_account, 'gas': 400000})\n",
    "    receipt = ocean.helper.get_tx_receipt(send_payment)\n",
    "    print('Receipt: %s' % receipt)\n",
    "\n",
    "    print('buyer balance = ', token.get_token_balance(consumer_account))\n",
    "    print('seller balance = ', token.get_token_balance(provider_account))\n",
    "    ocean.metadata.retire_asset(convert_to_string(asset_id))"
   ]
  },
  {
   "cell_type": "code",
   "execution_count": null,
   "metadata": {},
   "outputs": [],
   "source": [
    "    # events = get_events(filter_token_published)\n",
    "    # assert events\n",
    "    # assert events[0].args['_id'] == request_id\n",
    "    # on_chain_enc_token = events[0].args[\"_encryptedAccessToken\"]\n",
    "\n",
    "\n",
    "\n",
    "\n",
    "    # def request_dev_tokens(self,amount):\n",
    "    #     \"\"\"For development, a user can request free tokens\"\"\"\n",
    "    #     self.ocean.market.request_tokens(amount, self.address)\n",
    "    #\n",
    "    # def register_asset(self, dataset):\n",
    "    #     # Register this asset on the blockchain\n",
    "    #     asset_id = self.ocean.market.register_asset(dataset['base']['name'], dataset['base']['description'],\n",
    "    #                                            dataset['base']['price'], self.address)\n",
    "    #     assert self.ocean.market.check_asset(asset_id)\n",
    "    #\n",
    "    #     # logging.info(\"{} registered\".format(asset_id.decode(\"ascii\").rstrip()))\n",
    "    #     logging.info(\"registered asset: {}\".format(asset_id))"
   ]
  }
 ],
 "metadata": {
  "jupytext": {
   "main_language": "python",
   "text_representation": {
    "extension": ".py",
    "format_name": "percent"
   }
  }
 },
 "nbformat": 4,
 "nbformat_minor": 2
}
