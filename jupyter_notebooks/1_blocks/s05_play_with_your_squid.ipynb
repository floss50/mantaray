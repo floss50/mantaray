{
 "cells": [
  {
   "cell_type": "markdown",
   "metadata": {},
   "source": [
    "Ocean Protocol\n",
    "\n",
    "Trilobite release\n",
    "\n",
    "![OceanLogo](http://ascribe-signature.s3-website.eu-central-1.amazonaws.com/oceanprotocol/logo.png)\n",
    "![OceanLogo2](https://oceanprotocol.com/static/media/logo-white.7b65db16.png)"
   ]
  },
  {
   "cell_type": "markdown",
   "metadata": {},
   "source": [
    "# Test functionality of squid-py wrapper."
   ]
  },
  {
   "cell_type": "markdown",
   "metadata": {
    "lines_to_next_cell": 0.0
   },
   "source": [
    "![squid2](https://3c1703fe8d.site.internapcdn.net/newman/gfx/news/hires/2017/mismatchedey.jpg)"
   ]
  },
  {
   "cell_type": "markdown",
   "metadata": {},
   "source": [
    "## Section 1: Import modules, and setup logging"
   ]
  },
  {
   "cell_type": "markdown",
   "metadata": {
    "lines_to_next_cell": 0.0
   },
   "source": [
    "Imports"
   ]
  },
  {
   "cell_type": "code",
   "execution_count": null,
   "metadata": {},
   "outputs": [],
   "source": [
    "from pathlib import Path\n",
    "import squid_py.ocean as ocean_wrapper\n",
    "# from squid_py.utils.web3_helper import convert_to_bytes, convert_to_string, convert_to_text, Web3Helper\n",
    "import sys\n",
    "import random\n",
    "import json\n",
    "from pprint import pprint\n",
    "import squid_py.ocean as ocean\n",
    "import names"
   ]
  },
  {
   "cell_type": "markdown",
   "metadata": {
    "lines_to_next_cell": 0.0
   },
   "source": [
    "Logging"
   ]
  },
  {
   "cell_type": "code",
   "execution_count": null,
   "metadata": {
    "lines_to_next_cell": 0.0
   },
   "outputs": [],
   "source": [
    "import logging\n",
    "loggers_dict = logging.Logger.manager.loggerDict\n",
    "logger = logging.getLogger()\n",
    "logger.handlers = []\n",
    "# Set level\n",
    "logger.setLevel(logging.INFO)\n",
    "FORMAT = \"%(levelno)s - %(module)-15s - %(funcName)-15s - %(message)s\"\n",
    "DATE_FMT = \"%Y-%m-%d %H:%M:%S\"\n",
    "formatter = logging.Formatter(FORMAT, DATE_FMT)\n",
    "# Create handler and assign\n",
    "handler = logging.StreamHandler(sys.stderr)\n",
    "handler.setFormatter(formatter)\n",
    "logger.handlers = [handler]\n",
    "logger.info(\"Logging started\")"
   ]
  },
  {
   "cell_type": "markdown",
   "metadata": {},
   "source": [
    "## Section 2: Instantiate the Ocean Protocol interface"
   ]
  },
  {
   "cell_type": "code",
   "execution_count": null,
   "metadata": {
    "lines_to_next_cell": 2.0
   },
   "outputs": [],
   "source": [
    "# The contract addresses are loaded from file\n",
    "# CHOOSE YOUR CONFIGURATION HERE\n",
    "# PATH_CONFIG = Path.cwd() / 'config_local.ini'\n",
    "PATH_CONFIG = Path.cwd() / '..' / '..' / 'config_k8s.ini'\n",
    "PATH_CONFIG = Path.cwd() /  'config_local.ini'\n",
    "# PATH_CONFIG = Path.cwd() / 'config_k8s.ini'\n",
    "# PATH_CONFIG = Path.cwd() / 'config_local.ini'\n",
    "assert PATH_CONFIG.exists(), \"{} does not exist\".format(PATH_CONFIG)\n",
    "\n",
    "ocn = ocean.Ocean(PATH_CONFIG)\n",
    "logging.info(\"Ocean smart contract node connected \".format())"
   ]
  },
  {
   "cell_type": "markdown",
   "metadata": {
    "lines_to_next_cell": 0.0
   },
   "source": [
    "## Section 3: Users and accounts"
   ]
  },
  {
   "cell_type": "markdown",
   "metadata": {
    "lines_to_next_cell": 0.0
   },
   "source": [
    "List the accounts created in Ganache"
   ]
  },
  {
   "cell_type": "code",
   "execution_count": null,
   "metadata": {},
   "outputs": [],
   "source": [
    "ocn.update_accounts()\n",
    "for address in ocn.accounts:\n",
    "    print(ocn.accounts[address])\n",
    "\n",
    "# These accounts have a positive ETH balance\n",
    "for address, account in ocn.accounts.items():\n",
    "    assert account.ether >= 0\n",
    "    assert account.ocean >= 0"
   ]
  },
  {
   "cell_type": "markdown",
   "metadata": {
    "lines_to_next_cell": 0.0
   },
   "source": [
    "Get funds to users\n",
    "By default, 10 wallet addresses are created in Ganache\n",
    "A simple wrapper for each address is created to represent a user\n",
    "Users are instantiated and listed"
   ]
  },
  {
   "cell_type": "code",
   "execution_count": null,
   "metadata": {},
   "outputs": [],
   "source": [
    "class User():\n",
    "    def __init__(self, name, role, account_obj):\n",
    "        self.name = name\n",
    "        self.role = role\n",
    "        self.account = account_obj\n",
    "\n",
    "        logging.info(self)\n",
    "\n",
    "    def __str__(self):\n",
    "        try:\n",
    "            ocean_token = self.account.ocean\n",
    "        except:\n",
    "            ocean_token = 0\n",
    "        return \"{:<20} {:<20} {} Ocean token\".format(self.name, self.role, ocean_token)\n",
    "\n",
    "users = list()\n",
    "for i, acct_address in enumerate(ocn.accounts):\n",
    "    if i%2 == 0: role = 'Data Scientist'\n",
    "    else: role = 'Data Owner'\n",
    "    user = User(names.get_full_name(), role, ocn.accounts[acct_address])\n",
    "    users.append(user)"
   ]
  },
  {
   "cell_type": "markdown",
   "metadata": {
    "lines_to_next_cell": 0.0
   },
   "source": [
    "List the users"
   ]
  },
  {
   "cell_type": "code",
   "execution_count": null,
   "metadata": {},
   "outputs": [],
   "source": [
    "for u in users: print(u)"
   ]
  },
  {
   "cell_type": "markdown",
   "metadata": {
    "lines_to_next_cell": 0.0
   },
   "source": [
    "Get some Ocean token"
   ]
  },
  {
   "cell_type": "code",
   "execution_count": null,
   "metadata": {},
   "outputs": [],
   "source": [
    "for usr in users:\n",
    "    rcpt = usr.account.request_tokens(random.randint(0,100))\n",
    "    ocn._web3.eth.waitForTransactionReceipt(rcpt)\n",
    "\n",
    "for u in users: print(u)"
   ]
  },
  {
   "cell_type": "markdown",
   "metadata": {
    "lines_to_next_cell": 0.0
   },
   "source": [
    "## Section 4: Find and publish assets"
   ]
  },
  {
   "cell_type": "markdown",
   "metadata": {},
   "source": [
    "List assets"
   ]
  },
  {
   "cell_type": "code",
   "execution_count": null,
   "metadata": {
    "title": "Register some assets"
   },
   "outputs": [],
   "source": [
    "\n",
    "# The sample asset metadata is stored in a .json file\n",
    "PATH_ASSET1 = pathlib.Path.cwd() / 'sample_assets' / 'sample1.json'\n",
    "assert PATH_ASSET1.exists()\n",
    "with open(PATH_ASSET1) as f:\n",
    "    dataset = json.load(f)\n",
    "\n",
    "logging.info(\"Asset metadata for {}: type={}, price={}\".format(dataset['base']['name'],dataset['base']['type'],dataset['base']['price']))\n",
    "\n",
    "registered_asset = users[0].register_asset(dataset)\n",
    "\n",
    "asset = ocn.metadata.register_asset(dataset)\n",
    "assert ocean_provider.metadata.get_asset_ddo(asset['assetId'])['base']['name'] == asset['base']['name']\n",
    "ocean_provider.metadata.retire_asset(asset['assetId'])"
   ]
  },
  {
   "cell_type": "code",
   "execution_count": null,
   "metadata": {
    "lines_to_next_cell": 2.0,
    "title": "List assets"
   },
   "outputs": [],
   "source": [
    "asset_ddo = ocn.metadata.get_asset_ddo(dataset['assetId'])\n",
    "assert ocn.metadata.get_asset_ddo(dataset['assetId'])['base']['name'] == dataset['base']['name']"
   ]
  }
 ],
 "metadata": {
  "jupytext": {
   "main_language": "python",
   "text_representation": {
    "extension": ".py",
    "format_name": "percent"
   }
  }
 },
 "nbformat": 4,
 "nbformat_minor": 2
}
