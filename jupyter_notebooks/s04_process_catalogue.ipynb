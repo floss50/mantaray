{
 "cells": [
  {
   "cell_type": "code",
   "execution_count": 7,
   "metadata": {},
   "outputs": [
    {
     "name": "stdout",
     "output_type": "stream",
     "text": [
      "/home/batman/ocn/mantaray\n"
     ]
    }
   ],
   "source": [
    "%pwd\n",
    "%cd .."
   ]
  },
  {
   "cell_type": "code",
   "execution_count": 8,
   "metadata": {},
   "outputs": [],
   "source": [
    "\"\"\"\n",
    "After confirming the connection to S3, use this script to manage datasets.\n",
    "\n",
    "A data catalogue .csv is maintained in the /catalog directory.\n",
    "\n",
    "The catalog is loaded in a Pandas Dataframe object.\n",
    "\n",
    "\n",
    "\"\"\"\n",
    "\n",
    "import osmosis_aws_driver.data_S3_plugin as ocean_s3\n",
    "# General imports\n",
    "import sys\n",
    "import os\n",
    "#import glob\n",
    "import pandas as pd\n",
    "import hashlib"
   ]
  },
  {
   "cell_type": "code",
   "execution_count": 9,
   "metadata": {
    "title": "Constants"
   },
   "outputs": [],
   "source": [
    "S3_BUCKET_NAME = r'data-catalogue-r00'\n",
    "\n"
   ]
  },
  {
   "cell_type": "code",
   "execution_count": 10,
   "metadata": {
    "title": "Logging"
   },
   "outputs": [
    {
     "name": "stderr",
     "output_type": "stream",
     "text": [
      "2018-10-09 16:30:46 L50: <ipython-input-10-6c35145f83e4> Logging started\n"
     ]
    }
   ],
   "source": [
    "import logging\n",
    "\n",
    "loggers_dict = logging.Logger.manager.loggerDict\n",
    "\n",
    "logger = logging.getLogger()\n",
    "logger.handlers = []\n",
    "\n",
    "# Set level\n",
    "logger.setLevel(logging.DEBUG)\n",
    "\n",
    "# FORMAT = \"%(asctime)s - %(levelno)s - %(module)-15s - %(funcName)-15s - %(message)s\"\n",
    "FORMAT = \"%(asctime)s L%(levelno)s: %(module)-15s %(message)s\"\n",
    "\n",
    "DATE_FMT = \"%Y-%m-%d %H:%M:%S\"\n",
    "formatter = logging.Formatter(FORMAT, DATE_FMT)\n",
    "\n",
    "# Create handler and assign\n",
    "handler = logging.StreamHandler(sys.stderr)\n",
    "handler.setFormatter(formatter)\n",
    "logger.handlers = [handler]\n",
    "logger.critical(\"Logging started\")\n"
   ]
  },
  {
   "cell_type": "code",
   "execution_count": 11,
   "metadata": {},
   "outputs": [
    {
     "name": "stderr",
     "output_type": "stream",
     "text": [
      "2018-10-09 16:30:46 L10: <ipython-input-11-3d0a2122a6e2> Current working directory: /home/batman/ocn/mantaray\n"
     ]
    }
   ],
   "source": [
    "# The working directory is the repo root\n",
    "logging.debug(\"Current working directory: {}\".format(os.getcwd()))\n",
    "\n",
    "# The source catalog\n",
    "FNAME_SOURCE_CATALOG = \"Original/OceanDataSets_master catalog clean.csv\"\n",
    "# The current catalog stores the updated state\n",
    "FNAME_CURRENT_CATALOG = r\"Master catalog current.csv\"\n",
    "PATH_SOURCE_CATALOGUE = os.path.join(os.getcwd(),'catalog', FNAME_SOURCE_CATALOG)\n",
    "PATH_CURRENT_CATALOGUE = os.path.join(os.getcwd(),'catalog', FNAME_CURRENT_CATALOG)\n",
    "assert os.path.exists(PATH_SOURCE_CATALOGUE), \"{}\".format(PATH_SOURCE_CATALOGUE)\n",
    "assert os.path.exists(PATH_CURRENT_CATALOGUE), \"{}\".format(PATH_CURRENT_CATALOGUE)"
   ]
  },
  {
   "cell_type": "code",
   "execution_count": 12,
   "metadata": {
    "title": "Load the data catalogue"
   },
   "outputs": [
    {
     "name": "stderr",
     "output_type": "stream",
     "text": [
      "2018-10-09 16:30:47 L10: <ipython-input-12-951140238dab> Loaded data catalogue with 887 records representing 2717 GB\n",
      "2018-10-09 16:30:47 L10: <ipython-input-12-951140238dab> 240 files have been flagged as already uploaded to S3.\n",
      "2018-10-09 16:30:47 L10: <ipython-input-12-951140238dab> 239 files have been flagged with an upload error.\n"
     ]
    },
    {
     "name": "stdout",
     "output_type": "stream",
     "text": [
      "Error summary:\n",
      "\t NameError 134\n",
      "\t InvalidSchema 97\n",
      "\t MissingSchema 7\n",
      "\t ConnectionError 1\n"
     ]
    }
   ],
   "source": [
    "df = pd.read_csv(PATH_CURRENT_CATALOGUE)\n",
    "\n",
    "total_GB = sum(df.loc[:,'SizeGB'])\n",
    "logging.debug(\"Loaded data catalogue with {} records representing {:0.0f} GB\".format(len(df),total_GB))\n",
    "logging.debug(\"{} files have been flagged as already uploaded to S3.\".format(sum(df['uploaded'])))\n",
    "errors = df[df['error'] != 'No error']['error'].value_counts()\n",
    "logging.debug(\"{} files have been flagged with an upload error.\".format(sum(errors)))\n",
    "\n",
    "print(\"Error summary:\")\n",
    "for err in errors.iteritems():\n",
    "    print('\\t',*err)\n",
    "\n",
    "res = df.head()\n",
    "df = df[0:5]\n"
   ]
  },
  {
   "cell_type": "code",
   "execution_count": 13,
   "metadata": {
    "title": "## Create the connection via the wrapper"
   },
   "outputs": [
    {
     "name": "stderr",
     "output_type": "stream",
     "text": [
      "2018-10-09 16:30:50 L10: data_S3_plugin  Created a new S3 plugin object in region: eu-central-1\n"
     ]
    }
   ],
   "source": [
    "\n",
    "# The `osmosis-aws-driver`, imported here as `ocean_s3` is a wrapper for Boto3.\n",
    "# config = dict()\n",
    "# config['region'] = 'eu-central-1'\n",
    "\n",
    "config = None # No configuration needed\n",
    "ocn_s3 = ocean_s3.S3_Plugin(config)"
   ]
  },
  {
   "cell_type": "code",
   "execution_count": 14,
   "metadata": {
    "title": "List buckets"
   },
   "outputs": [
    {
     "name": "stdout",
     "output_type": "stream",
     "text": [
      "0 data-catalogue-r00\n",
      "1 ein-bucket1\n",
      "2 ocean-test-osmosis-data-plugin-1537445137\n",
      "3 ocean-test-osmosis-data-plugin-1537521079\n",
      "4 ocean-test-osmosis-data-plugin-1537521088\n",
      "5 ocean-test-osmosis-data-plugin-1537521138\n"
     ]
    }
   ],
   "source": [
    "for i,b in enumerate(ocn_s3.list_buckets()):\n",
    "    print(i,b['Name'])"
   ]
  },
  {
   "cell_type": "code",
   "execution_count": 15,
   "metadata": {
    "title": "Delete a bucket (WARNING!)"
   },
   "outputs": [],
   "source": [
    "# bucketname=\"ocean-test-osmosis-data-plugin-1537444458\"\n",
    "# ocn_s3.delete_bucket(bucketname)"
   ]
  },
  {
   "cell_type": "code",
   "execution_count": 16,
   "metadata": {
    "title": "Get the bucket"
   },
   "outputs": [],
   "source": [
    "bucket = ocn_s3.s3_resource.Bucket(S3_BUCKET_NAME)"
   ]
  },
  {
   "cell_type": "code",
   "execution_count": 17,
   "metadata": {
    "title": "Get the files"
   },
   "outputs": [
    {
     "name": "stderr",
     "output_type": "stream",
     "text": [
      "2018-10-09 16:31:00 L10: <ipython-input-17-6c3030e86c95> 240 files on data-catalogue-r00, 76.64 GB\n"
     ]
    }
   ],
   "source": [
    "s3files = {obj.key:obj for obj in  bucket.objects.all()}\n",
    "total_GB=sum([s3files[f].size for f in s3files])/1000/1000/1000\n",
    "logging.debug(\"{} files on {}, {:0.2f} GB\".format(len(s3files),S3_BUCKET_NAME,total_GB))"
   ]
  },
  {
   "cell_type": "code",
   "execution_count": 18,
   "metadata": {
    "lines_to_next_cell": 0
   },
   "outputs": [
    {
     "name": "stdout",
     "output_type": "stream",
     "text": [
      "006b7dcaf188ebe4c2e6dd2ec4be24c9712141b12864d6b65684003ef116e456 {'hash': '006b7dcaf188ebe4c2e6dd2ec4be24c9712141b12864d6b65684003ef116e456', 'created_time': '2018-08-07T14%3A51%3A51.099497', 'recordname': '2015%20Montreal%20MOXI%20Bike%20Share', 'version': 'v1', 'note': 'Montreal', 'category2': 'nan', 'category3': 'nan', 'category4': 'nan', 'type': 'text', 'p-id': 'p3065', 'classification': 'public', 'industry': 'Travel%20and%20Transportation', 'format': 'zip', 'keywords': 'nan', 'license': 'nan', 'download_link': 'https%3A%2F%2Fmontreal.bixi.com%2Fc%2Fbixi%2Ffile_db%2Fdata_all.file%2FBixiMontrealRentals2015.zip', 'sizegb': '0.173', 'updatefrequency': 'static', 'lifecyclestage': 'nan', 'source_code_license': 'nan', 'category1': 'biking', 'description': 'This%20dataset%20includes%20monthly%20trip%20information%20for%20MOXI%20riders.%20Timestamps%20and%20GPS%20information%20can%20be%20useful%20for%20analysis%20or%20further%20development.%20'}\n",
      "02223c6f5386ae49a60f2f875a28adf73f072a4098da0b6b7361a119de440dd1 {'hash': '02223c6f5386ae49a60f2f875a28adf73f072a4098da0b6b7361a119de440dd1', 'created_time': '2018-08-08T04%3A03%3A54.142889', 'recordname': 'BelgiumTS%20Dataset', 'version': '1%2F1%2F2011', 'note': 'If%20you%20use%20the%20material%20from%20this%20dataset%2C%20please%20cite%20one%20of%20the%20following%20publications%2C%20accordingly', 'category2': 'nan', 'category3': 'nan', 'category4': 'nan', 'type': 'image', 'p-id': 'P1074', 'classification': 'public', 'industry': 'Automotive', 'format': 'tar', 'keywords': 'nan', 'license': 'proprietary', 'download_link': 'https%3A%2F%2Fbtsd.ethz.ch%2Fshareddata%2FBelgiumTS%2FSeqs%2FSeq03_01.tar', 'sizegb': '0.6', 'updatefrequency': 'nan', 'lifecyclestage': 'Sequence%2003', 'source_code_license': 'nan', 'category1': 'Self-driving%20cars', 'description': 'annotations%2C%202001%20frames'}\n"
     ]
    }
   ],
   "source": [
    "# Select a subset of files\n",
    "these_keys = list(s3files.keys())[:2]\n",
    "for f in these_keys:\n",
    "    meta_data = s3files[f].Object().metadata\n",
    "    print(f, meta_data)"
   ]
  },
  {
   "cell_type": "code",
   "execution_count": 19,
   "metadata": {},
   "outputs": [
    {
     "name": "stdout",
     "output_type": "stream",
     "text": [
      "(0, RecordName                             Mapillar Mapillary Vistas Dataset\n",
      "Download Link          https://s3-eu-west-1.amazonaws.com/static.mapi...\n",
      "SizeGB                                                             0.015\n",
      "Version                                                               v1\n",
      "Format                                                               zip\n",
      "License                                                      proprietary\n",
      "Classification                                                    public\n",
      "UpdateFrequency                                                   static\n",
      "LifecycleStage                                                   initial\n",
      "Description            A diverse street-level imagery dataset with pi...\n",
      "Note                                                                 NaN\n",
      "industry                                                             NaN\n",
      "keywords                                                             NaN\n",
      "Type                                                                 NaN\n",
      "P-ID                                                                 NaN\n",
      "category1                                                            NaN\n",
      "category2                                                            NaN\n",
      "category3                                                            NaN\n",
      "category4                                               Research Edition\n",
      "source code License                                               sample\n",
      "hash                   2e887967c99846119ae843c95f14b2ee2499bf26635660...\n",
      "error                                                           No error\n",
      "uploaded                                                            True\n",
      "Name: 0, dtype: object)\n",
      "(1, RecordName                             Mapillar Mapillary Vistas Dataset\n",
      "Download Link          https://s3-eu-west-1.amazonaws.com/static.mapi...\n",
      "SizeGB                                                             0.015\n",
      "Version                                                               v1\n",
      "Format                                                               zip\n",
      "License                                                      proprietary\n",
      "Classification                                                    public\n",
      "UpdateFrequency                                                   static\n",
      "LifecycleStage                                                   initial\n",
      "Description            A diverse street-level imagery dataset with pi...\n",
      "Note                                                                 NaN\n",
      "industry                                                             NaN\n",
      "keywords                                                             NaN\n",
      "Type                                                                 NaN\n",
      "P-ID                                                                 NaN\n",
      "category1                                                            NaN\n",
      "category2                                                            NaN\n",
      "category3                                                            NaN\n",
      "category4                                             Commercial Edition\n",
      "source code License                                               sample\n",
      "hash                   6ae01ee6b76c40af3aad85701777358b7fa7b351a0fe81...\n",
      "error                                                           No error\n",
      "uploaded                                                            True\n",
      "Name: 1, dtype: object)\n",
      "(2, RecordName                                                         GloVe\n",
      "Download Link            https://nlp.stanford.edu/software/GloVe-1.2.zip\n",
      "SizeGB                                                          0.000745\n",
      "Version                                                        10/1/2015\n",
      "Format                                                               zip\n",
      "License                                               Apache License 2.0\n",
      "Classification                                                    public\n",
      "UpdateFrequency                                                      NaN\n",
      "LifecycleStage                                                       NaN\n",
      "Description            GloVe is an unsupervised learning algorithm fo...\n",
      "Note                                                         source code\n",
      "industry                                                  communications\n",
      "keywords                                       linguistics, word, vector\n",
      "Type                                                                text\n",
      "P-ID                                                               P3000\n",
      "category1                                                            NaN\n",
      "category2                                                            NaN\n",
      "category3                                                            NaN\n",
      "category4                                                            NaN\n",
      "source code License                                                  NaN\n",
      "hash                   9ac2836bfbce93fbf693b18212569d02f9f091909c03ff...\n",
      "error                                                           No error\n",
      "uploaded                                                            True\n",
      "Name: 2, dtype: object)\n",
      "(3, RecordName                                        Wikipedia + Gigaword 5\n",
      "Download Link                  http://nlp.stanford.edu/data/glove.6B.zip\n",
      "SizeGB                                                              0.82\n",
      "Version                                                               v1\n",
      "Format                                                               zip\n",
      "License                        Public Domain Dedication and Licence v1.0\n",
      "Classification                                                    public\n",
      "UpdateFrequency                                                      NaN\n",
      "LifecycleStage                                                       NaN\n",
      "Description                                      Pre-trained word vector\n",
      "Note                   6B tokens, 400k vocab, uncased, 50d, 100d, & 3...\n",
      "industry                                                     Electronics\n",
      "keywords                                                Machine Learning\n",
      "Type                                                                text\n",
      "P-ID                                                               P3000\n",
      "category1                                                            NaN\n",
      "category2                                                            NaN\n",
      "category3                                                            NaN\n",
      "category4                                                            NaN\n",
      "source code License                                                  NaN\n",
      "hash                   3a0cee816e07886cf0935d2c07cb65d64dc5ea2bcd756f...\n",
      "error                                                           No error\n",
      "uploaded                                                            True\n",
      "Name: 3, dtype: object)\n",
      "(4, RecordName                                                  Common Crawl\n",
      "Download Link            http://nlp.stanford.edu/data/glove.42B.300d.zip\n",
      "SizeGB                                                              1.75\n",
      "Version                                                               v1\n",
      "Format                                                               zip\n",
      "License                        Public Domain Dedication and Licence v1.0\n",
      "Classification                                                    public\n",
      "UpdateFrequency                                                      NaN\n",
      "LifecycleStage                                                       NaN\n",
      "Description                                      Pre-trained word vector\n",
      "Note                       42B tokens, 1.9M vocab, uncased, 300d vectors\n",
      "industry                                                     Electronics\n",
      "keywords                                                Machine Learning\n",
      "Type                                                                text\n",
      "P-ID                                                               P3000\n",
      "category1                                                            NaN\n",
      "category2                                                            NaN\n",
      "category3                                                            NaN\n",
      "category4                                                            NaN\n",
      "source code License                                                  NaN\n",
      "hash                   7595599f507aa49427feb9501d52d6edd864e7e850da9f...\n",
      "error                                                           No error\n",
      "uploaded                                                           False\n",
      "Name: 4, dtype: object)\n"
     ]
    }
   ],
   "source": [
    "for row in df.iterrows():\n",
    "    print(row)"
   ]
  },
  {
   "cell_type": "code",
   "execution_count": 20,
   "metadata": {},
   "outputs": [
    {
     "data": {
      "text/plain": [
       "0     True\n",
       "1     True\n",
       "2     True\n",
       "3     True\n",
       "4    False\n",
       "Name: uploaded, dtype: bool"
      ]
     },
     "execution_count": 20,
     "metadata": {},
     "output_type": "execute_result"
    }
   ],
   "source": [
    "df['uploaded']"
   ]
  },
  {
   "cell_type": "code",
   "execution_count": null,
   "metadata": {
    "title": "Register the dataset onto blockchain"
   },
   "outputs": [],
   "source": []
  }
 ],
 "metadata": {
  "jupytext_formats": "py:percent",
  "kernelspec": {
   "display_name": "Python (mantaray3)",
   "language": "python",
   "name": "mantaray3"
  },
  "language_info": {
   "codemirror_mode": {
    "name": "ipython",
    "version": 3
   },
   "file_extension": ".py",
   "mimetype": "text/x-python",
   "name": "python",
   "nbconvert_exporter": "python",
   "pygments_lexer": "ipython3",
   "version": "3.7.0"
  },
  "main_language": "python"
 },
 "nbformat": 4,
 "nbformat_minor": 2
}
