{
 "cells": [
  {
   "cell_type": "markdown",
   "metadata": {},
   "source": [
    "In this script, your connection to S3 will be checked.\n",
    "\n",
    "For configuration of credentials, see AWS documentation. Boto3 supports credential management."
   ]
  },
  {
   "cell_type": "code",
   "execution_count": null,
   "metadata": {},
   "outputs": [],
   "source": [
    "## Imports\n",
    "import boto3\n",
    "import logging\n",
    "logging.basicConfig(level=logging.DEBUG)"
   ]
  },
  {
   "cell_type": "code",
   "execution_count": null,
   "metadata": {
    "title": "## Version"
   },
   "outputs": [],
   "source": [
    "print(\"Boto3 version:\",boto3.__version__)"
   ]
  },
  {
   "cell_type": "code",
   "execution_count": null,
   "metadata": {
    "title": "## Credentials"
   },
   "outputs": [],
   "source": [
    "#TODO: Describe and link to credential management for Data Scientists"
   ]
  },
  {
   "cell_type": "code",
   "execution_count": null,
   "metadata": {
    "title": "## A resource object is a higher level object oriented interface to the AWS API"
   },
   "outputs": [],
   "source": [
    "s3_resource = boto3.resource('s3')\n",
    "logging.debug(\"S3 resource object connected in {}\".format(s3_resource))"
   ]
  },
  {
   "cell_type": "code",
   "execution_count": null,
   "metadata": {
    "title": "## Boto3 clients (e.g. S3) expose the low level AWS service API"
   },
   "outputs": [],
   "source": [
    "s3_client = boto3.client('s3')\n",
    "logging.debug(\"S3 client object connected in {}\".format(s3_client._client_config.region_name))"
   ]
  }
 ],
 "metadata": {
  "jupytext_formats": "py:percent",
  "main_language": "python"
 },
 "nbformat": 4,
 "nbformat_minor": 2
}
