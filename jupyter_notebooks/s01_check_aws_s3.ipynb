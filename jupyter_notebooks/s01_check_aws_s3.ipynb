{
 "cells": [
  {
   "cell_type": "markdown",
   "metadata": {},
   "source": [
    "In this script, your connection to S3 will be checked.\n",
    "\n",
    "For configuration of credentials, see AWS documentation. Boto3 supports credential management."
   ]
  },
  {
   "cell_type": "code",
   "execution_count": 8,
   "metadata": {},
   "outputs": [],
   "source": [
    "## Imports\n",
    "import boto3\n",
    "import logging\n",
    "logging.basicConfig(level=logging.DEBUG)"
   ]
  },
  {
   "cell_type": "code",
   "execution_count": 9,
   "metadata": {
    "title": "## Version"
   },
   "outputs": [
    {
     "name": "stdout",
     "output_type": "stream",
     "text": [
      "Boto3 version: 1.9.12\n"
     ]
    }
   ],
   "source": [
    "print(\"Boto3 version:\",boto3.__version__)"
   ]
  },
  {
   "cell_type": "code",
   "execution_count": 10,
   "metadata": {},
   "outputs": [],
   "source": [
    "# ## Credentials\n",
    "#TODO: Describe and link to credential management for Data Scientists"
   ]
  },
  {
   "cell_type": "code",
   "execution_count": 11,
   "metadata": {
    "lines_to_next_cell": 0
   },
   "outputs": [
    {
     "name": "stderr",
     "output_type": "stream",
     "text": [
      "DEBUG:botocore.session:Loading variable profile from defaults.\n",
      "DEBUG:botocore.session:Loading variable profile from defaults.\n",
      "DEBUG:botocore.session:Loading variable region from config file with value 'eu-central-1'.\n",
      "DEBUG:botocore.session:Loading variable profile from defaults.\n",
      "DEBUG:botocore.session:Loading variable ca_bundle from defaults.\n",
      "DEBUG:botocore.session:Loading variable profile from defaults.\n",
      "DEBUG:botocore.hooks:Event choose-service-name: calling handler <function handle_service_name_alias at 0x7f68eeb61e18>\n",
      "DEBUG:botocore.hooks:Event creating-client-class.s3: calling handler <function add_generate_presigned_post at 0x7f68bd67d510>\n",
      "DEBUG:botocore.hooks:Event creating-client-class.s3: calling handler <function lazy_call.<locals>._handler at 0x7f68bd5a47b8>\n",
      "DEBUG:botocore.hooks:Event creating-client-class.s3: calling handler <function add_generate_presigned_url at 0x7f68bd67d2f0>\n",
      "DEBUG:botocore.args:The s3 config key is not a dictionary type, ignoring its value of: None\n",
      "DEBUG:botocore.endpoint:Setting s3 timeout as (60, 60)\n",
      "DEBUG:botocore.client:Registering retry handlers for service: s3\n",
      "DEBUG:botocore.client:Defaulting to S3 virtual host style addressing with path style addressing fallback.\n",
      "DEBUG:boto3.resources.factory:Loading s3:s3\n"
     ]
    }
   ],
   "source": [
    "# ## A resource object is a higher level object oriented interface to the AWS API\n",
    "s3_resource = boto3.resource('s3')"
   ]
  },
  {
   "cell_type": "code",
   "execution_count": 5,
   "metadata": {},
   "outputs": [
    {
     "name": "stderr",
     "output_type": "stream",
     "text": [
      "DEBUG:root:S3 resource object connected in s3.ServiceResource()\n"
     ]
    }
   ],
   "source": [
    "logging.debug(\"S3 resource object connected in {}\".format(s3_resource))"
   ]
  },
  {
   "cell_type": "code",
   "execution_count": 12,
   "metadata": {
    "lines_to_next_cell": 0
   },
   "outputs": [
    {
     "name": "stderr",
     "output_type": "stream",
     "text": [
      "DEBUG:botocore.session:Loading variable profile from defaults.\n",
      "DEBUG:botocore.session:Loading variable profile from defaults.\n",
      "DEBUG:botocore.session:Loading variable region from config file with value 'eu-central-1'.\n",
      "DEBUG:botocore.session:Loading variable profile from defaults.\n",
      "DEBUG:botocore.session:Loading variable ca_bundle from defaults.\n",
      "DEBUG:botocore.session:Loading variable profile from defaults.\n",
      "DEBUG:botocore.session:Loading variable api_versions from defaults.\n",
      "DEBUG:botocore.session:Loading variable profile from defaults.\n",
      "DEBUG:botocore.hooks:Event choose-service-name: calling handler <function handle_service_name_alias at 0x7f68eeb61e18>\n",
      "DEBUG:botocore.hooks:Event creating-client-class.s3: calling handler <function add_generate_presigned_post at 0x7f68bd67d510>\n",
      "DEBUG:botocore.hooks:Event creating-client-class.s3: calling handler <function lazy_call.<locals>._handler at 0x7f68bd5a47b8>\n",
      "DEBUG:botocore.hooks:Event creating-client-class.s3: calling handler <function add_generate_presigned_url at 0x7f68bd67d2f0>\n",
      "DEBUG:botocore.args:The s3 config key is not a dictionary type, ignoring its value of: None\n",
      "DEBUG:botocore.endpoint:Setting s3 timeout as (60, 60)\n",
      "DEBUG:botocore.client:Registering retry handlers for service: s3\n",
      "DEBUG:botocore.client:Defaulting to S3 virtual host style addressing with path style addressing fallback.\n"
     ]
    }
   ],
   "source": [
    "# ## Boto3 clients (e.g. S3) expose the low level AWS service API\n",
    "s3_client = boto3.client('s3')"
   ]
  },
  {
   "cell_type": "code",
   "execution_count": 13,
   "metadata": {},
   "outputs": [
    {
     "name": "stderr",
     "output_type": "stream",
     "text": [
      "DEBUG:root:S3 client object connected in eu-central-1\n"
     ]
    }
   ],
   "source": [
    "logging.debug(\"S3 client object connected in {}\".format(s3_client._client_config.region_name))"
   ]
  },
  {
   "cell_type": "code",
   "execution_count": null,
   "metadata": {},
   "outputs": [],
   "source": []
  },
  {
   "cell_type": "code",
   "execution_count": null,
   "metadata": {},
   "outputs": [],
   "source": []
  }
 ],
 "metadata": {
  "jupytext_formats": "py:percent",
  "kernelspec": {
   "display_name": "Python (mantaray3)",
   "language": "python",
   "name": "mantaray3"
  },
  "language_info": {
   "codemirror_mode": {
    "name": "ipython",
    "version": 3
   },
   "file_extension": ".py",
   "mimetype": "text/x-python",
   "name": "python",
   "nbconvert_exporter": "python",
   "pygments_lexer": "ipython3",
   "version": "3.7.0"
  },
  "main_language": "python"
 },
 "nbformat": 4,
 "nbformat_minor": 2
}
