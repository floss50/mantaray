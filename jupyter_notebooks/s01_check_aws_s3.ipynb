{
 "cells": [
  {
   "cell_type": "code",
   "execution_count": null,
   "metadata": {},
   "outputs": [],
   "source": [
    "\"\"\"\n",
    "In this script, your connection to S3 will be checked.\n",
    "For configuration of credentials, see AWS documentation. Boto3 supports credential management.\n",
    "\"\"\"\n",
    "\n",
    "#%% ## Imports\n",
    "import boto3\n",
    "import logging\n",
    "logging.basicConfig(level=logging.DEBUG)\n",
    "\n",
    "#%% ## Version\n",
    "print(\"Boto3 version:\",boto3.__version__)\n",
    "\n",
    "#%% ## Credentials\n",
    "#TODO: Describe and link to credential management for Data Scientists\n",
    "\n",
    "#%% ## A resource object is a higher level object oriented interface to the AWS API\n",
    "s3_resource = boto3.resource('s3')\n",
    "logging.debug(\"S3 resource object connected in {}\".format(s3_resource))\n",
    "\n",
    "#%% ## Boto3 clients (e.g. S3) expose the low level AWS service API\n",
    "s3_client = boto3.client('s3')\n",
    "logging.debug(\"S3 client object connected in {}\".format(s3_client._client_config.region_name))"
   ]
  }
 ],
 "metadata": {
  "jupytext_formats": "py:percent",
  "main_language": "python"
 },
 "nbformat": 4,
 "nbformat_minor": 2
}
