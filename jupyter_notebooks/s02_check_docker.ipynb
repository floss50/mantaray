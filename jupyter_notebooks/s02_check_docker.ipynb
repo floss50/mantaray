{
 "cells": [
  {
   "cell_type": "code",
   "execution_count": 8,
   "metadata": {},
   "outputs": [
    {
     "data": {
      "text/plain": [
       "'\\nThis script is used to check your local docker images.\\n\\nTwo methods can be used - shell commands with subprocess.Popen, or\\nuse the docker SDK (docker-py) to manage and inspect local configuration and running images.\\n\\nA function is declared to wrap executing a command insider an image which retrieves the contract addresses\\nfrom the contract artifact JSON files (ABIs). Use this to confirm that your local configuration (as\\nspecified in config_local.ini) matches the deployed images.\\n'"
      ]
     },
     "execution_count": 8,
     "metadata": {},
     "output_type": "execute_result"
    }
   ],
   "source": [
    "\"\"\"\n",
    "This script is used to check your local docker images.\n",
    "\n",
    "Two methods can be used - shell commands with subprocess.Popen, or\n",
    "use the docker SDK (docker-py) to manage and inspect local configuration and running images.\n",
    "\n",
    "A function is declared to wrap executing a command insider an image which retrieves the contract addresses\n",
    "from the contract artifact JSON files (ABIs). Use this to confirm that your local configuration (as\n",
    "specified in config_local.ini) matches the deployed images.\n",
    "\"\"\"\n"
   ]
  },
  {
   "cell_type": "code",
   "execution_count": 1,
   "metadata": {
    "lines_to_next_cell": 0,
    "title": "Imports"
   },
   "outputs": [],
   "source": [
    "import docker\n",
    "client = docker.from_env()\n",
    "import subprocess\n",
    "# import subprocess\n",
    "# import pathlib\n",
    "# import squid_py.ocean as ocean\n",
    "import sys\n",
    "from pprint import pprint"
   ]
  },
  {
   "cell_type": "code",
   "execution_count": 2,
   "metadata": {
    "lines_to_next_cell": 0,
    "title": "Logging"
   },
   "outputs": [
    {
     "name": "stderr",
     "output_type": "stream",
     "text": [
      "10 - <ipython-input-2-f3cf088e1dc8> - <module>        - Logging started\n"
     ]
    }
   ],
   "source": [
    "import logging\n",
    "\n",
    "loggers_dict = logging.Logger.manager.loggerDict\n",
    "\n",
    "logger = logging.getLogger()\n",
    "logger.handlers = []\n",
    "\n",
    "# Set level\n",
    "logger.setLevel(logging.DEBUG)\n",
    "\n",
    "# FORMAT = \"%(asctime)s - %(levelno)s - %(module)-15s - %(funcName)-15s - %(message)s\"\n",
    "# FORMAT = \"%(asctime)s %(levelno)s: %(module)30s %(message)s\"\n",
    "FORMAT = \"%(levelno)s - %(module)-15s - %(funcName)-15s - %(message)s\"\n",
    "\n",
    "DATE_FMT = \"%Y-%m-%d %H:%M:%S\"\n",
    "DATE_FMT = \"%Y-%m-%d %H:%M:%S\"\n",
    "formatter = logging.Formatter(FORMAT, DATE_FMT)\n",
    "\n",
    "# Create handler and assign\n",
    "handler = logging.StreamHandler(sys.stderr)\n",
    "handler.setFormatter(formatter)\n",
    "logger.handlers = [handler]\n",
    "logger.debug(\"Logging started\")"
   ]
  },
  {
   "cell_type": "code",
   "execution_count": 3,
   "metadata": {
    "title": "Check running docker images from command line"
   },
   "outputs": [
    {
     "name": "stdout",
     "output_type": "stream",
     "text": [
      "0\n"
     ]
    }
   ],
   "source": [
    "# s = subprocess.check_output('docker ps', shell=True).wait()\n",
    "s = subprocess.Popen(\"docker ps\" + \"\", shell=True).wait()\n",
    "print(s)"
   ]
  },
  {
   "cell_type": "code",
   "execution_count": 4,
   "metadata": {
    "title": "Client, and low level API client"
   },
   "outputs": [
    {
     "name": "stderr",
     "output_type": "stream",
     "text": [
      "10 - config          - find_config_file - Trying paths: ['/home/batman/.docker/config.json', '/home/batman/.dockercfg']\n",
      "10 - config          - find_config_file - Found file at path: /home/batman/.docker/config.json\n",
      "10 - auth            - load_config     - Found 'auths' section\n",
      "10 - auth            - parse_auth      - Found entry (registry='133126667150.dkr.ecr.eu-central-1.amazonaws.com', username='AWS')\n",
      "10 - auth            - parse_auth      - Found entry (registry='https://index.docker.io/v1/', username='plasmafrog')\n",
      "10 - config          - find_config_file - Trying paths: ['/home/batman/.docker/config.json', '/home/batman/.dockercfg']\n",
      "10 - config          - find_config_file - Found file at path: /home/batman/.docker/config.json\n",
      "10 - auth            - load_config     - Found 'auths' section\n",
      "10 - auth            - parse_auth      - Found entry (registry='133126667150.dkr.ecr.eu-central-1.amazonaws.com', username='AWS')\n",
      "10 - auth            - parse_auth      - Found entry (registry='https://index.docker.io/v1/', username='plasmafrog')\n"
     ]
    }
   ],
   "source": [
    "# High level client\n",
    "client = docker.from_env()\n",
    "# Get the APIClient for running commands\n",
    "low_level_api_client = docker.APIClient(base_url='unix://var/run/docker.sock')"
   ]
  },
  {
   "cell_type": "code",
   "execution_count": 6,
   "metadata": {
    "title": "Check running docker images using SDK"
   },
   "outputs": [
    {
     "name": "stderr",
     "output_type": "stream",
     "text": [
      "10 - connectionpool  - _make_request   - http://localhost:None \"GET /v1.35/containers/json?limit=-1&all=0&size=0&trunc_cmd=0 HTTP/1.1\" 200 None\n",
      "10 - connectionpool  - _make_request   - http://localhost:None \"GET /v1.35/containers/66e9f1df7a5f41429d7040b81d58f52f91b37087e6a42b47c2c62dde10fc0414/json HTTP/1.1\" 200 None\n",
      "10 - connectionpool  - _make_request   - http://localhost:None \"GET /v1.35/containers/a655a027ed8c127491116206d7dba8b942b50022bd1e2f73b682ff94b8130a57/json HTTP/1.1\" 200 None\n",
      "10 - connectionpool  - _make_request   - http://localhost:None \"GET /v1.35/containers/8a2a0ae5c03bff4a17b7655b96a69a5c7d20a258ade93617f0f2da1d9f79202c/json HTTP/1.1\" 200 None\n",
      "10 - connectionpool  - _make_request   - http://localhost:None \"GET /v1.35/images/8945c5d267762d7a19ab0eb6eefb18c5a5dd71abef1d464acb873e61fb41abd4/json HTTP/1.1\" 200 None\n",
      "10 - connectionpool  - _make_request   - http://localhost:None \"GET /v1.35/images/917474628256d41565da3941d4e45b1b6ebaf2843e0782ee5bbafb365969f5ba/json HTTP/1.1\" 200 None\n",
      "10 - connectionpool  - _make_request   - http://localhost:None \"GET /v1.35/images/ee5fc83ef63f9a678c12aa54c0482de190ab560680a3c0685a1be96f75e1d535/json HTTP/1.1\" 200 None\n"
     ]
    },
    {
     "name": "stdout",
     "output_type": "stream",
     "text": [
      "['oceanprotocol/provider:develop'] running\n",
      "['oceanprotocol/keeper-contracts:latest'] running\n",
      "['mongo:3.6'] running\n"
     ]
    }
   ],
   "source": [
    "for container in client.containers.list():\n",
    "#     print(container.name, container.status)\n",
    "    print(container.image.tags, container.status)\n",
    "#     print(container.labels)\n",
    "#     print(\"\\n\\n\")\n",
    "# container.logs()"
   ]
  },
  {
   "cell_type": "code",
   "execution_count": 14,
   "metadata": {
    "title": "Get addresses from images"
   },
   "outputs": [
    {
     "name": "stderr",
     "output_type": "stream",
     "text": [
      "10 - connectionpool  - _make_request   - http://localhost:None \"GET /v1.35/containers/docker_keeper-contracts_1/json HTTP/1.1\" 200 None\n",
      "10 - connectionpool  - _make_request   - http://localhost:None \"POST /v1.35/containers/a655a027ed8c127491116206d7dba8b942b50022bd1e2f73b682ff94b8130a57/exec HTTP/1.1\" 201 74\n",
      "10 - connectionpool  - _make_request   - http://localhost:None \"POST /v1.35/exec/3aacb7821da7fa21e8f487f95e5e73319d42c75fdd6ee1060b83d3a3a783bb5f/start HTTP/1.1\" 101 0\n",
      "10 - connectionpool  - _make_request   - http://localhost:None \"POST /v1.35/containers/a655a027ed8c127491116206d7dba8b942b50022bd1e2f73b682ff94b8130a57/exec HTTP/1.1\" 201 74\n",
      "10 - connectionpool  - _make_request   - http://localhost:None \"POST /v1.35/exec/803b0617e953db4c9397e62450dbf7371feef67d8649101ad6fb5541f2db1709/start HTTP/1.1\" 101 0\n",
      "10 - connectionpool  - _make_request   - http://localhost:None \"POST /v1.35/containers/a655a027ed8c127491116206d7dba8b942b50022bd1e2f73b682ff94b8130a57/exec HTTP/1.1\" 201 74\n",
      "10 - connectionpool  - _make_request   - http://localhost:None \"POST /v1.35/exec/026fa008008d2316c82aa785eeb2691c7e00d8764a3a0a1a7b9ecec5f36c0d4f/start HTTP/1.1\" 101 0\n"
     ]
    },
    {
     "name": "stdout",
     "output_type": "stream",
     "text": [
      "Artifact addresses retrieved:\n",
      "{'auth.address': '0xCfEB869F69431e42cdB54A4F4f105C19C080A601',\n",
      " 'market.address': '0x2612Af3A521c2df9EAF28422Ca335b04AdF3ac66',\n",
      " 'token.address': '0x0E696947A06550DEf604e82C26fd9E493e576337'}\n"
     ]
    }
   ],
   "source": [
    "def get_address(api_client, container_id,contract_name):\n",
    "\n",
    "    # This is the python script to be executed in the running image\n",
    "    python_script = r\"import sys, json; print(json.load(open('/keeper-contracts/artifacts/{}.development.json', 'r'))['address'])\".format(contract_name)\n",
    "\n",
    "    # Wrap the script in quotes (string) and add the python shell command\n",
    "    command = r\"python -c \" + '\"' + python_script + '\"'\n",
    "\n",
    "    # Create and run the command\n",
    "    ex = api_client.exec_create(container=container_id, cmd=command)\n",
    "\n",
    "    return api_client.exec_start(ex)\n",
    "\n",
    "# Get the docker image running the smart contracts\n",
    "container_keeper_contracts = client.containers.get('docker_keeper-contracts_1')\n",
    "addresses=dict()\n",
    "addresses['market.address'] = get_address(low_level_api_client,container_keeper_contracts.id,'OceanMarket').decode(\"utf-8\").rstrip()\n",
    "addresses['auth.address'] = get_address(low_level_api_client,container_keeper_contracts.id,'OceanToken').decode(\"utf-8\").rstrip()\n",
    "addresses['token.address'] = get_address(low_level_api_client,container_keeper_contracts.id,'OceanAuth').decode(\"utf-8\").rstrip()\n",
    "\n",
    "print(\"Artifact addresses retrieved:\")\n",
    "pprint(addresses)\n",
    "\n"
   ]
  },
  {
   "cell_type": "code",
   "execution_count": null,
   "metadata": {},
   "outputs": [],
   "source": []
  },
  {
   "cell_type": "code",
   "execution_count": null,
   "metadata": {},
   "outputs": [],
   "source": []
  }
 ],
 "metadata": {
  "jupytext_formats": "py:percent",
  "kernelspec": {
   "display_name": "Python (mantaray3)",
   "language": "python",
   "name": "mantaray3"
  },
  "language_info": {
   "codemirror_mode": {
    "name": "ipython",
    "version": 3
   },
   "file_extension": ".py",
   "mimetype": "text/x-python",
   "name": "python",
   "nbconvert_exporter": "python",
   "pygments_lexer": "ipython3",
   "version": "3.7.0"
  },
  "main_language": "python"
 },
 "nbformat": 4,
 "nbformat_minor": 2
}
