{
 "cells": [
  {
   "cell_type": "code",
   "execution_count": null,
   "metadata": {},
   "outputs": [],
   "source": [
    "# %%\n",
    "\n",
    "\"\"\"\n",
    "\n",
    "The Mantaray scripts provide a guided tour of Ocean Protocol in an interactive environment.\n",
    "\n",
    "The scripts are designed to be executed in an 'IPython' interactive console. The popular Jupyter Notebook format is\n",
    "supported. Alternatively, you can run the scripts in other IPython environments. The scripts are generated in two\n",
    "formats: .py scripts with the #%% cell demarcation convention, or the auto-converted .ipynb format for i.e. Jupyter Notebook.\n",
    "\n",
    "These scripts also serve as a catalog of building blocks for building more complex user stories and applications.\n",
    "\n",
    "\"\"\"\n",
    "\n",
    "# %% Meanwhile, on the dry dock\n",
    "\n",
    "# Rank:\n",
    "# Ensign -\n",
    "# Able seaman\n",
    "# Before embarking across Ocean Protocol, let's get ship-shape with the following pre-requisites;\n",
    "# Pre\n",
    "\n",
    "\n",
    "\n",
    "# %% Ready the sails!\n",
    "\n",
    "\n",
    "# %% Inspection"
   ]
  }
 ],
 "metadata": {
  "jupytext_formats": "py:percent",
  "kernelspec": {
   "display_name": "Python 3",
   "language": "python",
   "name": "python3"
  },
  "language_info": {
   "codemirror_mode": {
    "name": "ipython",
    "version": 3
   },
   "file_extension": ".py",
   "mimetype": "text/x-python",
   "name": "python",
   "nbconvert_exporter": "python",
   "pygments_lexer": "ipython3",
   "version": "3.6.5"
  },
  "main_language": "python"
 },
 "nbformat": 4,
 "nbformat_minor": 2
}
