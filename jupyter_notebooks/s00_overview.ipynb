{
 "cells": [
  {
   "cell_type": "code",
   "execution_count": null,
   "metadata": {},
   "outputs": [],
   "source": [
    "\n",
    "\"\"\"\n",
    "\n",
    "The Mantaray scripts provide a guided tour of Ocean Protocol in an interactive environment.\n",
    "\n",
    "The scripts are designed to be executed in an 'IPython' interactive console. The popular Jupyter Notebook format is\n",
    "supported. Alternatively, you can run the scripts in other IPython environments. The scripts are generated in two\n",
    "formats: .py scripts with the # %% cell demarcation convention, or the auto-converted .ipynb format for i.e. Jupyter Notebook.\n",
    "\n",
    "These scripts also serve as a catalog of building blocks for building more complex user stories and applications.\n",
    "\n",
    "\"\"\""
   ]
  },
  {
   "cell_type": "code",
   "execution_count": null,
   "metadata": {
    "title": "Meanwhile, on the dry dock"
   },
   "outputs": [],
   "source": [
    "\n",
    "# Rank:\n",
    "# Ensign -\n",
    "# Able seaman\n",
    "# Before embarking across Ocean Protocol, let's get ship-shape with the following pre-requisites;\n",
    "# Pre\n",
    "\n"
   ]
  },
  {
   "cell_type": "code",
   "execution_count": null,
   "metadata": {
    "title": "Ready the sails!"
   },
   "outputs": [],
   "source": []
  },
  {
   "cell_type": "code",
   "execution_count": null,
   "metadata": {
    "title": "Inspection"
   },
   "outputs": [],
   "source": []
  }
 ],
 "metadata": {
  "jupytext_formats": "py:percent",
  "main_language": "python"
 },
 "nbformat": 4,
 "nbformat_minor": 2
}
