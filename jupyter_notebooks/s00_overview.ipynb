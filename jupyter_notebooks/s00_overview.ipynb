{
 "cells": [
  {
   "cell_type": "markdown",
   "metadata": {},
   "source": [
    "# MANTARAY\n",
    "## Data Science powered by *Ocean Protocol*"
   ]
  },
  {
   "cell_type": "markdown",
   "metadata": {},
   "source": [
    "The **Mantaray** scripts provide a guided tour of Ocean Protocol in an interactive environment.\n",
    "\n",
    "The scripts are designed to be executed in an 'IPython' interactive console.\n",
    "\n",
    "The popular Jupyter Notebook format is supported.\n",
    "\n",
    "Alternatively, you can run the scripts in other IPython environments.\n",
    "\n",
    "The scripts are generated in two formats: .py scripts with the # %% cell demarcation convention, or the auto-converted .ipynb format for i.e. Jupyter Notebook.\n",
    "\n",
    "These scripts also serve as a catalog of building blocks for building more complex user stories and applications."
   ]
  },
  {
   "cell_type": "markdown",
   "metadata": {},
   "source": [
    "Jupyter Lab can use different python environments (kernels)\n",
    "For easiest use, install the `ipykernel` package into your environment:\n",
    "\n",
    "`pip install ipykernel` or `conda install ipykernel`\n",
    "\n",
    "Then, install the kernel using the IPython command; `ipython kernel install --user --name=projectname`\n",
    "\n",
    "TODO: Check this error in ipykernel deps\n",
    "\n",
    " If error on above command, try `pip install 'prompt-toolkit==1.0.15'`\n",
    "Then, `python -m ipykernel install --user --name mantaray3 --display-name \"Python (mantaray3)\" `"
   ]
  },
  {
   "cell_type": "markdown",
   "metadata": {},
   "source": [
    "## Meanwhile, on the dry dock...\n",
    "Let's get ship-shape! First, check your dependencies using the cell below. Install any missing components into your environment as necessary."
   ]
  },
  {
   "cell_type": "code",
   "execution_count": 4,
   "metadata": {},
   "outputs": [
    {
     "name": "stdout",
     "output_type": "stream",
     "text": [
      "boto3 1.9.12\n",
      "docker 3.5.0\n",
      "squid_py 0.0.1\n"
     ]
    }
   ],
   "source": [
    "# The AWS SDK\n",
    "import boto3\n",
    "print( \"boto3\", boto3.__version__ )\n",
    "\n",
    "# The docker python utility can be used to manage your local docker configuration\n",
    "import docker\n",
    "print(\"docker\", docker.__version__)\n",
    "\n",
    "# Alternatively, you may connect to the Kubernetes cluster for testing\n",
    "# TODO: k8s util check\n",
    "\n",
    "# Or, you can connect to the Ethereum test net\n",
    "# TODO: test net util check\n",
    "\n",
    "# squid-py is your main interface to Ocean Protocol\n",
    "import squid_py\n",
    "print(\"squid_py\", squid_py.__version__)"
   ]
  },
  {
   "cell_type": "markdown",
   "metadata": {},
   "source": [
    "## <span style=\"color:blue\">Ship's manifest</span>\n",
    "# <span style=\"color: red;\"> H1 Title </span>"
   ]
  },
  {
   "cell_type": "markdown",
   "metadata": {},
   "source": [
    "### AWS S3 management\n",
    "#### check_aws_s3\n",
    "Test your connection to S3\n",
    "#### process_catalogue\n",
    "Using your AWS account, manage your data assets"
   ]
  },
  {
   "cell_type": "markdown",
   "metadata": {},
   "source": [
    "### Local docker verification\n",
    "#### check_docker\n",
    "If using a local simulation of the blockchain and ocean protocol infrastructure, this script can help you verify your containers"
   ]
  },
  {
   "cell_type": "markdown",
   "metadata": {
    "lines_to_next_cell": 0
   },
   "source": [
    "### Local docker verification\n",
    "#### check_squid\n",
    "Got squid?\n",
    "#### play_with_your_squid\n",
    "Start verifying fundamental interaction with Ocean Protocol.\n",
    "\n",
    "\n",
    "%% [markdown]\n",
    "OLD"
   ]
  },
  {
   "cell_type": "code",
   "execution_count": null,
   "metadata": {},
   "outputs": [],
   "source": [
    "# Rank:\n",
    "# Ensign -\n",
    "# Able seaman\n",
    "# Before embarking across Ocean Protocol, let's get ship-shape with the following pre-requisites;\n",
    "# Pre"
   ]
  },
  {
   "cell_type": "markdown",
   "metadata": {},
   "source": [
    "\n",
    "Ready the sails!\n"
   ]
  },
  {
   "cell_type": "markdown",
   "metadata": {},
   "source": [
    "\n",
    "Inspection"
   ]
  }
 ],
 "metadata": {
  "jupytext_formats": "py:percent",
  "kernelspec": {
   "display_name": "Python (mantaray3)",
   "language": "python",
   "name": "mantaray3"
  },
  "language_info": {
   "codemirror_mode": {
    "name": "ipython",
    "version": 3
   },
   "file_extension": ".py",
   "mimetype": "text/x-python",
   "name": "python",
   "nbconvert_exporter": "python",
   "pygments_lexer": "ipython3",
   "version": "3.7.0"
  },
  "main_language": "python"
 },
 "nbformat": 4,
 "nbformat_minor": 2
}
