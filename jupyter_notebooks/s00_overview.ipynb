{
 "cells": [
  {
   "cell_type": "markdown",
   "metadata": {},
   "source": [
    "\n",
    "The Mantaray scripts provide a guided tour of Ocean Protocol in an interactive environment.\n",
    "\n",
    "The scripts are designed to be executed in an 'IPython' interactive console.\n",
    "\n",
    "The popular Jupyter Notebook format is supported.\n",
    "\n",
    "Alternatively, you can run the scripts in other IPython environments.\n",
    "\n",
    "The scripts are generated in two formats: .py scripts with the # %% cell demarcation convention, or the auto-converted .ipynb format for i.e. Jupyter Notebook.\n",
    "\n",
    "These scripts also serve as a catalog of building blocks for building more complex user stories and applications."
   ]
  },
  {
   "cell_type": "markdown",
   "metadata": {},
   "source": [
    "Jupyter Lab can use different python environments (kernels)\n",
    "For easiest use, install the `ipykernel` package into your environment:\n",
    "\n",
    "`pip install ipykernel` or `conda install ipykernel`\n",
    "\n",
    "Then, install the kernel using the IPython command; `ipython kernel install --user --name=projectname`\n",
    "\n",
    "TODO: Check this error in ipykernel deps\n",
    "\n",
    " If error on above command, try `pip install 'prompt-toolkit==1.0.15'`\n",
    "Then, `python -m ipykernel install --user --name mantaray3 --display-name \"Python (mantaray3)\" `"
   ]
  },
  {
   "cell_type": "markdown",
   "metadata": {},
   "source": [
    "## Meanwhile, on the dry dock..."
   ]
  },
  {
   "cell_type": "code",
   "execution_count": null,
   "metadata": {},
   "outputs": [],
   "source": [
    "# The AWS SDK\n",
    "import boto3\n",
    "print( \"boto3\", boto3.__version__ )\n",
    "\n",
    "# The docker python utility can be used to manage your local docker configuration\n",
    "import docker\n",
    "print(\"docker\", docker.__version__)\n",
    "\n",
    "# Alternatively, you may connect to the Kubernetes cluster for testing\n",
    "# TODO: k8s util check\n",
    "\n",
    "# Or, you can connect to the Ethereum test net\n",
    "# TODO: test net util check\n",
    "\n",
    "# squid-py is your main interface to Ocean Protocol\n",
    "import squid_py\n",
    "print(\"squid_py\", squid_py.__version__)\n",
    "\n"
   ]
  },
  {
   "cell_type": "code",
   "execution_count": null,
   "metadata": {},
   "outputs": [],
   "source": [
    "# Rank:\n",
    "# Ensign -\n",
    "# Able seaman\n",
    "# Before embarking across Ocean Protocol, let's get ship-shape with the following pre-requisites;\n",
    "# Pre"
   ]
  },
  {
   "cell_type": "markdown",
   "metadata": {},
   "source": [
    "\n",
    "Ready the sails!\n"
   ]
  },
  {
   "cell_type": "markdown",
   "metadata": {},
   "source": [
    "\n",
    "Inspection"
   ]
  }
 ],
 "metadata": {
  "jupytext_formats": "py:percent",
  "main_language": "python"
 },
 "nbformat": 4,
 "nbformat_minor": 2
}
