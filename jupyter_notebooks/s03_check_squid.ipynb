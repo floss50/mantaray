{
 "cells": [
  {
   "cell_type": "code",
   "execution_count": 6,
   "metadata": {},
   "outputs": [
    {
     "name": "stdout",
     "output_type": "stream",
     "text": [
      "/home/batman/ocn/mantaray\n"
     ]
    }
   ],
   "source": [
    "%cd .."
   ]
  },
  {
   "cell_type": "code",
   "execution_count": 1,
   "metadata": {},
   "outputs": [
    {
     "data": {
      "text/plain": [
       "'\\nWith docker running, run this script to test the Ocean wrapper (squid-py).\\n\\nInstantiate the wrapper with the local config_local.ini.\\n'"
      ]
     },
     "execution_count": 1,
     "metadata": {},
     "output_type": "execute_result"
    }
   ],
   "source": [
    "\"\"\"\n",
    "With docker running, run this script to test the Ocean wrapper (squid-py).\n",
    "\n",
    "Instantiate the wrapper with the local config_local.ini.\n",
    "\"\"\""
   ]
  },
  {
   "cell_type": "code",
   "execution_count": 2,
   "metadata": {
    "title": "Imports"
   },
   "outputs": [
    {
     "name": "stdout",
     "output_type": "stream",
     "text": [
      "Failed to load configuration file. Using default configs\n"
     ]
    }
   ],
   "source": [
    "\n",
    "import pathlib\n",
    "import squid_py.ocean as ocean\n",
    "import sys\n",
    "from squid_py.utils.web3_helper import convert_to_bytes, convert_to_string, convert_to_text"
   ]
  },
  {
   "cell_type": "code",
   "execution_count": 7,
   "metadata": {
    "title": "Logging"
   },
   "outputs": [
    {
     "name": "stderr",
     "output_type": "stream",
     "text": [
      "10 - <ipython-input-7-f3cf088e1dc8> - <module>        - Logging started\n"
     ]
    }
   ],
   "source": [
    "import logging\n",
    "\n",
    "loggers_dict = logging.Logger.manager.loggerDict\n",
    "\n",
    "logger = logging.getLogger()\n",
    "logger.handlers = []\n",
    "\n",
    "# Set level\n",
    "logger.setLevel(logging.DEBUG)\n",
    "\n",
    "# FORMAT = \"%(asctime)s - %(levelno)s - %(module)-15s - %(funcName)-15s - %(message)s\"\n",
    "# FORMAT = \"%(asctime)s %(levelno)s: %(module)30s %(message)s\"\n",
    "FORMAT = \"%(levelno)s - %(module)-15s - %(funcName)-15s - %(message)s\"\n",
    "\n",
    "DATE_FMT = \"%Y-%m-%d %H:%M:%S\"\n",
    "DATE_FMT = \"%Y-%m-%d %H:%M:%S\"\n",
    "formatter = logging.Formatter(FORMAT, DATE_FMT)\n",
    "\n",
    "# Create handler and assign\n",
    "handler = logging.StreamHandler(sys.stderr)\n",
    "handler.setFormatter(formatter)\n",
    "logger.handlers = [handler]\n",
    "logger.debug(\"Logging started\")"
   ]
  },
  {
   "cell_type": "code",
   "execution_count": 9,
   "metadata": {
    "title": "Instantiate the wrapper"
   },
   "outputs": [
    {
     "name": "stderr",
     "output_type": "stream",
     "text": [
      "10 - config          - __init__        - Config: loading config file config_local.ini\n",
      "10 - manager         - _make_request   - Making request. Method: net_version\n",
      "10 - rpc             - make_request    - Making request HTTP. URI: http://0.0.0.0:8545, Method: net_version\n",
      "10 - connectionpool  - _get_conn       - Resetting dropped connection: 0.0.0.0\n",
      "10 - connectionpool  - _make_request   - http://0.0.0.0:8545 \"POST / HTTP/1.1\" 200 None\n",
      "10 - rpc             - make_request    - Getting response HTTP. URI: http://0.0.0.0:8545, Method: net_version, Response: {'id': 0, 'jsonrpc': '2.0', 'result': '1539154144833'}\n",
      "20 - <ipython-input-9-e29deb3c7364> - <module>        - _keeper_url http://0.0.0.0:8545\n",
      "20 - <ipython-input-9-e29deb3c7364> - <module>        - _keeper_path /home/batman/anaconda3/envs/mantaray3/contracts\n",
      "20 - <ipython-input-9-e29deb3c7364> - <module>        - _gas_limit 300000\n",
      "20 - <ipython-input-9-e29deb3c7364> - <module>        - _provider_url http://localhost:5000\n",
      "20 - <ipython-input-9-e29deb3c7364> - <module>        -                  Token contract address: 0xCfEB869F69431e42cdB54A4F4f105C19C080A601\n",
      "20 - <ipython-input-9-e29deb3c7364> - <module>        -        Authentication contract atddress: 0x0E696947A06550DEf604e82C26fd9E493e576337\n",
      "20 - <ipython-input-9-e29deb3c7364> - <module>        -                 Market contract address: 0x2612Af3A521c2df9EAF28422Ca335b04AdF3ac66\n",
      "20 - <ipython-input-9-e29deb3c7364> - <module>        - Metadata store (provider) located at: http://localhost:5000/api/v1/provider/assets\n"
     ]
    }
   ],
   "source": [
    "\n",
    "# The contract addresses are loaded from file\n",
    "PATH_CONFIG = pathlib.Path.cwd() / 'config_local.ini'\n",
    "assert PATH_CONFIG.exists(), \"{} does not exist\".format(PATH_CONFIG)\n",
    "\n",
    "#ocn = ocean.Ocean(host='http://0.0.0.0', port=8545, config_path=PATH_CONFIG)\n",
    "\n",
    "ocn = ocean.Ocean(keeper_url='http://0.0.0.0:8545', config_file='config_local.ini')\n",
    "#config = Config('config_local.ini')\n",
    "#assert ocean.market.address == ocean.get_web3().toChecksumAddress(config.get(KEEPER_CONTRACTS, 'market.address'))\n",
    "\n",
    "# logging.info(\"Ocean smart contract node connected at {}\".format(ocn.node_uri))\n",
    "logging.info(\"_keeper_url {}\".format(ocn._keeper_url))\n",
    "logging.info(\"_keeper_path {}\".format(ocn._keeper_path))\n",
    "logging.info(\"_gas_limit {}\".format(ocn._gas_limit))\n",
    "logging.info(\"_provider_url {}\".format(ocn._provider_url))\n",
    "\n",
    "\n",
    "logging.info(\"{:>40} {}\".format(\"Token contract address:\", ocn.token.address))\n",
    "logging.info(\"{:>40} {}\".format(\"Authentication contract atddress:\", ocn.auth.address))\n",
    "logging.info(\"{:>40} {}\".format(\"Market contract address:\", ocn.market.address))\n",
    "\n",
    "logging.info(\"Metadata store (provider) located at: {}\".format(ocn.metadata.base_url))"
   ]
  },
  {
   "cell_type": "code",
   "execution_count": 5,
   "metadata": {
    "lines_to_next_cell": 0
   },
   "outputs": [
    {
     "ename": "NameError",
     "evalue": "name 'ocn' is not defined",
     "output_type": "error",
     "traceback": [
      "\u001b[0;31m---------------------------------------------------------------------------\u001b[0m",
      "\u001b[0;31mNameError\u001b[0m                                 Traceback (most recent call last)",
      "\u001b[0;32m<ipython-input-5-83e811416a0a>\u001b[0m in \u001b[0;36m<module>\u001b[0;34m()\u001b[0m\n\u001b[0;32m----> 1\u001b[0;31m \u001b[0mocn\u001b[0m\u001b[0;34m.\u001b[0m\u001b[0mhelper\u001b[0m\u001b[0;34m.\u001b[0m\u001b[0maccounts\u001b[0m\u001b[0;34m\u001b[0m\u001b[0m\n\u001b[0m",
      "\u001b[0;31mNameError\u001b[0m: name 'ocn' is not defined"
     ]
    }
   ],
   "source": [
    "ocn.helper.accounts"
   ]
  },
  {
   "cell_type": "code",
   "execution_count": null,
   "metadata": {},
   "outputs": [],
   "source": []
  },
  {
   "cell_type": "code",
   "execution_count": null,
   "metadata": {},
   "outputs": [],
   "source": []
  }
 ],
 "metadata": {
  "jupytext_formats": "py:percent",
  "kernelspec": {
   "display_name": "Python (mantaray3)",
   "language": "python",
   "name": "mantaray3"
  },
  "language_info": {
   "codemirror_mode": {
    "name": "ipython",
    "version": 3
   },
   "file_extension": ".py",
   "mimetype": "text/x-python",
   "name": "python",
   "nbconvert_exporter": "python",
   "pygments_lexer": "ipython3",
   "version": "3.7.0"
  },
  "main_language": "python"
 },
 "nbformat": 4,
 "nbformat_minor": 2
}
