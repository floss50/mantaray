{
 "cells": [
  {
   "cell_type": "code",
   "execution_count": 5,
   "metadata": {},
   "outputs": [
    {
     "name": "stdout",
     "output_type": "stream",
     "text": [
      "/home/batman/ocn/mantaray\n"
     ]
    }
   ],
   "source": [
    "%cd .."
   ]
  },
  {
   "cell_type": "code",
   "execution_count": 6,
   "metadata": {},
   "outputs": [
    {
     "data": {
      "text/plain": [
       "'\\nTest functionality of squid-py wrapper.\\n'"
      ]
     },
     "execution_count": 6,
     "metadata": {},
     "output_type": "execute_result"
    }
   ],
   "source": [
    "\"\"\"\n",
    "Test functionality of squid-py wrapper.\n",
    "\"\"\""
   ]
  },
  {
   "cell_type": "code",
   "execution_count": 7,
   "metadata": {
    "title": "Imports"
   },
   "outputs": [],
   "source": [
    "import pathlib\n",
    "import squid_py.ocean as ocean_wrapper\n",
    "from squid_py.utils.web3_helper import convert_to_bytes, convert_to_string, convert_to_text, Web3Helper\n",
    "import sys\n",
    "import random\n",
    "import json\n",
    "from pprint import pprint\n",
    "import squid_py.ocean as ocean"
   ]
  },
  {
   "cell_type": "code",
   "execution_count": 8,
   "metadata": {
    "title": "Logging"
   },
   "outputs": [
    {
     "name": "stderr",
     "output_type": "stream",
     "text": [
      "20 - <ipython-input-8-1b8f9b466b7f> - <module>        - Logging started\n"
     ]
    }
   ],
   "source": [
    "import logging\n",
    "\n",
    "loggers_dict = logging.Logger.manager.loggerDict\n",
    "\n",
    "logger = logging.getLogger()\n",
    "logger.handlers = []\n",
    "\n",
    "# Set level\n",
    "logger.setLevel(logging.INFO)\n",
    "\n",
    "# FORMAT = \"%(asctime)s - %(levelno)s - %(module)-15s - %(funcName)-15s - %(message)s\"\n",
    "# FORMAT = \"%(asctime)s %(levelno)s: %(module)30s %(message)s\"\n",
    "FORMAT = \"%(levelno)s - %(module)-15s - %(funcName)-15s - %(message)s\"\n",
    "\n",
    "DATE_FMT = \"%Y-%m-%d %H:%M:%S\"\n",
    "DATE_FMT = \"%Y-%m-%d %H:%M:%S\"\n",
    "formatter = logging.Formatter(FORMAT, DATE_FMT)\n",
    "\n",
    "# Create handler and assign\n",
    "handler = logging.StreamHandler(sys.stderr)\n",
    "handler.setFormatter(formatter)\n",
    "logger.handlers = [handler]\n",
    "logger.info(\"Logging started\")"
   ]
  },
  {
   "cell_type": "code",
   "execution_count": 9,
   "metadata": {
    "title": "Instantiate the wrapper"
   },
   "outputs": [
    {
     "name": "stderr",
     "output_type": "stream",
     "text": [
      "20 - <ipython-input-9-fe87070c73c5> - <module>        - Ocean smart contract node connected \n"
     ]
    }
   ],
   "source": [
    "\n",
    "# The contract addresses are loaded from file\n",
    "PATH_CONFIG = pathlib.Path.cwd() / 'config_local.ini'\n",
    "assert PATH_CONFIG.exists(), \"{} does not exist\".format(PATH_CONFIG)\n",
    "\n",
    "ocn = ocean.Ocean(keeper_url='http://0.0.0.0:8545', config_file='config_local.ini')\n",
    "logging.info(\"Ocean smart contract node connected \".format())"
   ]
  },
  {
   "cell_type": "code",
   "execution_count": 10,
   "metadata": {
    "title": "List the users"
   },
   "outputs": [
    {
     "data": {
      "text/plain": [
       "['0x90F8bf6A479f320ead074411a4B0e7944Ea8c9C1',\n",
       " '0xFFcf8FDEE72ac11b5c542428B35EEF5769C409f0',\n",
       " '0x22d491Bde2303f2f43325b2108D26f1eAbA1e32b',\n",
       " '0xE11BA2b4D45Eaed5996Cd0823791E0C93114882d',\n",
       " '0xd03ea8624C8C5987235048901fB614fDcA89b117',\n",
       " '0x95cED938F7991cd0dFcb48F0a06a40FA1aF46EBC',\n",
       " '0x3E5e9111Ae8eB78Fe1CC3bb8915d5D461F3Ef9A9',\n",
       " '0x28a8746e75304c0780E011BEd21C72cD78cd535E',\n",
       " '0xACa94ef8bD5ffEE41947b4585a84BdA5a3d3DA6E',\n",
       " '0x1dF62f291b2E969fB0849d99D9Ce41e2F137006e']"
      ]
     },
     "execution_count": 10,
     "metadata": {},
     "output_type": "execute_result"
    }
   ],
   "source": [
    "ocn.helper.accounts\n"
   ]
  },
  {
   "cell_type": "code",
   "execution_count": 12,
   "metadata": {
    "title": "Get funds to users"
   },
   "outputs": [
    {
     "name": "stderr",
     "output_type": "stream",
     "text": [
      "20 - market          - request_tokens  - Requesting 95 tokens\n",
      "20 - market          - request_tokens  - Requesting 88 tokens\n",
      "20 - market          - request_tokens  - Requesting 38 tokens\n",
      "20 - market          - request_tokens  - Requesting 35 tokens\n",
      "20 - market          - request_tokens  - Requesting 74 tokens\n",
      "20 - market          - request_tokens  - Requesting 72 tokens\n",
      "20 - market          - request_tokens  - Requesting 66 tokens\n",
      "20 - market          - request_tokens  - Requesting 23 tokens\n",
      "20 - market          - request_tokens  - Requesting 26 tokens\n",
      "20 - market          - request_tokens  - Requesting 70 tokens\n"
     ]
    }
   ],
   "source": [
    "# By default, 10 wallet addresses are created in Ganache\n",
    "# A simple wrapper for each address is created to represent a user\n",
    "# Users are instantiated and listed\n",
    "\n",
    "class User():\n",
    "    def __init__(self,num,ocean_obj):\n",
    "        self.name = 'user' + str(num)\n",
    "        self.ocean = ocean_obj\n",
    "        self.address = self.ocean.helper._web3.eth.accounts[num]\n",
    "        self.balance = self.update_balance()\n",
    "\n",
    "        logging.debug(self)\n",
    "\n",
    "    def __str__(self):\n",
    "        self.update_balance()\n",
    "        return \"{} at {}... with {} token\".format(self.name,self.address[0:6],self.balance)\n",
    "\n",
    "    def update_balance(self):\n",
    "        self.balance = self.ocean.token.get_token_balance(self.address)\n",
    "\n",
    "    def request_dev_tokens(self,amount):\n",
    "        \"\"\"For development, a user can request free tokens\"\"\"\n",
    "        self.ocean.market.request_tokens(amount, self.address)\n",
    "\n",
    "    def register_asset(self, dataset):\n",
    "        # Register this asset on the blockchain\n",
    "        asset_id = self.ocean.market.register_asset(dataset['base']['name'], dataset['base']['description'],\n",
    "                                               dataset['base']['price'], self.address)\n",
    "        assert self.ocean.market.check_asset(asset_id)\n",
    "\n",
    "        # logging.info(\"{} registered\".format(asset_id.decode(\"ascii\").rstrip()))\n",
    "        logging.info(\"registered asset: {}\".format(asset_id))\n",
    "\n",
    "\n",
    "users = list()\n",
    "for i in range(len(ocn.helper._web3.eth.accounts)):\n",
    "    user = User(i,ocn)\n",
    "    user.request_dev_tokens(random.randint(0,100))\n",
    "    users.append(user)"
   ]
  },
  {
   "cell_type": "code",
   "execution_count": 13,
   "metadata": {
    "title": "List the users"
   },
   "outputs": [
    {
     "name": "stdout",
     "output_type": "stream",
     "text": [
      "user0 at 0x90F8... with 95 token\n",
      "user1 at 0xFFcf... with 88 token\n",
      "user2 at 0x22d4... with 38 token\n",
      "user3 at 0xE11B... with 35 token\n",
      "user4 at 0xd03e... with 74 token\n",
      "user5 at 0x95cE... with 72 token\n",
      "user6 at 0x3E5e... with 66 token\n",
      "user7 at 0x28a8... with 23 token\n",
      "user8 at 0xACa9... with 26 token\n",
      "user9 at 0x1dF6... with 70 token\n"
     ]
    }
   ],
   "source": [
    "for u in users: print(u)"
   ]
  },
  {
   "cell_type": "code",
   "execution_count": 14,
   "metadata": {
    "title": "Register some assets"
   },
   "outputs": [
    {
     "name": "stderr",
     "output_type": "stream",
     "text": [
      "20 - <ipython-input-14-862d26095e5b> - <module>        - Asset metadata for UK Weather information 20111: type=dataset, price=10\n",
      "20 - market          - register_asset  - registered: b'\\xd4\\xd4 \\xb8\\x8aT\\xc8\\xf8\\xe2\\xb8\\xb3_*\\x1esht\\xeb\\xdd\\xd9\\x02Y_\\x95\\xb09\\x15 \\xe3Ghw'\n",
      "20 - <ipython-input-12-f35f18a5475e> - register_asset  - registered asset: b'L\\xa3i\\x9b\\x11B\\xe4\\x02$\\x01\\xb9F7\\x98\\xcc\\xe9O\\xad\\xd0\\xb8\\xe6->\\xa31]\"!X\\xa1\\x82\\xb8'\n"
     ]
    },
    {
     "ename": "JSONDecodeError",
     "evalue": "Expecting value: line 1 column 1 (char 0)",
     "output_type": "error",
     "traceback": [
      "\u001b[0;31m---------------------------------------------------------------------------\u001b[0m",
      "\u001b[0;31mJSONDecodeError\u001b[0m                           Traceback (most recent call last)",
      "\u001b[0;32m<ipython-input-14-862d26095e5b>\u001b[0m in \u001b[0;36m<module>\u001b[0;34m()\u001b[0m\n\u001b[1;32m     10\u001b[0m \u001b[0mregistered_asset\u001b[0m \u001b[0;34m=\u001b[0m \u001b[0musers\u001b[0m\u001b[0;34m[\u001b[0m\u001b[0;36m0\u001b[0m\u001b[0;34m]\u001b[0m\u001b[0;34m.\u001b[0m\u001b[0mregister_asset\u001b[0m\u001b[0;34m(\u001b[0m\u001b[0mdataset\u001b[0m\u001b[0;34m)\u001b[0m\u001b[0;34m\u001b[0m\u001b[0m\n\u001b[1;32m     11\u001b[0m \u001b[0;34m\u001b[0m\u001b[0m\n\u001b[0;32m---> 12\u001b[0;31m \u001b[0masset\u001b[0m \u001b[0;34m=\u001b[0m \u001b[0mocn\u001b[0m\u001b[0;34m.\u001b[0m\u001b[0mmetadata\u001b[0m\u001b[0;34m.\u001b[0m\u001b[0mregister_asset\u001b[0m\u001b[0;34m(\u001b[0m\u001b[0mdataset\u001b[0m\u001b[0;34m)\u001b[0m\u001b[0;34m\u001b[0m\u001b[0m\n\u001b[0m\u001b[1;32m     13\u001b[0m \u001b[0;32massert\u001b[0m \u001b[0mocean_provider\u001b[0m\u001b[0;34m.\u001b[0m\u001b[0mmetadata\u001b[0m\u001b[0;34m.\u001b[0m\u001b[0mget_asset_ddo\u001b[0m\u001b[0;34m(\u001b[0m\u001b[0masset\u001b[0m\u001b[0;34m[\u001b[0m\u001b[0;34m'assetId'\u001b[0m\u001b[0;34m]\u001b[0m\u001b[0;34m)\u001b[0m\u001b[0;34m[\u001b[0m\u001b[0;34m'base'\u001b[0m\u001b[0;34m]\u001b[0m\u001b[0;34m[\u001b[0m\u001b[0;34m'name'\u001b[0m\u001b[0;34m]\u001b[0m \u001b[0;34m==\u001b[0m \u001b[0masset\u001b[0m\u001b[0;34m[\u001b[0m\u001b[0;34m'base'\u001b[0m\u001b[0;34m]\u001b[0m\u001b[0;34m[\u001b[0m\u001b[0;34m'name'\u001b[0m\u001b[0;34m]\u001b[0m\u001b[0;34m\u001b[0m\u001b[0m\n\u001b[1;32m     14\u001b[0m \u001b[0mocean_provider\u001b[0m\u001b[0;34m.\u001b[0m\u001b[0mmetadata\u001b[0m\u001b[0;34m.\u001b[0m\u001b[0mretire_asset\u001b[0m\u001b[0;34m(\u001b[0m\u001b[0masset\u001b[0m\u001b[0;34m[\u001b[0m\u001b[0;34m'assetId'\u001b[0m\u001b[0;34m]\u001b[0m\u001b[0;34m)\u001b[0m\u001b[0;34m\u001b[0m\u001b[0m\n",
      "\u001b[0;32m~/anaconda3/envs/mantaray3/lib/python3.7/site-packages/squid_py/metadata.py\u001b[0m in \u001b[0;36mregister_asset\u001b[0;34m(self, data)\u001b[0m\n\u001b[1;32m     20\u001b[0m \u001b[0;34m\u001b[0m\u001b[0m\n\u001b[1;32m     21\u001b[0m     \u001b[0;32mdef\u001b[0m \u001b[0mregister_asset\u001b[0m\u001b[0;34m(\u001b[0m\u001b[0mself\u001b[0m\u001b[0;34m,\u001b[0m \u001b[0mdata\u001b[0m\u001b[0;34m)\u001b[0m\u001b[0;34m:\u001b[0m\u001b[0;34m\u001b[0m\u001b[0m\n\u001b[0;32m---> 22\u001b[0;31m         \u001b[0;32mreturn\u001b[0m \u001b[0mjson\u001b[0m\u001b[0;34m.\u001b[0m\u001b[0mloads\u001b[0m\u001b[0;34m(\u001b[0m\u001b[0mrequests\u001b[0m\u001b[0;34m.\u001b[0m\u001b[0mpost\u001b[0m\u001b[0;34m(\u001b[0m\u001b[0mself\u001b[0m\u001b[0;34m.\u001b[0m\u001b[0mbase_url\u001b[0m \u001b[0;34m+\u001b[0m \u001b[0;34m'/metadata'\u001b[0m\u001b[0;34m,\u001b[0m \u001b[0mdata\u001b[0m\u001b[0;34m=\u001b[0m\u001b[0mjson\u001b[0m\u001b[0;34m.\u001b[0m\u001b[0mdumps\u001b[0m\u001b[0;34m(\u001b[0m\u001b[0mdata\u001b[0m\u001b[0;34m)\u001b[0m\u001b[0;34m,\u001b[0m \u001b[0mheaders\u001b[0m\u001b[0;34m=\u001b[0m\u001b[0mself\u001b[0m\u001b[0;34m.\u001b[0m\u001b[0mheaders\u001b[0m\u001b[0;34m)\u001b[0m\u001b[0;34m.\u001b[0m\u001b[0mcontent\u001b[0m\u001b[0;34m)\u001b[0m\u001b[0;34m\u001b[0m\u001b[0m\n\u001b[0m\u001b[1;32m     23\u001b[0m \u001b[0;34m\u001b[0m\u001b[0m\n\u001b[1;32m     24\u001b[0m     \u001b[0;32mdef\u001b[0m \u001b[0mupdate_asset\u001b[0m\u001b[0;34m(\u001b[0m\u001b[0mself\u001b[0m\u001b[0;34m,\u001b[0m \u001b[0mdata\u001b[0m\u001b[0;34m)\u001b[0m\u001b[0;34m:\u001b[0m\u001b[0;34m\u001b[0m\u001b[0m\n",
      "\u001b[0;32m~/anaconda3/envs/mantaray3/lib/python3.7/json/__init__.py\u001b[0m in \u001b[0;36mloads\u001b[0;34m(s, encoding, cls, object_hook, parse_float, parse_int, parse_constant, object_pairs_hook, **kw)\u001b[0m\n\u001b[1;32m    346\u001b[0m             \u001b[0mparse_int\u001b[0m \u001b[0;32mis\u001b[0m \u001b[0;32mNone\u001b[0m \u001b[0;32mand\u001b[0m \u001b[0mparse_float\u001b[0m \u001b[0;32mis\u001b[0m \u001b[0;32mNone\u001b[0m \u001b[0;32mand\u001b[0m\u001b[0;34m\u001b[0m\u001b[0m\n\u001b[1;32m    347\u001b[0m             parse_constant is None and object_pairs_hook is None and not kw):\n\u001b[0;32m--> 348\u001b[0;31m         \u001b[0;32mreturn\u001b[0m \u001b[0m_default_decoder\u001b[0m\u001b[0;34m.\u001b[0m\u001b[0mdecode\u001b[0m\u001b[0;34m(\u001b[0m\u001b[0ms\u001b[0m\u001b[0;34m)\u001b[0m\u001b[0;34m\u001b[0m\u001b[0m\n\u001b[0m\u001b[1;32m    349\u001b[0m     \u001b[0;32mif\u001b[0m \u001b[0mcls\u001b[0m \u001b[0;32mis\u001b[0m \u001b[0;32mNone\u001b[0m\u001b[0;34m:\u001b[0m\u001b[0;34m\u001b[0m\u001b[0m\n\u001b[1;32m    350\u001b[0m         \u001b[0mcls\u001b[0m \u001b[0;34m=\u001b[0m \u001b[0mJSONDecoder\u001b[0m\u001b[0;34m\u001b[0m\u001b[0m\n",
      "\u001b[0;32m~/anaconda3/envs/mantaray3/lib/python3.7/json/decoder.py\u001b[0m in \u001b[0;36mdecode\u001b[0;34m(self, s, _w)\u001b[0m\n\u001b[1;32m    335\u001b[0m \u001b[0;34m\u001b[0m\u001b[0m\n\u001b[1;32m    336\u001b[0m         \"\"\"\n\u001b[0;32m--> 337\u001b[0;31m         \u001b[0mobj\u001b[0m\u001b[0;34m,\u001b[0m \u001b[0mend\u001b[0m \u001b[0;34m=\u001b[0m \u001b[0mself\u001b[0m\u001b[0;34m.\u001b[0m\u001b[0mraw_decode\u001b[0m\u001b[0;34m(\u001b[0m\u001b[0ms\u001b[0m\u001b[0;34m,\u001b[0m \u001b[0midx\u001b[0m\u001b[0;34m=\u001b[0m\u001b[0m_w\u001b[0m\u001b[0;34m(\u001b[0m\u001b[0ms\u001b[0m\u001b[0;34m,\u001b[0m \u001b[0;36m0\u001b[0m\u001b[0;34m)\u001b[0m\u001b[0;34m.\u001b[0m\u001b[0mend\u001b[0m\u001b[0;34m(\u001b[0m\u001b[0;34m)\u001b[0m\u001b[0;34m)\u001b[0m\u001b[0;34m\u001b[0m\u001b[0m\n\u001b[0m\u001b[1;32m    338\u001b[0m         \u001b[0mend\u001b[0m \u001b[0;34m=\u001b[0m \u001b[0m_w\u001b[0m\u001b[0;34m(\u001b[0m\u001b[0ms\u001b[0m\u001b[0;34m,\u001b[0m \u001b[0mend\u001b[0m\u001b[0;34m)\u001b[0m\u001b[0;34m.\u001b[0m\u001b[0mend\u001b[0m\u001b[0;34m(\u001b[0m\u001b[0;34m)\u001b[0m\u001b[0;34m\u001b[0m\u001b[0m\n\u001b[1;32m    339\u001b[0m         \u001b[0;32mif\u001b[0m \u001b[0mend\u001b[0m \u001b[0;34m!=\u001b[0m \u001b[0mlen\u001b[0m\u001b[0;34m(\u001b[0m\u001b[0ms\u001b[0m\u001b[0;34m)\u001b[0m\u001b[0;34m:\u001b[0m\u001b[0;34m\u001b[0m\u001b[0m\n",
      "\u001b[0;32m~/anaconda3/envs/mantaray3/lib/python3.7/json/decoder.py\u001b[0m in \u001b[0;36mraw_decode\u001b[0;34m(self, s, idx)\u001b[0m\n\u001b[1;32m    353\u001b[0m             \u001b[0mobj\u001b[0m\u001b[0;34m,\u001b[0m \u001b[0mend\u001b[0m \u001b[0;34m=\u001b[0m \u001b[0mself\u001b[0m\u001b[0;34m.\u001b[0m\u001b[0mscan_once\u001b[0m\u001b[0;34m(\u001b[0m\u001b[0ms\u001b[0m\u001b[0;34m,\u001b[0m \u001b[0midx\u001b[0m\u001b[0;34m)\u001b[0m\u001b[0;34m\u001b[0m\u001b[0m\n\u001b[1;32m    354\u001b[0m         \u001b[0;32mexcept\u001b[0m \u001b[0mStopIteration\u001b[0m \u001b[0;32mas\u001b[0m \u001b[0merr\u001b[0m\u001b[0;34m:\u001b[0m\u001b[0;34m\u001b[0m\u001b[0m\n\u001b[0;32m--> 355\u001b[0;31m             \u001b[0;32mraise\u001b[0m \u001b[0mJSONDecodeError\u001b[0m\u001b[0;34m(\u001b[0m\u001b[0;34m\"Expecting value\"\u001b[0m\u001b[0;34m,\u001b[0m \u001b[0ms\u001b[0m\u001b[0;34m,\u001b[0m \u001b[0merr\u001b[0m\u001b[0;34m.\u001b[0m\u001b[0mvalue\u001b[0m\u001b[0;34m)\u001b[0m \u001b[0;32mfrom\u001b[0m \u001b[0;32mNone\u001b[0m\u001b[0;34m\u001b[0m\u001b[0m\n\u001b[0m\u001b[1;32m    356\u001b[0m         \u001b[0;32mreturn\u001b[0m \u001b[0mobj\u001b[0m\u001b[0;34m,\u001b[0m \u001b[0mend\u001b[0m\u001b[0;34m\u001b[0m\u001b[0m\n",
      "\u001b[0;31mJSONDecodeError\u001b[0m: Expecting value: line 1 column 1 (char 0)"
     ]
    }
   ],
   "source": [
    "\n",
    "# The sample asset metadata is stored in a .json file\n",
    "PATH_ASSET1 = pathlib.Path.cwd() / 'sample_assets' / 'sample1.json'\n",
    "assert PATH_ASSET1.exists()\n",
    "with open(PATH_ASSET1) as f:\n",
    "    dataset = json.load(f)\n",
    "\n",
    "logging.info(\"Asset metadata for {}: type={}, price={}\".format(dataset['base']['name'],dataset['base']['type'],dataset['base']['price']))\n",
    "\n",
    "registered_asset = users[0].register_asset(dataset)\n",
    "\n",
    "asset = ocn.metadata.register_asset(dataset)\n",
    "assert ocean_provider.metadata.get_asset_ddo(asset['assetId'])['base']['name'] == asset['base']['name']\n",
    "ocean_provider.metadata.retire_asset(asset['assetId'])"
   ]
  },
  {
   "cell_type": "code",
   "execution_count": 15,
   "metadata": {
    "lines_to_next_cell": 0,
    "title": "List assets"
   },
   "outputs": [],
   "source": [
    "asset_ddo = ocn.metadata.get_asset_ddo(dataset['assetId'])\n",
    "assert ocn.metadata.get_asset_ddo(dataset['assetId'])['base']['name'] == dataset['base']['name']"
   ]
  },
  {
   "cell_type": "code",
   "execution_count": 15,
   "metadata": {},
   "outputs": [],
   "source": [
    "\n",
    "# import time\n",
    "\n",
    "# import squid_py.acl as acl\n",
    "# from squid_py.ocean import Ocean\n",
    "# from squid_py.utils.web3_helper import convert_to_string\n",
    "\n",
    "def get_events(event_filter, max_iterations=100, pause_duration=0.1):\n",
    "    events = event_filter.get_new_entries()\n",
    "    i = 0\n",
    "    while not events and i < max_iterations:\n",
    "        i += 1\n",
    "        time.sleep(pause_duration)\n",
    "        events = event_filter.get_new_entries()\n",
    "\n",
    "    if not events:\n",
    "        print('no events found in %s events filter.' % str(event_filter))\n",
    "    return events\n",
    "\n",
    "\n",
    "def process_enc_token(event):\n",
    "    # should get accessId and encryptedAccessToken in the event\n",
    "    print(\"token published event: %s\" % event)\n",
    "\n",
    "\n",
    "def test_keeper():\n",
    "    expire_seconds = 9999999999\n",
    "    asset_price = 100\n",
    "    ocean = Ocean(host='http://localhost', port=8545, config_path='config_local.ini')\n",
    "    market = ocean.market\n",
    "    token = ocean.token\n",
    "    auth = ocean.auth\n",
    "    provider_account = ocean.helper.web3.eth.accounts[0]\n",
    "    consumer_account = ocean.helper.web3.eth.accounts[1]\n",
    "    assert market.request_tokens(2000, provider_account)\n",
    "    assert market.request_tokens(2000, consumer_account)\n",
    "\n",
    "    # 1. Provider register an asset\n",
    "    asset_id = market.register_asset(json_dict['base']['name'],json_dict['base']['description'], asset_price, provider_account)\n",
    "    assert market.check_asset(asset_id)\n",
    "    assert asset_price == market.get_asset_price(asset_id)\n",
    "\n",
    "    json_dict['assetId'] = ocean.web3.toHex(asset_id)\n",
    "    ocean.metadata.register_asset(json_dict)\n",
    "    expiry = int(time.time() + expire_seconds)\n",
    "\n",
    "    pubprivkey = acl.generate_encryption_keys()\n",
    "    pubkey = pubprivkey.public_key\n",
    "    req = auth.concise_contract.initiateAccessRequest(asset_id,\n",
    "                                                      provider_account,\n",
    "                                                      pubkey,\n",
    "                                                      expiry,\n",
    "                                                      transact={'from': consumer_account})\n",
    "    receipt = ocean.helper.get_tx_receipt(req)\n",
    "\n",
    "    send_event = auth.contract.events.AccessConsentRequested().processReceipt(receipt)\n",
    "    request_id = send_event[0]['args']['_id']\n",
    "\n",
    "    assert auth.get_order_status(request_id) == 0 or auth.get_order_status(\n",
    "        request_id) == 1\n",
    "\n",
    "    # filter_token_published = ocean.helper.watch_event(auth.contract, 'EncryptedTokenPublished', process_enc_token, 0.5,\n",
    "    #                                                   fromBlock='latest')\n",
    "\n",
    "    i = 0\n",
    "    while (auth.get_order_status(request_id) == 1) is False and i < 100:\n",
    "        i += 1\n",
    "        time.sleep(0.1)\n",
    "\n",
    "    assert auth.get_order_status(request_id) == 1\n",
    "\n",
    "    token.token_approve(ocean.web3.toChecksumAddress(market.address),\n",
    "                        asset_price,\n",
    "                        consumer_account)\n",
    "\n",
    "    buyer_balance_start = token.get_token_balance(consumer_account)\n",
    "    seller_balance_start = token.get_token_balance(provider_account)\n",
    "    print('starting buyer balance = ', buyer_balance_start)\n",
    "    print('starting seller balance = ', seller_balance_start)\n",
    "\n",
    "    send_payment = market.contract_concise.sendPayment(request_id,\n",
    "                                                       provider_account,\n",
    "                                                       asset_price,\n",
    "                                                       expiry,\n",
    "                                                       transact={'from': consumer_account, 'gas': 400000})\n",
    "    receipt = ocean.helper.get_tx_receipt(send_payment)\n",
    "    print('Receipt: %s' % receipt)\n",
    "\n",
    "    print('buyer balance = ', token.get_token_balance(consumer_account))\n",
    "    print('seller balance = ', token.get_token_balance(provider_account))\n",
    "    ocean.metadata.retire_asset(convert_to_string(asset_id))\n",
    "\n",
    "\n",
    "    # events = get_events(filter_token_published)\n",
    "    # assert events\n",
    "    # assert events[0].args['_id'] == request_id\n",
    "    # on_chain_enc_token = events[0].args[\"_encryptedAccessToken\"]"
   ]
  },
  {
   "cell_type": "code",
   "execution_count": null,
   "metadata": {},
   "outputs": [],
   "source": []
  }
 ],
 "metadata": {
  "jupytext_formats": "py:percent",
  "kernelspec": {
   "display_name": "Python (mantaray3)",
   "language": "python",
   "name": "mantaray3"
  },
  "language_info": {
   "codemirror_mode": {
    "name": "ipython",
    "version": 3
   },
   "file_extension": ".py",
   "mimetype": "text/x-python",
   "name": "python",
   "nbconvert_exporter": "python",
   "pygments_lexer": "ipython3",
   "version": "3.7.0"
  },
  "main_language": "python"
 },
 "nbformat": 4,
 "nbformat_minor": 2
}
